{
 "cells": [
  {
   "cell_type": "markdown",
   "id": "98cc5e1c",
   "metadata": {},
   "source": [
    "## Ввод-вывод"
   ]
  },
  {
   "cell_type": "code",
   "execution_count": 7,
   "id": "674f6cdc",
   "metadata": {},
   "outputs": [
    {
     "name": "stdout",
     "output_type": "stream",
     "text": [
      "Hi guys\n"
     ]
    }
   ],
   "source": [
    "# print() функция для вывода чего-либо в консоль\n",
    "print('Hi guys')\n",
    "\n",
    "# Комменты можно оставлять через \"#\""
   ]
  },
  {
   "cell_type": "code",
   "execution_count": 8,
   "id": "f9c23c7e",
   "metadata": {},
   "outputs": [
    {
     "name": "stdout",
     "output_type": "stream",
     "text": [
      "Dake\n"
     ]
    }
   ],
   "source": [
    "# input() для считывания данных через консоль\n",
    "name = input()"
   ]
  },
  {
   "cell_type": "code",
   "execution_count": 9,
   "id": "a20da5cd",
   "metadata": {},
   "outputs": [
    {
     "name": "stdout",
     "output_type": "stream",
     "text": [
      "Dake\n"
     ]
    }
   ],
   "source": [
    "print(name)"
   ]
  },
  {
   "cell_type": "code",
   "execution_count": 1,
   "id": "daccc20b",
   "metadata": {},
   "outputs": [
    {
     "ename": "SyntaxError",
     "evalue": "unterminated string literal (detected at line 2) (3090142317.py, line 2)",
     "output_type": "error",
     "traceback": [
      "\u001b[0;36m  Cell \u001b[0;32mIn[1], line 2\u001b[0;36m\u001b[0m\n\u001b[0;31m    print('Hello)\u001b[0m\n\u001b[0m          ^\u001b[0m\n\u001b[0;31mSyntaxError\u001b[0m\u001b[0;31m:\u001b[0m unterminated string literal (detected at line 2)\n"
     ]
    }
   ],
   "source": [
    "# Syntax Errors\n",
    "print('Hello)"
   ]
  },
  {
   "cell_type": "markdown",
   "id": "66893776",
   "metadata": {},
   "source": [
    "## Создание переменных. Арифметические операции"
   ]
  },
  {
   "cell_type": "code",
   "execution_count": 2,
   "id": "75746a5d",
   "metadata": {},
   "outputs": [],
   "source": [
    "# Создание переменных и присвоение значения\n",
    "a = 10\n",
    "b = 25\n",
    "c = a + b"
   ]
  },
  {
   "cell_type": "code",
   "execution_count": 3,
   "id": "a1d35925",
   "metadata": {},
   "outputs": [
    {
     "name": "stdout",
     "output_type": "stream",
     "text": [
      "35\n"
     ]
    }
   ],
   "source": [
    "print(c)"
   ]
  },
  {
   "cell_type": "markdown",
   "id": "95fede70",
   "metadata": {},
   "source": [
    "<thead><tr><th><p style=\"text-align:center;\">Operator</p>\n",
    "\n",
    "</th><th><p style=\"text-align:center;\">Description</p>\n",
    "\n",
    "</th><th><p style=\"text-align:center;\">Syntax</p>\n",
    "\n",
    "</th></tr></thead><tbody><tr><th><p style=\"text-align:center;\">+</p>\n",
    "\n",
    "</th><th>Суммирование: Прибавляет 2 переменные</th><th><p style=\"text-align:center;\">x + y</p><div></div>\n",
    "\n",
    "</th></tr><tr><th><p style=\"text-align:center;\">–</p>\n",
    "\n",
    "</th><th>Вычитание: Минусует переменную от другой</th><th><p style=\"text-align:center;\">x – y</p>\n",
    "\n",
    "</th></tr><tr><th><p style=\"text-align:center;\">*</p>\n",
    "\n",
    "</th><th>Умножение: Умножает одну переменную на другую</th><th><p style=\"text-align:center;\">x * y</p>\n",
    "\n",
    "</th></tr><tr><th><p style=\"text-align:center;\">/</p>\n",
    "\n",
    "</th><th>Деление (возвращает float): Делит одну переменную на другую</th><th><p style=\"text-align:center;\">x / y</p>\n",
    "\n",
    "</th></tr><tr><th><p style=\"text-align:center;\">//</p>\n",
    "\n",
    "</th><th>Деление (возвращает floor): Делит одну переменную на другую</th><th><p style=\"text-align:center;\">x // y</p>\n",
    "\n",
    "</th></tr><tr><th><p style=\"text-align:center;\">%</p>\n",
    "\n",
    "</th><th>Модуль: возвращает остаток от делений одной переменной на другую</th><th><p style=\"text-align:center;\">x % y</p>\n",
    "\n",
    "</th></tr><tr><th><p style=\"text-align:center;\">**</p>\n",
    "\n",
    "</th><th>Возведение в степень (экпонента): Возвращает одну переменную возведенную в степень другой</th><th><p style=\"text-align:center;\">x ** y</p>\n",
    "\n",
    "</th></tr></tbody>"
   ]
  },
  {
   "cell_type": "code",
   "execution_count": 6,
   "id": "8035538a",
   "metadata": {},
   "outputs": [
    {
     "name": "stdout",
     "output_type": "stream",
     "text": [
      "Суммирую 10 25 = 35\n",
      "Вычитаю 10 25 = -15\n",
      "Умножаю 10 25 = 250\n",
      "Делю 10 25 = 0.4\n",
      "Делю без остатка 25 10 = 2\n",
      "Беру остаток от деления 127 25 = 2\n",
      "Возвожу в степень 10 25 = 10000000000000000000000000\n"
     ]
    }
   ],
   "source": [
    "# Примеры вычислений\n",
    "print('Суммирую', a, b, '=', a+b)\n",
    "print('Вычитаю', a, b, '=', a-b)\n",
    "print('Умножаю', a, b, '=', a*b)\n",
    "print('Делю', a, b, '=', a/b)\n",
    "print('Делю без остатка', b, a, '=', b//a)\n",
    "print('Беру остаток от деления', 127, b, '=', 127%b)\n",
    "print('Возвожу в степень', a, b, '=', a**b)\n",
    "# Сложные выражения со скобками\n"
   ]
  },
  {
   "cell_type": "code",
   "execution_count": 112,
   "id": "38b2a073",
   "metadata": {},
   "outputs": [],
   "source": [
    "# Примеры ceil, floor, round"
   ]
  },
  {
   "cell_type": "code",
   "execution_count": 10,
   "id": "dafbc2b7",
   "metadata": {},
   "outputs": [],
   "source": [
    "import math\n",
    "from math import ceil, floor, sqrt"
   ]
  },
  {
   "cell_type": "code",
   "execution_count": 12,
   "id": "c6588c65",
   "metadata": {},
   "outputs": [
    {
     "name": "stdout",
     "output_type": "stream",
     "text": [
      "ceil(22.5) 23\n",
      "floor(22.5) 22\n",
      "round(22.6) 22\n"
     ]
    }
   ],
   "source": [
    "print(\"ceil(22.5)\", ceil(22.5))\n",
    "print(\"floor(22.5)\", floor(22.5))\n",
    "print(\"round(22.6)\", round(22.5))"
   ]
  },
  {
   "cell_type": "markdown",
   "id": "8f6902b1",
   "metadata": {},
   "source": [
    "#### Дано два числа a и b. Найдите гипотенузу треугольника с заданными катетами.\n",
    "\n",
    "<br><br>**Входные данные** <br>\n",
    "В двух строках вводятся два числа (числа целые,положительные, не превышают 1000).\n",
    "\n",
    "\n",
    "<br><br>**Выходные данные** <br>\n",
    "Выведите ответ на задачу.\n",
    "\n",
    "<br><br> Пример <br>\n",
    "(3,4) -> 5.0"
   ]
  },
  {
   "cell_type": "code",
   "execution_count": 15,
   "id": "ff51c6d1",
   "metadata": {},
   "outputs": [
    {
     "name": "stdout",
     "output_type": "stream",
     "text": [
      "5\n",
      "6\n",
      "7.810249675906654\n"
     ]
    }
   ],
   "source": [
    "a = int(input())\n",
    "b = int(input())\n",
    "\n",
    "print( sqrt(a**2 + b**2) )"
   ]
  },
  {
   "cell_type": "markdown",
   "id": "688eb491",
   "metadata": {},
   "source": [
    "#### Дано натуральное число. Выведите его последнюю цифру.<br>\n",
    "\n",
    "Пример <br>\n",
    "179 -> 9"
   ]
  },
  {
   "cell_type": "code",
   "execution_count": 17,
   "id": "433fc0c2",
   "metadata": {},
   "outputs": [
    {
     "name": "stdout",
     "output_type": "stream",
     "text": [
      "1643\n",
      "3\n"
     ]
    }
   ],
   "source": [
    "number = int(input())\n",
    "print(number%10)"
   ]
  },
  {
   "cell_type": "markdown",
   "id": "232be7d8",
   "metadata": {},
   "source": [
    "#### Пирожок в столовой стоит a рублей и b копеек. Определите, сколько рублей и копеек нужно заплатить за n пирожков. <br>\n",
    "**Входные данные**<br>\n",
    "<br>\n",
    "Программа получает на вход три числа: a, b, n.<br>\n",
    "**Выходные данные**<br>\n",
    "<br>\n",
    "Программа должна вывести два числа: стоимость покупки в рублях и копейках.<br>\n",
    "Пример <br>\n",
    "(10,25,4) -> 41"
   ]
  },
  {
   "cell_type": "code",
   "execution_count": 19,
   "id": "90d1eb3f",
   "metadata": {},
   "outputs": [
    {
     "name": "stdout",
     "output_type": "stream",
     "text": [
      "12\n",
      "66\n",
      "90\n",
      "1139 40\n"
     ]
    }
   ],
   "source": [
    "price_in_rubles = int(input())\n",
    "price_in_kopeikas = int(input())\n",
    "n_pirozhkov = int(input())\n",
    "\n",
    "total_price_in_rubles = (price_in_rubles * n_pirozhkov) + (price_in_kopeikas * n_pirozhkov)//100\n",
    "total_price_in_kopeikas = (price_in_kopeikas * n_pirozhkov)%100\n",
    "\n",
    "print(total_price_in_rubles, total_price_in_kopeikas)"
   ]
  },
  {
   "cell_type": "markdown",
   "id": "4d6b45f5",
   "metadata": {},
   "source": [
    "## Типы данных"
   ]
  },
  {
   "cell_type": "code",
   "execution_count": 20,
   "id": "5cbb44cf",
   "metadata": {},
   "outputs": [],
   "source": [
    "# Текстовые типы данных\n",
    "sentence = \"Today i walked with my dog.\" # str (String)\n",
    "\n",
    "# Числовые типы данных\n",
    "x = 42      # int (Integer)\n",
    "pi = 3.1415 # float (Float)\n",
    "\n",
    "# Boolean Type:\n",
    "is_smart = True # bool (Booolean - True/False )\n",
    "\n",
    "# None Type:\n",
    "diagnosis = None\n",
    "\n",
    "# Sequence Types:\n",
    "families = ['Lanister', 'Baratheon', 'Stark', 'Targaryen'] # list\n",
    "car_gearbox = ('mechanical', 'automatic')  # tuple\n",
    "range_ten = range(1, 1000, 2) # range\n",
    "\n",
    "# Mapping Type: \n",
    "stock_mappings = {\n",
    "    'Apple': 'APPL',\n",
    "    'Nvidia': 'NVDA',\n",
    "    'Microsoft': 'MSFT'\n",
    "} # dict (Dictionary)\n",
    "\n",
    "# Set Types: \n",
    "fruits = {'apple', 'banana', 'orange', 'pineapple'} # set\n",
    "solar_system_planets = frozenset({'Mercury', 'Venus', 'Earth', 'Mars', 'Jupyter', 'Saturn', 'Uranus', 'Neptune'}) # frozenset\n",
    "\n",
    "# Binary Types: bytes, bytearray, memoryview\n"
   ]
  },
  {
   "cell_type": "code",
   "execution_count": 21,
   "id": "1e95e7d5",
   "metadata": {},
   "outputs": [
    {
     "name": "stdout",
     "output_type": "stream",
     "text": [
      "<class 'int'>\n",
      "<class 'bool'>\n",
      "<class 'float'>\n",
      "<class 'str'>\n"
     ]
    }
   ],
   "source": [
    "# Переменная может изменять свой тип динамически\n",
    "some_variable = 23\n",
    "print(type(some_variable))\n",
    "\n",
    "some_variable = True\n",
    "print(type(some_variable))\n",
    "\n",
    "some_variable = 23.5\n",
    "print(type(some_variable))\n",
    "\n",
    "some_variable = 'text'\n",
    "print(type(some_variable))"
   ]
  },
  {
   "cell_type": "code",
   "execution_count": null,
   "id": "fac358b4",
   "metadata": {},
   "outputs": [],
   "source": [
    "# type() - возвращает тип данной у переменной"
   ]
  },
  {
   "cell_type": "code",
   "execution_count": 29,
   "id": "bb72bddb",
   "metadata": {},
   "outputs": [
    {
     "name": "stdout",
     "output_type": "stream",
     "text": [
      "<class 'int'>\n",
      "<class 'str'>\n",
      "<class 'list'>\n",
      "252\n",
      "5.0\n"
     ]
    }
   ],
   "source": [
    "# Преобразование из одного типа в другой тип\n",
    "print(type(int('23123')))\n",
    "print(type(str(-2523)))\n",
    "print(type(list('24214')))\n",
    "print(int(252.11225))\n",
    "print(float(5))"
   ]
  },
  {
   "cell_type": "code",
   "execution_count": 36,
   "id": "92a9cdf8",
   "metadata": {},
   "outputs": [
    {
     "name": "stdout",
     "output_type": "stream",
     "text": [
      "True\n",
      "True\n",
      "False\n"
     ]
    }
   ],
   "source": [
    "# isinstance() - сравнивание типов данных\n",
    "a = 'SOS'\n",
    "another_text = 'OSO'\n",
    "some_boolean_flag = True\n",
    "print(isinstance('24122', str))\n",
    "print(isinstance(a, type(another_text)))\n",
    "print(isinstance(some_boolean_flag, list))"
   ]
  },
  {
   "cell_type": "markdown",
   "id": "50088b2a",
   "metadata": {},
   "source": [
    "<img src='https://files.realpython.com/media/t.78f3bacaa261.png' width='350' height='350' style=\"float: left;\">"
   ]
  },
  {
   "cell_type": "markdown",
   "id": "cc45d29a",
   "metadata": {},
   "source": [
    "<colgroup><col><col><col></colgroup><thead><tr><th style=\"width: 233.333px\">Operator</th><th style=\"width: 233.333px\">Description</th><th style=\"width: 233.333px\">Syntax</th></tr></thead><tbody><tr><td style=\"width: 233.333px\">&gt;</td><td  style=\"width: 233.333px\">Greater than: True if the left operand is greater than the right</td><td style=\"width: 233.333px\">x &gt; y</td></tr><tr><td  style=\"width: 233.333px\">&lt;</td><td  style=\"width: 233.333px\">Less than: True if the left operand is less than the right</td><td style=\"width: 233.333px\">x &lt; y</td></tr><tr><td style=\"width: 233.333px\">==</td><td style=\"width: 233.333px\">Equal to: True if both operands are equal</td><td style=\"width: 233.333px\">x == y</td></tr><tr><td style=\"width: 233.333px\">!=</td><td style=\"width: 233.333px\">Not equal to – True if operands are not equal</td><td style=\"width: 233.333px\">x != y</td></tr><tr><td style=\"width: 233.333px\">&gt;=</td><td style=\"width: 233.333px\">Greater than or equal to True if the left operand is greater than or equal to the right</td><td style=\"width: 233.333px\">x &gt;= y</td></tr><tr><td style=\"width: 233.333px\">&lt;=</td><td style=\"width: 233.333px\">Less than or equal to True if the left operand is less than or equal to the right</td><td style=\"width: 233.333px\">x &lt;= y</td></tr></tbody>"
   ]
  },
  {
   "cell_type": "code",
   "execution_count": 42,
   "id": "b44ecf4b",
   "metadata": {},
   "outputs": [
    {
     "name": "stdout",
     "output_type": "stream",
     "text": [
      "['Lanister', 'Baratheon', 'Stark', 'Targaryen']\n"
     ]
    }
   ],
   "source": [
    "print(families)"
   ]
  },
  {
   "cell_type": "code",
   "execution_count": 43,
   "id": "3ea8f8f6",
   "metadata": {},
   "outputs": [
    {
     "name": "stdout",
     "output_type": "stream",
     "text": [
      "yes 2\n",
      "yes 4\n",
      "third checked Start\n"
     ]
    }
   ],
   "source": [
    "x = 0\n",
    "y = 5\n",
    "\n",
    "# Пример if statement\n",
    "if y < x:\n",
    "    print('yes 1')\n",
    "\n",
    "if y > x:\n",
    "    print('yes 2')\n",
    "\n",
    "if y == x:\n",
    "    print('yes 3')\n",
    "\n",
    "if y: # Тоже самое что bool(y). Т.к. y != 0 то bool(y) = True\n",
    "    print('yes 4')\n",
    "\n",
    "if x:\n",
    "    print('yes 5')\n",
    "\n",
    "    \n",
    "    \n",
    "if families[0] == 'Lanisterr':\n",
    "    print('first checked Lanisterr')\n",
    "elif 'Baratheonn' in families:\n",
    "    print('second checked Baratheonn')\n",
    "elif 'Stark' in families:\n",
    "    print('third checked Start')\n",
    "else:\n",
    "    print('No matching families')\n",
    "# Пример с elif, else\n",
    "\n",
    "# Пример с несколькими кондициями\n",
    "\n",
    "# not , is , in , "
   ]
  },
  {
   "cell_type": "code",
   "execution_count": 44,
   "id": "16132451",
   "metadata": {},
   "outputs": [
    {
     "name": "stdout",
     "output_type": "stream",
     "text": [
      "False\n"
     ]
    }
   ],
   "source": [
    "print(families[0] == 'Lanisterr')"
   ]
  },
  {
   "cell_type": "markdown",
   "id": "c94bba30",
   "metadata": {},
   "source": [
    "- Логические Операторы: Логические операторы (and, or, not) могут сочетать или инвертировать условия.\n",
    "- Операторы Принадлежности: in и not in проверяют, существует ли значение в коллекции.\n",
    "- Ноль, None и Пустые Коллекции: 0, None, [], {}, () и '' (пустая строка) оцениваются как False в условиях.\n",
    "- Приоритет: У логических операторов есть правила приоритета; not имеет наивысший приоритет, за ним следует and, затем or."
   ]
  },
  {
   "cell_type": "code",
   "execution_count": null,
   "id": "7b085bd5",
   "metadata": {},
   "outputs": [],
   "source": [
    "# Операторы in is "
   ]
  },
  {
   "cell_type": "markdown",
   "id": "237adeda",
   "metadata": {},
   "source": [
    "Входные данные\n",
    "Даны два целых числа, каждое число записано в отдельной строке.<br>\n",
    "\n",
    "Выходные данные\n",
    "Выведите наибольшее из данных чисел.\n",
    "\n"
   ]
  },
  {
   "cell_type": "code",
   "execution_count": 48,
   "id": "70557b3d",
   "metadata": {},
   "outputs": [
    {
     "name": "stdout",
     "output_type": "stream",
     "text": [
      "261\n",
      "266\n",
      "Maximum_number is: 266\n"
     ]
    }
   ],
   "source": [
    "number_1 = int(input())\n",
    "number_2 = int(input())\n",
    "\n",
    "if number_1 > number_2:\n",
    "    print('Maximum number is:', number_1)\n",
    "elif number_1 == number_2:\n",
    "    print('Numbers are equal')\n",
    "else:\n",
    "    print('Maximum_number is:', number_2)"
   ]
  },
  {
   "cell_type": "code",
   "execution_count": null,
   "id": "ab4ba66a",
   "metadata": {},
   "outputs": [],
   "source": [
    "#and = умножение\n",
    "#or = прибавление\n",
    "\n",
    "print(True or True and False or False or True)\n",
    "print(True + True * False + False + True >= 1)"
   ]
  },
  {
   "cell_type": "markdown",
   "id": "1aa2211d",
   "metadata": {},
   "source": [
    "Требуется определить, является ли данный год високосным. (Напомним, что год является високосным, если его номер кратен 4, но не кратен 100, а также если он кратен 400.)\n",
    "\n",
    "Входные данные\n",
    "Вводится единственное число - номер года (целое, положительное, не превышает 30000).\n",
    "\n",
    "Выходные данные\n",
    "Требуется вывести слово YES, если год является високосным и NO - в противном случае."
   ]
  },
  {
   "cell_type": "code",
   "execution_count": null,
   "id": "dbd41ef7",
   "metadata": {},
   "outputs": [],
   "source": [
    "year = int(input())\n",
    "if year % 4 == 0 and year % 100 != 0 :\n",
    "    "
   ]
  },
  {
   "cell_type": "markdown",
   "id": "a7cbdd7e",
   "metadata": {},
   "source": [
    "Требуется определить, бьет ли ладья, стоящая на клетке с указанными координатами (номер строки и номер столбца), фигуру, стоящую на другой указанной клетке.\n",
    "Входные данные\n",
    "\n",
    "Вводятся четыре числа: координаты ладьи (два числа) и координаты другой фигуры (два числа), каждое число вводится в отдельной строке. Координаты - целые числа в интервале от 1 до 8.\n",
    "Выходные данные\n",
    "\n",
    "Требуется вывести слово YES, если ладья сможет побить фигуру за 1 ход и NO - в противном случае.\n"
   ]
  },
  {
   "cell_type": "code",
   "execution_count": 59,
   "id": "dee9c757",
   "metadata": {},
   "outputs": [
    {
     "name": "stdout",
     "output_type": "stream",
     "text": [
      "1\n",
      "1\n",
      "1\n",
      "1\n",
      "NO\n"
     ]
    }
   ],
   "source": [
    "x1 = int(input())\n",
    "y1 = int(input())\n",
    "x2 = int(input())\n",
    "y2 = int(input())\n",
    "\n",
    "if (x1 == x2 or y1 == y2) and (x1, y1) != (x2, y2):\n",
    "    print('YES')\n",
    "else:\n",
    "    print('NO')"
   ]
  },
  {
   "cell_type": "markdown",
   "id": "64a0a2be",
   "metadata": {},
   "source": [
    "# Входные данные\n",
    "\n",
    "Даны три натуральных числа a, b, c, записанные в отдельных строках. Определите, существует ли невырожденный треугольник с такими сторонами.\n",
    "Выходные данные\n",
    "\n",
    "Если треугольник существует, выведите строку YES, иначе выведите строку NO.\n"
   ]
  },
  {
   "cell_type": "code",
   "execution_count": 2,
   "id": "04ac20a9",
   "metadata": {},
   "outputs": [
    {
     "name": "stdout",
     "output_type": "stream",
     "text": [
      "10\n",
      "5\n",
      "4\n",
      "No\n"
     ]
    }
   ],
   "source": [
    "a = int(input())\n",
    "b = int(input())\n",
    "c = int(input())\n",
    "\n",
    "if (a+b) < c or (b+c)<a or (c+a) < b:\n",
    "    print(\"No\")\n",
    "else:\n",
    "    print(\"YES\")"
   ]
  },
  {
   "cell_type": "code",
   "execution_count": null,
   "id": "141afe53",
   "metadata": {},
   "outputs": [],
   "source": []
  },
  {
   "cell_type": "code",
   "execution_count": null,
   "id": "c5c8358d",
   "metadata": {},
   "outputs": [],
   "source": []
  }
 ],
 "metadata": {
  "kernelspec": {
   "display_name": "Python 3 (ipykernel)",
   "language": "python",
   "name": "python3"
  },
  "language_info": {
   "codemirror_mode": {
    "name": "ipython",
    "version": 3
   },
   "file_extension": ".py",
   "mimetype": "text/x-python",
   "name": "python",
   "nbconvert_exporter": "python",
   "pygments_lexer": "ipython3",
   "version": "3.10.12"
  }
 },
 "nbformat": 4,
 "nbformat_minor": 5
}
