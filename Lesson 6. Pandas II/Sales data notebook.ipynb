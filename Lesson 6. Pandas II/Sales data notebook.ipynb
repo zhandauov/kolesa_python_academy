{
 "cells": [
  {
   "cell_type": "code",
   "execution_count": 1,
   "id": "415d50e5",
   "metadata": {},
   "outputs": [],
   "source": [
    "import pandas as pd\n",
    "import numpy as np\n",
    "\n",
    "# Seed for reproducibility\n",
    "np.random.seed(0)\n",
    "\n",
    "# Generate 10,000 rows of data\n",
    "n_rows = 10000\n",
    "\n",
    "# OrderID - unique and sequential\n",
    "order_ids = np.arange(1, n_rows + 1)\n",
    "\n",
    "# ProductID - simulate 100 unique products\n",
    "product_ids = np.random.randint(100, 200, n_rows)\n",
    "\n",
    "# Quantity - random quantity between 1 and 5\n",
    "quantities = np.random.randint(1, 6, n_rows)\n",
    "\n",
    "# OrderDate - random dates within a year\n",
    "order_dates = pd.date_range(start='2023-01-01', periods=n_rows, freq='H').date\n",
    "order_dates = np.random.choice(order_dates, n_rows)\n",
    "\n",
    "# CustomerPhone - simulate phone numbers\n",
    "customer_phones = ['+1' + ''.join(np.random.choice(list('1234567890'), 10)) for _ in range(n_rows)]\n",
    "\n",
    "# ProductCategory - simulate a few categories\n",
    "categories = ['Electronics', 'Clothing', 'Home & Kitchen', 'Books', 'Toys', 'Grocery']\n",
    "product_categories = np.random.choice(categories, n_rows)\n",
    "\n",
    "sales_records_df = pd.DataFrame({\n",
    "    'OrderID': order_ids,\n",
    "    'ProductID': product_ids,\n",
    "    'Quantity': quantities,\n",
    "    'OrderDate': order_dates,\n",
    "    'CustomerPhone': customer_phones,\n",
    "    'ProductCategory': product_categories\n",
    "})\n",
    "\n",
    "sales_records_df.to_csv('sales_records.csv', index=False)\n"
   ]
  },
  {
   "cell_type": "code",
   "execution_count": 2,
   "id": "bf54df32",
   "metadata": {},
   "outputs": [],
   "source": [
    "# ProductID - 100 unique IDs\n",
    "product_ids = np.arange(100, 200)\n",
    "\n",
    "# ProductName - simulate names\n",
    "product_names = ['Product_' + str(i) for i in range(100, 200)]\n",
    "\n",
    "# ProductPrice - random prices\n",
    "product_prices = np.random.uniform(5.99, 999.99, 100).round(2)\n",
    "\n",
    "# SupplierID - simulate 10 suppliers\n",
    "supplier_ids = ['S' + str(i).zfill(2) for i in np.random.randint(1, 11, 100)]\n",
    "\n",
    "product_info_df = pd.DataFrame({\n",
    "    'ProductID': product_ids,\n",
    "    'ProductName': product_names,\n",
    "    'ProductPrice': product_prices,\n",
    "    'SupplierID': supplier_ids\n",
    "})\n",
    "\n",
    "product_info_df.to_csv('product_info.csv', index=False)\n"
   ]
  },
  {
   "cell_type": "code",
   "execution_count": 39,
   "id": "cee936c7",
   "metadata": {},
   "outputs": [
    {
     "data": {
      "text/plain": [
       "(10000, 6)"
      ]
     },
     "execution_count": 39,
     "metadata": {},
     "output_type": "execute_result"
    }
   ],
   "source": [
    "sales_records_df.shape"
   ]
  },
  {
   "cell_type": "code",
   "execution_count": 40,
   "id": "2af3a524",
   "metadata": {},
   "outputs": [
    {
     "data": {
      "text/plain": [
       "(100, 4)"
      ]
     },
     "execution_count": 40,
     "metadata": {},
     "output_type": "execute_result"
    }
   ],
   "source": [
    "product_info_df.shape"
   ]
  },
  {
   "cell_type": "code",
   "execution_count": 5,
   "id": "3e28bacf",
   "metadata": {},
   "outputs": [
    {
     "data": {
      "text/html": [
       "<div>\n",
       "<style scoped>\n",
       "    .dataframe tbody tr th:only-of-type {\n",
       "        vertical-align: middle;\n",
       "    }\n",
       "\n",
       "    .dataframe tbody tr th {\n",
       "        vertical-align: top;\n",
       "    }\n",
       "\n",
       "    .dataframe thead th {\n",
       "        text-align: right;\n",
       "    }\n",
       "</style>\n",
       "<table border=\"1\" class=\"dataframe\">\n",
       "  <thead>\n",
       "    <tr style=\"text-align: right;\">\n",
       "      <th></th>\n",
       "      <th>OrderID</th>\n",
       "      <th>ProductID</th>\n",
       "      <th>Quantity</th>\n",
       "      <th>OrderDate</th>\n",
       "      <th>CustomerPhone</th>\n",
       "      <th>ProductCategory</th>\n",
       "    </tr>\n",
       "  </thead>\n",
       "  <tbody>\n",
       "    <tr>\n",
       "      <th>0</th>\n",
       "      <td>1</td>\n",
       "      <td>144</td>\n",
       "      <td>3</td>\n",
       "      <td>2023-09-13</td>\n",
       "      <td>+17363428460</td>\n",
       "      <td>Books</td>\n",
       "    </tr>\n",
       "    <tr>\n",
       "      <th>1</th>\n",
       "      <td>2</td>\n",
       "      <td>147</td>\n",
       "      <td>5</td>\n",
       "      <td>2023-04-12</td>\n",
       "      <td>+12118787697</td>\n",
       "      <td>Books</td>\n",
       "    </tr>\n",
       "    <tr>\n",
       "      <th>2</th>\n",
       "      <td>3</td>\n",
       "      <td>164</td>\n",
       "      <td>2</td>\n",
       "      <td>2023-01-16</td>\n",
       "      <td>+12125312223</td>\n",
       "      <td>Electronics</td>\n",
       "    </tr>\n",
       "    <tr>\n",
       "      <th>3</th>\n",
       "      <td>4</td>\n",
       "      <td>167</td>\n",
       "      <td>3</td>\n",
       "      <td>2024-02-16</td>\n",
       "      <td>+13520091358</td>\n",
       "      <td>Grocery</td>\n",
       "    </tr>\n",
       "    <tr>\n",
       "      <th>4</th>\n",
       "      <td>5</td>\n",
       "      <td>167</td>\n",
       "      <td>2</td>\n",
       "      <td>2023-02-22</td>\n",
       "      <td>+10335371036</td>\n",
       "      <td>Electronics</td>\n",
       "    </tr>\n",
       "  </tbody>\n",
       "</table>\n",
       "</div>"
      ],
      "text/plain": [
       "   OrderID  ProductID  Quantity   OrderDate CustomerPhone ProductCategory\n",
       "0        1        144         3  2023-09-13  +17363428460           Books\n",
       "1        2        147         5  2023-04-12  +12118787697           Books\n",
       "2        3        164         2  2023-01-16  +12125312223     Electronics\n",
       "3        4        167         3  2024-02-16  +13520091358         Grocery\n",
       "4        5        167         2  2023-02-22  +10335371036     Electronics"
      ]
     },
     "execution_count": 5,
     "metadata": {},
     "output_type": "execute_result"
    }
   ],
   "source": [
    "sales_records_df.head()"
   ]
  },
  {
   "cell_type": "code",
   "execution_count": 6,
   "id": "021d0a61",
   "metadata": {},
   "outputs": [
    {
     "data": {
      "text/html": [
       "<div>\n",
       "<style scoped>\n",
       "    .dataframe tbody tr th:only-of-type {\n",
       "        vertical-align: middle;\n",
       "    }\n",
       "\n",
       "    .dataframe tbody tr th {\n",
       "        vertical-align: top;\n",
       "    }\n",
       "\n",
       "    .dataframe thead th {\n",
       "        text-align: right;\n",
       "    }\n",
       "</style>\n",
       "<table border=\"1\" class=\"dataframe\">\n",
       "  <thead>\n",
       "    <tr style=\"text-align: right;\">\n",
       "      <th></th>\n",
       "      <th>ProductID</th>\n",
       "      <th>ProductName</th>\n",
       "      <th>ProductPrice</th>\n",
       "      <th>SupplierID</th>\n",
       "    </tr>\n",
       "  </thead>\n",
       "  <tbody>\n",
       "    <tr>\n",
       "      <th>0</th>\n",
       "      <td>100</td>\n",
       "      <td>Product_100</td>\n",
       "      <td>742.67</td>\n",
       "      <td>S10</td>\n",
       "    </tr>\n",
       "    <tr>\n",
       "      <th>1</th>\n",
       "      <td>101</td>\n",
       "      <td>Product_101</td>\n",
       "      <td>582.37</td>\n",
       "      <td>S09</td>\n",
       "    </tr>\n",
       "    <tr>\n",
       "      <th>2</th>\n",
       "      <td>102</td>\n",
       "      <td>Product_102</td>\n",
       "      <td>526.64</td>\n",
       "      <td>S03</td>\n",
       "    </tr>\n",
       "    <tr>\n",
       "      <th>3</th>\n",
       "      <td>103</td>\n",
       "      <td>Product_103</td>\n",
       "      <td>131.84</td>\n",
       "      <td>S03</td>\n",
       "    </tr>\n",
       "    <tr>\n",
       "      <th>4</th>\n",
       "      <td>104</td>\n",
       "      <td>Product_104</td>\n",
       "      <td>753.52</td>\n",
       "      <td>S04</td>\n",
       "    </tr>\n",
       "  </tbody>\n",
       "</table>\n",
       "</div>"
      ],
      "text/plain": [
       "   ProductID  ProductName  ProductPrice SupplierID\n",
       "0        100  Product_100        742.67        S10\n",
       "1        101  Product_101        582.37        S09\n",
       "2        102  Product_102        526.64        S03\n",
       "3        103  Product_103        131.84        S03\n",
       "4        104  Product_104        753.52        S04"
      ]
     },
     "execution_count": 6,
     "metadata": {},
     "output_type": "execute_result"
    }
   ],
   "source": [
    "product_info_df.head()"
   ]
  },
  {
   "cell_type": "code",
   "execution_count": null,
   "id": "6f78f14b",
   "metadata": {},
   "outputs": [],
   "source": [
    "Представим, что у нас есть два файла CSV:\n",
    "\n",
    "    sales_records.csv - записи о продажах продуктов:\n",
    "        OrderID: уникальный идентификатор заказа.\n",
    "        ProductID: идентификатор продукта.\n",
    "        Quantity: количество проданных единиц.\n",
    "        OrderDate: дата заказа.\n",
    "        CustomerID: идентификатор покупателя.\n",
    "\n",
    "    product_info.csv - информация о продуктах:\n",
    "        ProductID: идентификатор продукта.\n",
    "        ProductName: название продукта.\n",
    "        ProductPrice: цена продукта за единицу.\n",
    "        SupplierID: идентификатор поставщика.\n",
    "\n",
    "Задачи для набора данных по продажам\n",
    "\n",
    "    Объединение таблиц:\n",
    "    Объедините sales_records.csv и product_info.csv по ProductID.\n",
    "\n",
    "    Изменение типа столбцов:\n",
    "        Преобразуйте OrderDate в тип pd.Timestamp.\n",
    "        Преобразуйте ProductPrice и Quantity в тип float.\n",
    "\n",
    "    Добавьте новые столбцы на основе других столбцов:\n",
    "        Рассчитайте общую стоимость продажи для каждого заказа и добавьте её как новый столбец TotalSale.\n",
    "\n",
    "    Фильтрация:\n",
    "        Оставьте только те продажи, которые превышают \"$100\" в TotalSale.\n",
    "\n",
    "    Сортировка:\n",
    "        Отсортируйте отфильтрованный датафрейм по TotalSale в порядке убывания.\n",
    "\n",
    "    Агрегация:\n",
    "        Подсчитайте общее количество продаж (в единицах) для каждого ProductName.\n",
    "\n",
    "    Анализ динамики продаж:\n",
    "        Определите месяц с наивысшим общим TotalSale и подсчитайте общее количество продаж в этом месяце.\n"
   ]
  },
  {
   "cell_type": "code",
   "execution_count": null,
   "id": "589e2fe0",
   "metadata": {},
   "outputs": [],
   "source": [
    "product_info_df, sales_records_df"
   ]
  },
  {
   "cell_type": "code",
   "execution_count": 44,
   "id": "70edafc3",
   "metadata": {},
   "outputs": [],
   "source": [
    "def camel_to_snake(name):\n",
    "    name = re.sub('(.)([A-Z][a-z]+)', r'\\1_\\2', name)\n",
    "    return re.sub('([a-z0-9])([A-Z])', r'\\1_\\2', name).lower()"
   ]
  },
  {
   "cell_type": "code",
   "execution_count": 47,
   "id": "907691e4",
   "metadata": {},
   "outputs": [],
   "source": [
    "import re"
   ]
  },
  {
   "cell_type": "code",
   "execution_count": 48,
   "id": "db6f3e92",
   "metadata": {},
   "outputs": [
    {
     "data": {
      "text/plain": [
       "'my_variable'"
      ]
     },
     "execution_count": 48,
     "metadata": {},
     "output_type": "execute_result"
    }
   ],
   "source": [
    "camel_to_snake('MyVariable')"
   ]
  },
  {
   "cell_type": "code",
   "execution_count": 54,
   "id": "7d7faf13",
   "metadata": {},
   "outputs": [],
   "source": [
    "new_columns = [camel_to_snake(i) for i in list(product_info_df.columns)]"
   ]
  },
  {
   "cell_type": "code",
   "execution_count": 60,
   "id": "a4cbb7b8",
   "metadata": {},
   "outputs": [],
   "source": [
    "product_info_df = pd.DataFrame(product_info_df.values, columns=new_columns)"
   ]
  },
  {
   "cell_type": "code",
   "execution_count": 62,
   "id": "1a697836",
   "metadata": {},
   "outputs": [
    {
     "data": {
      "text/html": [
       "<div>\n",
       "<style scoped>\n",
       "    .dataframe tbody tr th:only-of-type {\n",
       "        vertical-align: middle;\n",
       "    }\n",
       "\n",
       "    .dataframe tbody tr th {\n",
       "        vertical-align: top;\n",
       "    }\n",
       "\n",
       "    .dataframe thead th {\n",
       "        text-align: right;\n",
       "    }\n",
       "</style>\n",
       "<table border=\"1\" class=\"dataframe\">\n",
       "  <thead>\n",
       "    <tr style=\"text-align: right;\">\n",
       "      <th></th>\n",
       "      <th>OrderID</th>\n",
       "      <th>ProductID</th>\n",
       "      <th>Quantity</th>\n",
       "      <th>OrderDate</th>\n",
       "      <th>CustomerPhone</th>\n",
       "      <th>ProductCategory</th>\n",
       "    </tr>\n",
       "  </thead>\n",
       "  <tbody>\n",
       "    <tr>\n",
       "      <th>0</th>\n",
       "      <td>1</td>\n",
       "      <td>144</td>\n",
       "      <td>3</td>\n",
       "      <td>2023-09-13</td>\n",
       "      <td>+17363428460</td>\n",
       "      <td>Books</td>\n",
       "    </tr>\n",
       "    <tr>\n",
       "      <th>1</th>\n",
       "      <td>2</td>\n",
       "      <td>147</td>\n",
       "      <td>5</td>\n",
       "      <td>2023-04-12</td>\n",
       "      <td>+12118787697</td>\n",
       "      <td>Books</td>\n",
       "    </tr>\n",
       "    <tr>\n",
       "      <th>2</th>\n",
       "      <td>3</td>\n",
       "      <td>164</td>\n",
       "      <td>2</td>\n",
       "      <td>2023-01-16</td>\n",
       "      <td>+12125312223</td>\n",
       "      <td>Electronics</td>\n",
       "    </tr>\n",
       "    <tr>\n",
       "      <th>3</th>\n",
       "      <td>4</td>\n",
       "      <td>167</td>\n",
       "      <td>3</td>\n",
       "      <td>2024-02-16</td>\n",
       "      <td>+13520091358</td>\n",
       "      <td>Grocery</td>\n",
       "    </tr>\n",
       "    <tr>\n",
       "      <th>4</th>\n",
       "      <td>5</td>\n",
       "      <td>167</td>\n",
       "      <td>2</td>\n",
       "      <td>2023-02-22</td>\n",
       "      <td>+10335371036</td>\n",
       "      <td>Electronics</td>\n",
       "    </tr>\n",
       "    <tr>\n",
       "      <th>...</th>\n",
       "      <td>...</td>\n",
       "      <td>...</td>\n",
       "      <td>...</td>\n",
       "      <td>...</td>\n",
       "      <td>...</td>\n",
       "      <td>...</td>\n",
       "    </tr>\n",
       "    <tr>\n",
       "      <th>9995</th>\n",
       "      <td>9996</td>\n",
       "      <td>107</td>\n",
       "      <td>2</td>\n",
       "      <td>2023-02-10</td>\n",
       "      <td>+14047533827</td>\n",
       "      <td>Toys</td>\n",
       "    </tr>\n",
       "    <tr>\n",
       "      <th>9996</th>\n",
       "      <td>9997</td>\n",
       "      <td>129</td>\n",
       "      <td>1</td>\n",
       "      <td>2023-09-22</td>\n",
       "      <td>+16064787706</td>\n",
       "      <td>Electronics</td>\n",
       "    </tr>\n",
       "    <tr>\n",
       "      <th>9997</th>\n",
       "      <td>9998</td>\n",
       "      <td>139</td>\n",
       "      <td>1</td>\n",
       "      <td>2023-01-08</td>\n",
       "      <td>+18155151173</td>\n",
       "      <td>Books</td>\n",
       "    </tr>\n",
       "    <tr>\n",
       "      <th>9998</th>\n",
       "      <td>9999</td>\n",
       "      <td>172</td>\n",
       "      <td>1</td>\n",
       "      <td>2023-12-10</td>\n",
       "      <td>+10098208387</td>\n",
       "      <td>Clothing</td>\n",
       "    </tr>\n",
       "    <tr>\n",
       "      <th>9999</th>\n",
       "      <td>10000</td>\n",
       "      <td>148</td>\n",
       "      <td>2</td>\n",
       "      <td>2023-08-21</td>\n",
       "      <td>+11003026063</td>\n",
       "      <td>Home &amp; Kitchen</td>\n",
       "    </tr>\n",
       "  </tbody>\n",
       "</table>\n",
       "<p>10000 rows × 6 columns</p>\n",
       "</div>"
      ],
      "text/plain": [
       "      OrderID  ProductID  Quantity   OrderDate CustomerPhone ProductCategory\n",
       "0           1        144         3  2023-09-13  +17363428460           Books\n",
       "1           2        147         5  2023-04-12  +12118787697           Books\n",
       "2           3        164         2  2023-01-16  +12125312223     Electronics\n",
       "3           4        167         3  2024-02-16  +13520091358         Grocery\n",
       "4           5        167         2  2023-02-22  +10335371036     Electronics\n",
       "...       ...        ...       ...         ...           ...             ...\n",
       "9995     9996        107         2  2023-02-10  +14047533827            Toys\n",
       "9996     9997        129         1  2023-09-22  +16064787706     Electronics\n",
       "9997     9998        139         1  2023-01-08  +18155151173           Books\n",
       "9998     9999        172         1  2023-12-10  +10098208387        Clothing\n",
       "9999    10000        148         2  2023-08-21  +11003026063  Home & Kitchen\n",
       "\n",
       "[10000 rows x 6 columns]"
      ]
     },
     "execution_count": 62,
     "metadata": {},
     "output_type": "execute_result"
    }
   ],
   "source": [
    "sales_records_df"
   ]
  },
  {
   "cell_type": "code",
   "execution_count": 64,
   "id": "d049538f",
   "metadata": {},
   "outputs": [],
   "source": [
    "merged_df = pd.merge(sales_records_df, product_info_df, how='inner', left_on='ProductID', right_on='product_id')"
   ]
  },
  {
   "cell_type": "code",
   "execution_count": 65,
   "id": "02993ac0",
   "metadata": {},
   "outputs": [
    {
     "data": {
      "text/html": [
       "<div>\n",
       "<style scoped>\n",
       "    .dataframe tbody tr th:only-of-type {\n",
       "        vertical-align: middle;\n",
       "    }\n",
       "\n",
       "    .dataframe tbody tr th {\n",
       "        vertical-align: top;\n",
       "    }\n",
       "\n",
       "    .dataframe thead th {\n",
       "        text-align: right;\n",
       "    }\n",
       "</style>\n",
       "<table border=\"1\" class=\"dataframe\">\n",
       "  <thead>\n",
       "    <tr style=\"text-align: right;\">\n",
       "      <th></th>\n",
       "      <th>OrderID</th>\n",
       "      <th>ProductID</th>\n",
       "      <th>Quantity</th>\n",
       "      <th>OrderDate</th>\n",
       "      <th>CustomerPhone</th>\n",
       "      <th>ProductCategory</th>\n",
       "      <th>product_id</th>\n",
       "      <th>product_name</th>\n",
       "      <th>product_price</th>\n",
       "      <th>supplier_id</th>\n",
       "    </tr>\n",
       "  </thead>\n",
       "  <tbody>\n",
       "    <tr>\n",
       "      <th>0</th>\n",
       "      <td>1</td>\n",
       "      <td>144</td>\n",
       "      <td>3</td>\n",
       "      <td>2023-09-13</td>\n",
       "      <td>+17363428460</td>\n",
       "      <td>Books</td>\n",
       "      <td>144</td>\n",
       "      <td>Product_144</td>\n",
       "      <td>580.66</td>\n",
       "      <td>S09</td>\n",
       "    </tr>\n",
       "    <tr>\n",
       "      <th>1</th>\n",
       "      <td>217</td>\n",
       "      <td>144</td>\n",
       "      <td>2</td>\n",
       "      <td>2023-05-18</td>\n",
       "      <td>+18339016602</td>\n",
       "      <td>Books</td>\n",
       "      <td>144</td>\n",
       "      <td>Product_144</td>\n",
       "      <td>580.66</td>\n",
       "      <td>S09</td>\n",
       "    </tr>\n",
       "    <tr>\n",
       "      <th>2</th>\n",
       "      <td>270</td>\n",
       "      <td>144</td>\n",
       "      <td>4</td>\n",
       "      <td>2023-05-16</td>\n",
       "      <td>+18698997842</td>\n",
       "      <td>Grocery</td>\n",
       "      <td>144</td>\n",
       "      <td>Product_144</td>\n",
       "      <td>580.66</td>\n",
       "      <td>S09</td>\n",
       "    </tr>\n",
       "    <tr>\n",
       "      <th>3</th>\n",
       "      <td>306</td>\n",
       "      <td>144</td>\n",
       "      <td>4</td>\n",
       "      <td>2023-10-02</td>\n",
       "      <td>+14929732498</td>\n",
       "      <td>Books</td>\n",
       "      <td>144</td>\n",
       "      <td>Product_144</td>\n",
       "      <td>580.66</td>\n",
       "      <td>S09</td>\n",
       "    </tr>\n",
       "    <tr>\n",
       "      <th>4</th>\n",
       "      <td>420</td>\n",
       "      <td>144</td>\n",
       "      <td>5</td>\n",
       "      <td>2024-01-21</td>\n",
       "      <td>+14447721130</td>\n",
       "      <td>Electronics</td>\n",
       "      <td>144</td>\n",
       "      <td>Product_144</td>\n",
       "      <td>580.66</td>\n",
       "      <td>S09</td>\n",
       "    </tr>\n",
       "  </tbody>\n",
       "</table>\n",
       "</div>"
      ],
      "text/plain": [
       "   OrderID ProductID  Quantity   OrderDate CustomerPhone ProductCategory  \\\n",
       "0        1       144         3  2023-09-13  +17363428460           Books   \n",
       "1      217       144         2  2023-05-18  +18339016602           Books   \n",
       "2      270       144         4  2023-05-16  +18698997842         Grocery   \n",
       "3      306       144         4  2023-10-02  +14929732498           Books   \n",
       "4      420       144         5  2024-01-21  +14447721130     Electronics   \n",
       "\n",
       "  product_id product_name product_price supplier_id  \n",
       "0        144  Product_144        580.66         S09  \n",
       "1        144  Product_144        580.66         S09  \n",
       "2        144  Product_144        580.66         S09  \n",
       "3        144  Product_144        580.66         S09  \n",
       "4        144  Product_144        580.66         S09  "
      ]
     },
     "execution_count": 65,
     "metadata": {},
     "output_type": "execute_result"
    }
   ],
   "source": [
    "merged_df.head()"
   ]
  },
  {
   "cell_type": "code",
   "execution_count": 66,
   "id": "046205c3",
   "metadata": {},
   "outputs": [
    {
     "data": {
      "text/plain": [
       "OrderID             int64\n",
       "ProductID          object\n",
       "Quantity            int64\n",
       "OrderDate          object\n",
       "CustomerPhone      object\n",
       "ProductCategory    object\n",
       "product_id         object\n",
       "product_name       object\n",
       "product_price      object\n",
       "supplier_id        object\n",
       "dtype: object"
      ]
     },
     "execution_count": 66,
     "metadata": {},
     "output_type": "execute_result"
    }
   ],
   "source": [
    "merged_df.dtypes"
   ]
  },
  {
   "cell_type": "code",
   "execution_count": 69,
   "id": "97fff21e",
   "metadata": {},
   "outputs": [
    {
     "data": {
      "text/plain": [
       "pandas._libs.tslibs.timestamps.Timestamp"
      ]
     },
     "execution_count": 69,
     "metadata": {},
     "output_type": "execute_result"
    }
   ],
   "source": [
    "pd.Timestamp"
   ]
  },
  {
   "cell_type": "code",
   "execution_count": 71,
   "id": "e497445e",
   "metadata": {},
   "outputs": [],
   "source": [
    "merged_df['OrderDate'] = pd.to_datetime(merged_df['OrderDate'])"
   ]
  },
  {
   "cell_type": "code",
   "execution_count": 77,
   "id": "63bbb8e6",
   "metadata": {},
   "outputs": [],
   "source": [
    "merged_df['Quantity'] = merged_df['Quantity'].astype(float)\n"
   ]
  },
  {
   "cell_type": "code",
   "execution_count": 72,
   "id": "aeb8b72c",
   "metadata": {},
   "outputs": [],
   "source": [
    "import numpy as np"
   ]
  },
  {
   "cell_type": "code",
   "execution_count": 73,
   "id": "cdfb2c7f",
   "metadata": {},
   "outputs": [
    {
     "data": {
      "text/plain": [
       "numpy.float64"
      ]
     },
     "execution_count": 73,
     "metadata": {},
     "output_type": "execute_result"
    }
   ],
   "source": [
    "np.float64"
   ]
  },
  {
   "cell_type": "code",
   "execution_count": 76,
   "id": "78314f83",
   "metadata": {},
   "outputs": [],
   "source": [
    "merged_df['product_price'] = merged_df['product_price'].astype(float)"
   ]
  },
  {
   "cell_type": "code",
   "execution_count": 78,
   "id": "b09884f3",
   "metadata": {},
   "outputs": [
    {
     "data": {
      "text/plain": [
       "OrderID                     int64\n",
       "ProductID                  object\n",
       "Quantity                  float64\n",
       "OrderDate          datetime64[ns]\n",
       "CustomerPhone              object\n",
       "ProductCategory            object\n",
       "product_id                 object\n",
       "product_name               object\n",
       "product_price             float64\n",
       "supplier_id                object\n",
       "dtype: object"
      ]
     },
     "execution_count": 78,
     "metadata": {},
     "output_type": "execute_result"
    }
   ],
   "source": [
    "merged_df.dtypes"
   ]
  },
  {
   "cell_type": "code",
   "execution_count": 79,
   "id": "edfc69a7",
   "metadata": {},
   "outputs": [
    {
     "data": {
      "text/html": [
       "<div>\n",
       "<style scoped>\n",
       "    .dataframe tbody tr th:only-of-type {\n",
       "        vertical-align: middle;\n",
       "    }\n",
       "\n",
       "    .dataframe tbody tr th {\n",
       "        vertical-align: top;\n",
       "    }\n",
       "\n",
       "    .dataframe thead th {\n",
       "        text-align: right;\n",
       "    }\n",
       "</style>\n",
       "<table border=\"1\" class=\"dataframe\">\n",
       "  <thead>\n",
       "    <tr style=\"text-align: right;\">\n",
       "      <th></th>\n",
       "      <th>OrderID</th>\n",
       "      <th>ProductID</th>\n",
       "      <th>Quantity</th>\n",
       "      <th>OrderDate</th>\n",
       "      <th>CustomerPhone</th>\n",
       "      <th>ProductCategory</th>\n",
       "      <th>product_id</th>\n",
       "      <th>product_name</th>\n",
       "      <th>product_price</th>\n",
       "      <th>supplier_id</th>\n",
       "    </tr>\n",
       "  </thead>\n",
       "  <tbody>\n",
       "    <tr>\n",
       "      <th>0</th>\n",
       "      <td>1</td>\n",
       "      <td>144</td>\n",
       "      <td>3.0</td>\n",
       "      <td>2023-09-13</td>\n",
       "      <td>+17363428460</td>\n",
       "      <td>Books</td>\n",
       "      <td>144</td>\n",
       "      <td>Product_144</td>\n",
       "      <td>580.66</td>\n",
       "      <td>S09</td>\n",
       "    </tr>\n",
       "    <tr>\n",
       "      <th>1</th>\n",
       "      <td>217</td>\n",
       "      <td>144</td>\n",
       "      <td>2.0</td>\n",
       "      <td>2023-05-18</td>\n",
       "      <td>+18339016602</td>\n",
       "      <td>Books</td>\n",
       "      <td>144</td>\n",
       "      <td>Product_144</td>\n",
       "      <td>580.66</td>\n",
       "      <td>S09</td>\n",
       "    </tr>\n",
       "  </tbody>\n",
       "</table>\n",
       "</div>"
      ],
      "text/plain": [
       "   OrderID ProductID  Quantity  OrderDate CustomerPhone ProductCategory  \\\n",
       "0        1       144       3.0 2023-09-13  +17363428460           Books   \n",
       "1      217       144       2.0 2023-05-18  +18339016602           Books   \n",
       "\n",
       "  product_id product_name  product_price supplier_id  \n",
       "0        144  Product_144         580.66         S09  \n",
       "1        144  Product_144         580.66         S09  "
      ]
     },
     "execution_count": 79,
     "metadata": {},
     "output_type": "execute_result"
    }
   ],
   "source": [
    "merged_df.head(2)"
   ]
  },
  {
   "cell_type": "code",
   "execution_count": 81,
   "id": "5b5288e9",
   "metadata": {},
   "outputs": [],
   "source": [
    "merged_df['total_price'] = merged_df['Quantity'] * merged_df['product_price']"
   ]
  },
  {
   "cell_type": "code",
   "execution_count": 82,
   "id": "a109e46f",
   "metadata": {},
   "outputs": [],
   "source": [
    "merged_df.sort_values(by='total_price', ascending=False, inplace=True)"
   ]
  },
  {
   "cell_type": "code",
   "execution_count": 83,
   "id": "f5e74e69",
   "metadata": {},
   "outputs": [
    {
     "data": {
      "text/html": [
       "<div>\n",
       "<style scoped>\n",
       "    .dataframe tbody tr th:only-of-type {\n",
       "        vertical-align: middle;\n",
       "    }\n",
       "\n",
       "    .dataframe tbody tr th {\n",
       "        vertical-align: top;\n",
       "    }\n",
       "\n",
       "    .dataframe thead th {\n",
       "        text-align: right;\n",
       "    }\n",
       "</style>\n",
       "<table border=\"1\" class=\"dataframe\">\n",
       "  <thead>\n",
       "    <tr style=\"text-align: right;\">\n",
       "      <th></th>\n",
       "      <th>OrderID</th>\n",
       "      <th>ProductID</th>\n",
       "      <th>Quantity</th>\n",
       "      <th>OrderDate</th>\n",
       "      <th>CustomerPhone</th>\n",
       "      <th>ProductCategory</th>\n",
       "      <th>product_id</th>\n",
       "      <th>product_name</th>\n",
       "      <th>product_price</th>\n",
       "      <th>supplier_id</th>\n",
       "      <th>total_price</th>\n",
       "    </tr>\n",
       "  </thead>\n",
       "  <tbody>\n",
       "    <tr>\n",
       "      <th>4283</th>\n",
       "      <td>9859</td>\n",
       "      <td>153</td>\n",
       "      <td>5.0</td>\n",
       "      <td>2023-06-17</td>\n",
       "      <td>+19683366121</td>\n",
       "      <td>Books</td>\n",
       "      <td>153</td>\n",
       "      <td>Product_153</td>\n",
       "      <td>989.27</td>\n",
       "      <td>S03</td>\n",
       "      <td>4946.35</td>\n",
       "    </tr>\n",
       "    <tr>\n",
       "      <th>4265</th>\n",
       "      <td>8115</td>\n",
       "      <td>153</td>\n",
       "      <td>5.0</td>\n",
       "      <td>2023-08-12</td>\n",
       "      <td>+13991668251</td>\n",
       "      <td>Home &amp; Kitchen</td>\n",
       "      <td>153</td>\n",
       "      <td>Product_153</td>\n",
       "      <td>989.27</td>\n",
       "      <td>S03</td>\n",
       "      <td>4946.35</td>\n",
       "    </tr>\n",
       "    <tr>\n",
       "      <th>4266</th>\n",
       "      <td>8136</td>\n",
       "      <td>153</td>\n",
       "      <td>5.0</td>\n",
       "      <td>2023-03-20</td>\n",
       "      <td>+16572017794</td>\n",
       "      <td>Grocery</td>\n",
       "      <td>153</td>\n",
       "      <td>Product_153</td>\n",
       "      <td>989.27</td>\n",
       "      <td>S03</td>\n",
       "      <td>4946.35</td>\n",
       "    </tr>\n",
       "    <tr>\n",
       "      <th>4217</th>\n",
       "      <td>2218</td>\n",
       "      <td>153</td>\n",
       "      <td>5.0</td>\n",
       "      <td>2023-05-17</td>\n",
       "      <td>+15677426358</td>\n",
       "      <td>Grocery</td>\n",
       "      <td>153</td>\n",
       "      <td>Product_153</td>\n",
       "      <td>989.27</td>\n",
       "      <td>S03</td>\n",
       "      <td>4946.35</td>\n",
       "    </tr>\n",
       "    <tr>\n",
       "      <th>4256</th>\n",
       "      <td>7336</td>\n",
       "      <td>153</td>\n",
       "      <td>5.0</td>\n",
       "      <td>2024-01-04</td>\n",
       "      <td>+19320130220</td>\n",
       "      <td>Clothing</td>\n",
       "      <td>153</td>\n",
       "      <td>Product_153</td>\n",
       "      <td>989.27</td>\n",
       "      <td>S03</td>\n",
       "      <td>4946.35</td>\n",
       "    </tr>\n",
       "  </tbody>\n",
       "</table>\n",
       "</div>"
      ],
      "text/plain": [
       "      OrderID ProductID  Quantity  OrderDate CustomerPhone ProductCategory  \\\n",
       "4283     9859       153       5.0 2023-06-17  +19683366121           Books   \n",
       "4265     8115       153       5.0 2023-08-12  +13991668251  Home & Kitchen   \n",
       "4266     8136       153       5.0 2023-03-20  +16572017794         Grocery   \n",
       "4217     2218       153       5.0 2023-05-17  +15677426358         Grocery   \n",
       "4256     7336       153       5.0 2024-01-04  +19320130220        Clothing   \n",
       "\n",
       "     product_id product_name  product_price supplier_id  total_price  \n",
       "4283        153  Product_153         989.27         S03      4946.35  \n",
       "4265        153  Product_153         989.27         S03      4946.35  \n",
       "4266        153  Product_153         989.27         S03      4946.35  \n",
       "4217        153  Product_153         989.27         S03      4946.35  \n",
       "4256        153  Product_153         989.27         S03      4946.35  "
      ]
     },
     "execution_count": 83,
     "metadata": {},
     "output_type": "execute_result"
    }
   ],
   "source": [
    "merged_df.head(5)"
   ]
  },
  {
   "cell_type": "code",
   "execution_count": 89,
   "id": "a6c90316",
   "metadata": {},
   "outputs": [
    {
     "data": {
      "text/plain": [
       "product_id\n",
       "100    335.0\n",
       "101    282.0\n",
       "102    261.0\n",
       "103    354.0\n",
       "104    305.0\n",
       "       ...  \n",
       "195    298.0\n",
       "196    265.0\n",
       "197    339.0\n",
       "198    252.0\n",
       "199    307.0\n",
       "Name: Quantity, Length: 100, dtype: float64"
      ]
     },
     "execution_count": 89,
     "metadata": {},
     "output_type": "execute_result"
    }
   ],
   "source": [
    "merged_df.groupby(by='product_id')['Quantity'].sum()"
   ]
  },
  {
   "cell_type": "code",
   "execution_count": 92,
   "id": "b0a71438",
   "metadata": {},
   "outputs": [
    {
     "data": {
      "text/plain": [
       "4283     6\n",
       "4265     8\n",
       "4266     3\n",
       "4217     5\n",
       "4256     1\n",
       "        ..\n",
       "9779    11\n",
       "9772     3\n",
       "9770     1\n",
       "9769     5\n",
       "9820    11\n",
       "Name: OrderDate, Length: 10000, dtype: int32"
      ]
     },
     "execution_count": 92,
     "metadata": {},
     "output_type": "execute_result"
    }
   ],
   "source": [
    "merged_df.OrderDate.dt.month\n",
    "merged_df.OrderDate.dt.year"
   ]
  },
  {
   "cell_type": "code",
   "execution_count": 98,
   "id": "7af9e4ed",
   "metadata": {},
   "outputs": [],
   "source": [
    "merged_df['year_month'] = merged_df.OrderDate.astype(str).str[:7]"
   ]
  },
  {
   "cell_type": "code",
   "execution_count": 99,
   "id": "31aa43c3",
   "metadata": {},
   "outputs": [
    {
     "data": {
      "text/html": [
       "<div>\n",
       "<style scoped>\n",
       "    .dataframe tbody tr th:only-of-type {\n",
       "        vertical-align: middle;\n",
       "    }\n",
       "\n",
       "    .dataframe tbody tr th {\n",
       "        vertical-align: top;\n",
       "    }\n",
       "\n",
       "    .dataframe thead th {\n",
       "        text-align: right;\n",
       "    }\n",
       "</style>\n",
       "<table border=\"1\" class=\"dataframe\">\n",
       "  <thead>\n",
       "    <tr style=\"text-align: right;\">\n",
       "      <th></th>\n",
       "      <th>OrderID</th>\n",
       "      <th>ProductID</th>\n",
       "      <th>Quantity</th>\n",
       "      <th>OrderDate</th>\n",
       "      <th>CustomerPhone</th>\n",
       "      <th>ProductCategory</th>\n",
       "      <th>product_id</th>\n",
       "      <th>product_name</th>\n",
       "      <th>product_price</th>\n",
       "      <th>supplier_id</th>\n",
       "      <th>total_price</th>\n",
       "      <th>year_month</th>\n",
       "    </tr>\n",
       "  </thead>\n",
       "  <tbody>\n",
       "    <tr>\n",
       "      <th>4283</th>\n",
       "      <td>9859</td>\n",
       "      <td>153</td>\n",
       "      <td>5.0</td>\n",
       "      <td>2023-06-17</td>\n",
       "      <td>+19683366121</td>\n",
       "      <td>Books</td>\n",
       "      <td>153</td>\n",
       "      <td>Product_153</td>\n",
       "      <td>989.27</td>\n",
       "      <td>S03</td>\n",
       "      <td>4946.35</td>\n",
       "      <td>2023-06</td>\n",
       "    </tr>\n",
       "    <tr>\n",
       "      <th>4265</th>\n",
       "      <td>8115</td>\n",
       "      <td>153</td>\n",
       "      <td>5.0</td>\n",
       "      <td>2023-08-12</td>\n",
       "      <td>+13991668251</td>\n",
       "      <td>Home &amp; Kitchen</td>\n",
       "      <td>153</td>\n",
       "      <td>Product_153</td>\n",
       "      <td>989.27</td>\n",
       "      <td>S03</td>\n",
       "      <td>4946.35</td>\n",
       "      <td>2023-08</td>\n",
       "    </tr>\n",
       "    <tr>\n",
       "      <th>4266</th>\n",
       "      <td>8136</td>\n",
       "      <td>153</td>\n",
       "      <td>5.0</td>\n",
       "      <td>2023-03-20</td>\n",
       "      <td>+16572017794</td>\n",
       "      <td>Grocery</td>\n",
       "      <td>153</td>\n",
       "      <td>Product_153</td>\n",
       "      <td>989.27</td>\n",
       "      <td>S03</td>\n",
       "      <td>4946.35</td>\n",
       "      <td>2023-03</td>\n",
       "    </tr>\n",
       "    <tr>\n",
       "      <th>4217</th>\n",
       "      <td>2218</td>\n",
       "      <td>153</td>\n",
       "      <td>5.0</td>\n",
       "      <td>2023-05-17</td>\n",
       "      <td>+15677426358</td>\n",
       "      <td>Grocery</td>\n",
       "      <td>153</td>\n",
       "      <td>Product_153</td>\n",
       "      <td>989.27</td>\n",
       "      <td>S03</td>\n",
       "      <td>4946.35</td>\n",
       "      <td>2023-05</td>\n",
       "    </tr>\n",
       "    <tr>\n",
       "      <th>4256</th>\n",
       "      <td>7336</td>\n",
       "      <td>153</td>\n",
       "      <td>5.0</td>\n",
       "      <td>2024-01-04</td>\n",
       "      <td>+19320130220</td>\n",
       "      <td>Clothing</td>\n",
       "      <td>153</td>\n",
       "      <td>Product_153</td>\n",
       "      <td>989.27</td>\n",
       "      <td>S03</td>\n",
       "      <td>4946.35</td>\n",
       "      <td>2024-01</td>\n",
       "    </tr>\n",
       "  </tbody>\n",
       "</table>\n",
       "</div>"
      ],
      "text/plain": [
       "      OrderID ProductID  Quantity  OrderDate CustomerPhone ProductCategory  \\\n",
       "4283     9859       153       5.0 2023-06-17  +19683366121           Books   \n",
       "4265     8115       153       5.0 2023-08-12  +13991668251  Home & Kitchen   \n",
       "4266     8136       153       5.0 2023-03-20  +16572017794         Grocery   \n",
       "4217     2218       153       5.0 2023-05-17  +15677426358         Grocery   \n",
       "4256     7336       153       5.0 2024-01-04  +19320130220        Clothing   \n",
       "\n",
       "     product_id product_name  product_price supplier_id  total_price  \\\n",
       "4283        153  Product_153         989.27         S03      4946.35   \n",
       "4265        153  Product_153         989.27         S03      4946.35   \n",
       "4266        153  Product_153         989.27         S03      4946.35   \n",
       "4217        153  Product_153         989.27         S03      4946.35   \n",
       "4256        153  Product_153         989.27         S03      4946.35   \n",
       "\n",
       "     year_month  \n",
       "4283    2023-06  \n",
       "4265    2023-08  \n",
       "4266    2023-03  \n",
       "4217    2023-05  \n",
       "4256    2024-01  "
      ]
     },
     "execution_count": 99,
     "metadata": {},
     "output_type": "execute_result"
    }
   ],
   "source": [
    "merged_df.head(5)"
   ]
  },
  {
   "cell_type": "code",
   "execution_count": 101,
   "id": "78ce983e",
   "metadata": {},
   "outputs": [],
   "source": [
    "revenue_by_month = merged_df.groupby(by='year_month')['total_price'].sum()"
   ]
  },
  {
   "cell_type": "code",
   "execution_count": 103,
   "id": "ddef4d82",
   "metadata": {},
   "outputs": [
    {
     "data": {
      "text/plain": [
       "year_month\n",
       "2023-01    1104005.95\n",
       "2023-02     998188.34\n",
       "2023-03    1193339.65\n",
       "2023-04    1102042.29\n",
       "2023-05    1040401.36\n",
       "2023-06    1114722.68\n",
       "2023-07    1190637.20\n",
       "2023-08    1183954.44\n",
       "2023-09    1058897.69\n",
       "2023-10    1081047.70\n",
       "2023-11    1140691.09\n",
       "2023-12    1059195.55\n",
       "2024-01    1194418.07\n",
       "2024-02     752990.00\n",
       "Name: total_price, dtype: float64"
      ]
     },
     "execution_count": 103,
     "metadata": {},
     "output_type": "execute_result"
    }
   ],
   "source": [
    "revenue_by_month"
   ]
  },
  {
   "cell_type": "code",
   "execution_count": null,
   "id": "774ec88a",
   "metadata": {},
   "outputs": [],
   "source": []
  },
  {
   "cell_type": "code",
   "execution_count": null,
   "id": "ba7b1ad7",
   "metadata": {},
   "outputs": [],
   "source": []
  },
  {
   "cell_type": "code",
   "execution_count": 104,
   "id": "8680771c",
   "metadata": {},
   "outputs": [
    {
     "name": "stdout",
     "output_type": "stream",
     "text": [
      "Месяц с наивысшим общим объемом продаж: 2024-01, Общая сумма продаж: 1194418.07\n"
     ]
    }
   ],
   "source": [
    "# Series.idxmax()\n",
    "highest_sales_month = revenue_by_month.idxmax()\n",
    "highest_sales_value = revenue_by_month.max()\n",
    "\n",
    "\n",
    "# Вывод результатов\n",
    "print(f\"Месяц с наивысшим общим объемом продаж: {highest_sales_month}, Общая сумма продаж: {highest_sales_value}\")\n"
   ]
  },
  {
   "cell_type": "code",
   "execution_count": 19,
   "id": "b221029e",
   "metadata": {},
   "outputs": [
    {
     "name": "stdout",
     "output_type": "stream",
     "text": [
      "Defaulting to user installation because normal site-packages is not writeable\n",
      "Requirement already satisfied: seaborn in /home/zhango/.local/lib/python3.10/site-packages (0.13.2)\n",
      "Requirement already satisfied: numpy!=1.24.0,>=1.20 in /home/zhango/.local/lib/python3.10/site-packages (from seaborn) (1.26.2)\n",
      "Requirement already satisfied: matplotlib!=3.6.1,>=3.4 in /usr/local/lib/python3.10/dist-packages (from seaborn) (3.8.2)\n",
      "Requirement already satisfied: pandas>=1.2 in /home/zhango/.local/lib/python3.10/site-packages (from seaborn) (2.1.3)\n",
      "Requirement already satisfied: contourpy>=1.0.1 in /usr/local/lib/python3.10/dist-packages (from matplotlib!=3.6.1,>=3.4->seaborn) (1.2.0)\n",
      "Requirement already satisfied: packaging>=20.0 in /usr/lib/python3/dist-packages (from matplotlib!=3.6.1,>=3.4->seaborn) (21.3)\n",
      "Requirement already satisfied: python-dateutil>=2.7 in /usr/local/lib/python3.10/dist-packages (from matplotlib!=3.6.1,>=3.4->seaborn) (2.8.2)\n",
      "Requirement already satisfied: pyparsing>=2.3.1 in /home/zhango/.local/lib/python3.10/site-packages (from matplotlib!=3.6.1,>=3.4->seaborn) (3.1.1)\n",
      "Requirement already satisfied: fonttools>=4.22.0 in /usr/local/lib/python3.10/dist-packages (from matplotlib!=3.6.1,>=3.4->seaborn) (4.46.0)\n",
      "Requirement already satisfied: pillow>=8 in /usr/lib/python3/dist-packages (from matplotlib!=3.6.1,>=3.4->seaborn) (9.0.1)\n",
      "Requirement already satisfied: cycler>=0.10 in /usr/local/lib/python3.10/dist-packages (from matplotlib!=3.6.1,>=3.4->seaborn) (0.12.1)\n",
      "Requirement already satisfied: kiwisolver>=1.3.1 in /usr/local/lib/python3.10/dist-packages (from matplotlib!=3.6.1,>=3.4->seaborn) (1.4.5)\n",
      "Requirement already satisfied: tzdata>=2022.1 in /home/zhango/.local/lib/python3.10/site-packages (from pandas>=1.2->seaborn) (2023.3)\n",
      "Requirement already satisfied: pytz>=2020.1 in /usr/lib/python3/dist-packages (from pandas>=1.2->seaborn) (2022.1)\n",
      "Requirement already satisfied: six>=1.5 in /usr/lib/python3/dist-packages (from python-dateutil>=2.7->matplotlib!=3.6.1,>=3.4->seaborn) (1.16.0)\n"
     ]
    }
   ],
   "source": [
    "!pip install seaborn"
   ]
  },
  {
   "cell_type": "code",
   "execution_count": 20,
   "id": "3f30ae33",
   "metadata": {},
   "outputs": [
    {
     "name": "stderr",
     "output_type": "stream",
     "text": [
      "/usr/lib/python3/dist-packages/scipy/__init__.py:146: UserWarning: A NumPy version >=1.17.3 and <1.25.0 is required for this version of SciPy (detected version 1.26.2\n",
      "  warnings.warn(f\"A NumPy version >={np_minversion} and <{np_maxversion}\"\n"
     ]
    },
    {
     "data": {
      "image/png": "[encoded data removed]",
      "text/plain": [
       "<Figure size 1000x600 with 1 Axes>"
      ]
     },
     "metadata": {},
     "output_type": "display_data"
    }
   ],
   "source": [
    "import matplotlib.pyplot as plt\n",
    "import seaborn as sns\n",
    "\n",
    "# Гистограмма общих продаж\n",
    "plt.figure(figsize=(10, 6))\n",
    "sns.histplot(merged_df['TotalSale'], bins=30, kde=True)\n",
    "plt.title('Распределение общих продаж')\n",
    "plt.xlabel('Общая сумма продаж')\n",
    "plt.ylabel('Количество заказов')\n",
    "plt.show()\n"
   ]
  },
  {
   "cell_type": "code",
   "execution_count": 21,
   "id": "02b25727",
   "metadata": {},
   "outputs": [
    {
     "data": {
      "image/png": "[encoded data removed]",
      "text/plain": [
       "<Figure size 1400x700 with 1 Axes>"
      ]
     },
     "metadata": {},
     "output_type": "display_data"
    }
   ],
   "source": [
    "plt.figure(figsize=(14, 7))\n",
    "sales_by_month.plot(kind='line', marker='o')\n",
    "plt.title('Динамика общих продаж по месяцам')\n",
    "plt.xlabel('Месяц и год')\n",
    "plt.ylabel('Общая сумма продаж')\n",
    "plt.xticks(rotation=45)\n",
    "plt.grid(True)\n",
    "plt.show()\n"
   ]
  },
  {
   "cell_type": "code",
   "execution_count": 22,
   "id": "7d2f1055",
   "metadata": {},
   "outputs": [
    {
     "data": {
      "image/png": "[encoded data removed]",
      "text/plain": [
       "<Figure size 1200x800 with 1 Axes>"
      ]
     },
     "metadata": {},
     "output_type": "display_data"
    }
   ],
   "source": [
    "# Агрегация данных по категориям\n",
    "sales_by_category = merged_df.groupby('ProductCategory')['Quantity'].sum().sort_values(ascending=False)\n",
    "\n",
    "plt.figure(figsize=(12, 8))\n",
    "sales_by_category.plot(kind='bar')\n",
    "plt.title('Количество продаж по категориям продуктов')\n",
    "plt.xlabel('Категория продукта')\n",
    "plt.ylabel('Количество проданных единиц')\n",
    "plt.xticks(rotation=45)\n",
    "plt.show()\n"
   ]
  },
  {
   "cell_type": "code",
   "execution_count": null,
   "id": "f7bdaee4",
   "metadata": {},
   "outputs": [],
   "source": []
  },
  {
   "cell_type": "code",
   "execution_count": null,
   "id": "b7568023",
   "metadata": {},
   "outputs": [],
   "source": []
  },
  {
   "cell_type": "code",
   "execution_count": null,
   "id": "95669e78",
   "metadata": {},
   "outputs": [],
   "source": []
  },
  {
   "cell_type": "code",
   "execution_count": null,
   "id": "1756ed38",
   "metadata": {},
   "outputs": [],
   "source": []
  },
  {
   "cell_type": "code",
   "execution_count": null,
   "id": "cce216e7",
   "metadata": {},
   "outputs": [],
   "source": []
  },
  {
   "cell_type": "code",
   "execution_count": null,
   "id": "5b799f10",
   "metadata": {},
   "outputs": [],
   "source": []
  },
  {
   "cell_type": "code",
   "execution_count": null,
   "id": "e185a3a8",
   "metadata": {},
   "outputs": [],
   "source": []
  },
  {
   "cell_type": "code",
   "execution_count": null,
   "id": "fdfff433",
   "metadata": {},
   "outputs": [],
   "source": []
  },
  {
   "cell_type": "code",
   "execution_count": null,
   "id": "d5fa3d47",
   "metadata": {},
   "outputs": [],
   "source": []
  }
 ],
 "metadata": {
  "kernelspec": {
   "display_name": "Python 3 (ipykernel)",
   "language": "python",
   "name": "python3"
  },
  "language_info": {
   "codemirror_mode": {
    "name": "ipython",
    "version": 3
   },
   "file_extension": ".py",
   "mimetype": "text/x-python",
   "name": "python",
   "nbconvert_exporter": "python",
   "pygments_lexer": "ipython3",
   "version": "3.10.12"
  }
 },
 "nbformat": 4,
 "nbformat_minor": 5
}
