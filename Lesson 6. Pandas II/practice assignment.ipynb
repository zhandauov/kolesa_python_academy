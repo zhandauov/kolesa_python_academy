{
 "cells": [
  {
   "cell_type": "code",
   "execution_count": 3,
   "id": "ecd81586",
   "metadata": {},
   "outputs": [],
   "source": [
    "import pandas as pd"
   ]
  },
  {
   "cell_type": "code",
   "execution_count": 7,
   "id": "862380e9",
   "metadata": {},
   "outputs": [
    {
     "ename": "SyntaxError",
     "evalue": "invalid character '«' (U+00AB) (2271739968.py, line 24)",
     "output_type": "error",
     "traceback": [
      "\u001b[0;36m  Cell \u001b[0;32mIn[7], line 24\u001b[0;36m\u001b[0m\n\u001b[0;31m    Отфильтруйте приемы по категории «Кардиология», у которых сумма счета превышает 200 долларов США.\u001b[0m\n\u001b[0m                                     ^\u001b[0m\n\u001b[0;31mSyntaxError\u001b[0m\u001b[0;31m:\u001b[0m invalid character '«' (U+00AB)\n"
     ]
    }
   ],
   "source": [
    "Учитывая наборы данных \"Patient_records.csv\" и \"appointment_records.csv\", задачи:\n",
    "    \n",
    "1. Объединить таблицы\n",
    "Объедините файлы Patient_records.csv appointment_records.csv через PatientID. \n",
    "Убедитесь, что включены все встречи, даже если сведения о пациенте отсутствуют (подсказка: рассмотрите возможность использования не inner join).\n",
    "\n",
    "2. Изменить тип столбцов\n",
    "\n",
    "Преобразуйте столбец \"BillingAmount\" в тип float, если это еще не сделано.\n",
    "Преобразуйте столбец \"BirthDate\" в тип pd.Timestamp, если это еще не сделано.\n",
    "Преобразуйте столбец \"AppointmentDate\" в тип pd.Timestamp, если это еще не сделано.\n",
    "\n",
    "3. Добавьте новые столбцы на основе другого столбца\n",
    "\n",
    "Рассчитайте возраст каждого пациента на момент приема. Добавьте это как новый столбец AgeAtAppointment. Для простоты можно не учитывать месяц и день рождения\n",
    "и даты приема\n",
    "\n",
    "4. Фильтрация\n",
    "\n",
    "Оставьте только приемы в Департаменте «Кардиологии», у которых сумма счета превышает 200 долларов.\n",
    "\n",
    "5. Сортировка\n",
    "\n",
    "Отсортируйте полученный df из задачи 4 по AgeAtAppointment в порядке убывания.\n",
    "\n",
    "\n",
    "6. Пациенты, посещающие несколько отделений.\n",
    "\n",
    "Определите пациентов, которые были на приеме как минимум в 3 разных отделениях. \n",
    "Отфильтруйте объединенный набор данных, чтобы включить только записи об этих пациентах.\n",
    "\n",
    "\n",
    "7. Постоянные пациенты с частыми посещениями\n",
    "\n",
    "Отфильтруйте пациентов, у которых было более 5 посещений."
   ]
  },
  {
   "cell_type": "code",
   "execution_count": null,
   "id": "f7e56e79",
   "metadata": {},
   "outputs": [],
   "source": []
  },
  {
   "cell_type": "code",
   "execution_count": null,
   "id": "5b4bc576",
   "metadata": {},
   "outputs": [],
   "source": []
  }
 ],
 "metadata": {
  "kernelspec": {
   "display_name": "Python 3 (ipykernel)",
   "language": "python",
   "name": "python3"
  },
  "language_info": {
   "codemirror_mode": {
    "name": "ipython",
    "version": 3
   },
   "file_extension": ".py",
   "mimetype": "text/x-python",
   "name": "python",
   "nbconvert_exporter": "python",
   "pygments_lexer": "ipython3",
   "version": "3.10.12"
  }
 },
 "nbformat": 4,
 "nbformat_minor": 5
}
