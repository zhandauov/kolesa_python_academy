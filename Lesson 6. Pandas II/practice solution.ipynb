{
 "cells": [
  {
   "cell_type": "code",
   "execution_count": 6,
   "id": "7cee9d06",
   "metadata": {},
   "outputs": [],
   "source": [
    "import pandas as pd\n",
    "import numpy as np\n",
    "\n",
    "# Setting a seed for reproducibility\n",
    "np.random.seed(42)\n",
    "\n",
    "# Generating patient records\n",
    "n_patients = 5000\n",
    "patient_ids = np.arange(1, n_patients + 1)\n",
    "full_names = ['Patient_' + str(i) for i in range(1, n_patients + 1)]\n",
    "birth_dates = pd.date_range(start='1930-01-01', end='2012-12-31', periods=n_patients).date\n",
    "genders = np.random.choice(['Male', 'Female'], n_patients)\n",
    "phone_numbers = ['+1' + ''.join(np.random.choice(list('1234567890'), 10)) for _ in range(n_patients)]\n",
    "\n",
    "# Creating the DataFrame\n",
    "patient_records_df = pd.DataFrame({\n",
    "    'PatientID': patient_ids,\n",
    "    'FullName': full_names,\n",
    "    'BirthDate': birth_dates,\n",
    "    'Gender': genders,\n",
    "    'PhoneNumber': phone_numbers\n",
    "})\n",
    "\n",
    "# Saving the DataFrame to a CSV file\n",
    "patient_records_df.to_csv('patient_records.csv', index=False)\n"
   ]
  },
  {
   "cell_type": "code",
   "execution_count": 16,
   "id": "99ed0736",
   "metadata": {},
   "outputs": [],
   "source": [
    "# Appointment records\n",
    "n_appointments = 10000\n",
    "patient_ids_appointments = np.random.choice(patient_records_df['PatientID'], n_appointments, replace=True)\n",
    "\n",
    "# Generating appointment dates\n",
    "start_date = np.datetime64('2023-01-01')\n",
    "appointment_dates = [start_date + np.timedelta64(np.random.randint(0, 365), 'D') for _ in range(n_appointments)]\n",
    "appointment_dates.sort()  # Sorting to maintain chronological order\n",
    "appointment_dates = np.array(appointment_dates).astype('datetime64[s]')\n",
    "\n",
    "doctor_names = ['Doctor_' + str(i) for i in np.random.randint(1, 51, n_appointments)]\n",
    "departments = np.random.choice(['Cardiology', 'General Practice', 'Pediatrics', 'Orthopedics', 'Dermatology'], n_appointments)\n",
    "visit_reasons = ['Reason_' + str(i) for i in np.random.randint(1, 101, n_appointments)]\n",
    "billing_amounts = np.random.uniform(50, 500, n_appointments).round(2)\n",
    "\n",
    "# Creating the DataFrame\n",
    "appointment_records_df = pd.DataFrame({\n",
    "    'AppointmentID': np.arange(1, n_appointments + 1),\n",
    "    'PatientID': patient_ids_appointments,\n",
    "    'AppointmentDate': appointment_dates,\n",
    "    'DoctorName': doctor_names,\n",
    "    'Department': departments,\n",
    "    'VisitReason': visit_reasons,\n",
    "    'BillingAmount': billing_amounts\n",
    "})\n",
    "\n",
    "# Saving the DataFrame to a CSV file\n",
    "appointment_records_df.to_csv('appointment_records.csv', index=False)\n"
   ]
  },
  {
   "cell_type": "markdown",
   "id": "fe7e733d",
   "metadata": {},
   "source": [
    "## Решение"
   ]
  },
  {
   "cell_type": "code",
   "execution_count": 50,
   "id": "9401ebc1",
   "metadata": {},
   "outputs": [
    {
     "data": {
      "text/html": [
       "<div>\n",
       "<style scoped>\n",
       "    .dataframe tbody tr th:only-of-type {\n",
       "        vertical-align: middle;\n",
       "    }\n",
       "\n",
       "    .dataframe tbody tr th {\n",
       "        vertical-align: top;\n",
       "    }\n",
       "\n",
       "    .dataframe thead th {\n",
       "        text-align: right;\n",
       "    }\n",
       "</style>\n",
       "<table border=\"1\" class=\"dataframe\">\n",
       "  <thead>\n",
       "    <tr style=\"text-align: right;\">\n",
       "      <th></th>\n",
       "      <th>PatientID</th>\n",
       "      <th>FullName</th>\n",
       "      <th>BirthDate</th>\n",
       "      <th>Gender</th>\n",
       "      <th>PhoneNumber</th>\n",
       "    </tr>\n",
       "  </thead>\n",
       "  <tbody>\n",
       "    <tr>\n",
       "      <th>0</th>\n",
       "      <td>1</td>\n",
       "      <td>Patient_1</td>\n",
       "      <td>1930-01-01</td>\n",
       "      <td>Male</td>\n",
       "      <td>+13473984111</td>\n",
       "    </tr>\n",
       "    <tr>\n",
       "      <th>1</th>\n",
       "      <td>2</td>\n",
       "      <td>Patient_2</td>\n",
       "      <td>1930-01-07</td>\n",
       "      <td>Female</td>\n",
       "      <td>+11836357266</td>\n",
       "    </tr>\n",
       "    <tr>\n",
       "      <th>2</th>\n",
       "      <td>3</td>\n",
       "      <td>Patient_3</td>\n",
       "      <td>1930-01-13</td>\n",
       "      <td>Male</td>\n",
       "      <td>+13600529838</td>\n",
       "    </tr>\n",
       "    <tr>\n",
       "      <th>3</th>\n",
       "      <td>4</td>\n",
       "      <td>Patient_4</td>\n",
       "      <td>1930-01-19</td>\n",
       "      <td>Male</td>\n",
       "      <td>+19332801877</td>\n",
       "    </tr>\n",
       "    <tr>\n",
       "      <th>4</th>\n",
       "      <td>5</td>\n",
       "      <td>Patient_5</td>\n",
       "      <td>1930-01-25</td>\n",
       "      <td>Male</td>\n",
       "      <td>+13149515885</td>\n",
       "    </tr>\n",
       "  </tbody>\n",
       "</table>\n",
       "</div>"
      ],
      "text/plain": [
       "   PatientID   FullName   BirthDate  Gender   PhoneNumber\n",
       "0          1  Patient_1  1930-01-01    Male  +13473984111\n",
       "1          2  Patient_2  1930-01-07  Female  +11836357266\n",
       "2          3  Patient_3  1930-01-13    Male  +13600529838\n",
       "3          4  Patient_4  1930-01-19    Male  +19332801877\n",
       "4          5  Patient_5  1930-01-25    Male  +13149515885"
      ]
     },
     "execution_count": 50,
     "metadata": {},
     "output_type": "execute_result"
    }
   ],
   "source": [
    "patient_records_df.head()"
   ]
  },
  {
   "cell_type": "code",
   "execution_count": 48,
   "id": "67161e71",
   "metadata": {},
   "outputs": [
    {
     "data": {
      "text/html": [
       "<div>\n",
       "<style scoped>\n",
       "    .dataframe tbody tr th:only-of-type {\n",
       "        vertical-align: middle;\n",
       "    }\n",
       "\n",
       "    .dataframe tbody tr th {\n",
       "        vertical-align: top;\n",
       "    }\n",
       "\n",
       "    .dataframe thead th {\n",
       "        text-align: right;\n",
       "    }\n",
       "</style>\n",
       "<table border=\"1\" class=\"dataframe\">\n",
       "  <thead>\n",
       "    <tr style=\"text-align: right;\">\n",
       "      <th></th>\n",
       "      <th>AppointmentID</th>\n",
       "      <th>PatientID</th>\n",
       "      <th>AppointmentDate</th>\n",
       "      <th>DoctorName</th>\n",
       "      <th>Department</th>\n",
       "      <th>VisitReason</th>\n",
       "      <th>BillingAmount</th>\n",
       "    </tr>\n",
       "  </thead>\n",
       "  <tbody>\n",
       "    <tr>\n",
       "      <th>0</th>\n",
       "      <td>1</td>\n",
       "      <td>3636</td>\n",
       "      <td>2023-01-01</td>\n",
       "      <td>Doctor_45</td>\n",
       "      <td>Dermatology</td>\n",
       "      <td>Reason_22</td>\n",
       "      <td>77.28</td>\n",
       "    </tr>\n",
       "    <tr>\n",
       "      <th>1</th>\n",
       "      <td>2</td>\n",
       "      <td>4824</td>\n",
       "      <td>2023-01-01</td>\n",
       "      <td>Doctor_32</td>\n",
       "      <td>Pediatrics</td>\n",
       "      <td>Reason_35</td>\n",
       "      <td>374.60</td>\n",
       "    </tr>\n",
       "    <tr>\n",
       "      <th>2</th>\n",
       "      <td>3</td>\n",
       "      <td>4150</td>\n",
       "      <td>2023-01-01</td>\n",
       "      <td>Doctor_13</td>\n",
       "      <td>Cardiology</td>\n",
       "      <td>Reason_86</td>\n",
       "      <td>230.44</td>\n",
       "    </tr>\n",
       "    <tr>\n",
       "      <th>3</th>\n",
       "      <td>4</td>\n",
       "      <td>4623</td>\n",
       "      <td>2023-01-01</td>\n",
       "      <td>Doctor_22</td>\n",
       "      <td>Pediatrics</td>\n",
       "      <td>Reason_16</td>\n",
       "      <td>216.59</td>\n",
       "    </tr>\n",
       "    <tr>\n",
       "      <th>4</th>\n",
       "      <td>5</td>\n",
       "      <td>509</td>\n",
       "      <td>2023-01-01</td>\n",
       "      <td>Doctor_22</td>\n",
       "      <td>General Practice</td>\n",
       "      <td>Reason_100</td>\n",
       "      <td>209.41</td>\n",
       "    </tr>\n",
       "  </tbody>\n",
       "</table>\n",
       "</div>"
      ],
      "text/plain": [
       "   AppointmentID  PatientID AppointmentDate DoctorName        Department  \\\n",
       "0              1       3636      2023-01-01  Doctor_45       Dermatology   \n",
       "1              2       4824      2023-01-01  Doctor_32        Pediatrics   \n",
       "2              3       4150      2023-01-01  Doctor_13        Cardiology   \n",
       "3              4       4623      2023-01-01  Doctor_22        Pediatrics   \n",
       "4              5        509      2023-01-01  Doctor_22  General Practice   \n",
       "\n",
       "  VisitReason  BillingAmount  \n",
       "0   Reason_22          77.28  \n",
       "1   Reason_35         374.60  \n",
       "2   Reason_86         230.44  \n",
       "3   Reason_16         216.59  \n",
       "4  Reason_100         209.41  "
      ]
     },
     "execution_count": 48,
     "metadata": {},
     "output_type": "execute_result"
    }
   ],
   "source": [
    "appointment_records_df.head()"
   ]
  },
  {
   "cell_type": "code",
   "execution_count": null,
   "id": "b45dba4b",
   "metadata": {},
   "outputs": [],
   "source": []
  },
  {
   "cell_type": "code",
   "execution_count": 100,
   "id": "75cb42d5",
   "metadata": {},
   "outputs": [],
   "source": [
    "patient_records_df = pd.read_csv('patient_records.csv')\n",
    "appointment_records_df = pd.read_csv('appointment_records.csv')"
   ]
  },
  {
   "cell_type": "code",
   "execution_count": 102,
   "id": "89d7a951",
   "metadata": {},
   "outputs": [],
   "source": [
    "merged_df = pd.merge(appointment_records_df, patient_records_df, how='left', on='PatientID')"
   ]
  },
  {
   "cell_type": "code",
   "execution_count": 103,
   "id": "c953f0bb",
   "metadata": {},
   "outputs": [],
   "source": [
    "merged_df['BillingAmount'] = merged_df['BillingAmount'].astype(float)\n",
    "merged_df['BirthDate'] = pd.to_datetime(merged_df['BirthDate'])\n",
    "merged_df['AppointmentDate'] = pd.to_datetime(merged_df['AppointmentDate'])"
   ]
  },
  {
   "cell_type": "code",
   "execution_count": 124,
   "id": "d7ef84e3",
   "metadata": {},
   "outputs": [
    {
     "data": {
      "text/plain": [
       "0       33\n",
       "1       13\n",
       "2       25\n",
       "3       17\n",
       "4       85\n",
       "        ..\n",
       "9995    24\n",
       "9996    55\n",
       "9997    88\n",
       "9998    37\n",
       "9999    49\n",
       "Length: 10000, dtype: int32"
      ]
     },
     "execution_count": 124,
     "metadata": {},
     "output_type": "execute_result"
    }
   ],
   "source": [
    "merged_df['AppointmentDate'].dt.year - merged_df['BirthDate'].dt.year"
   ]
  },
  {
   "cell_type": "code",
   "execution_count": 104,
   "id": "c7da5a3f",
   "metadata": {},
   "outputs": [],
   "source": [
    "merged_df['AgeAtAppointment'] = merged_df['AppointmentDate'].dt.year - merged_df['BirthDate'].dt.year"
   ]
  },
  {
   "cell_type": "code",
   "execution_count": 105,
   "id": "683c00eb",
   "metadata": {},
   "outputs": [
    {
     "data": {
      "text/html": [
       "<div>\n",
       "<style scoped>\n",
       "    .dataframe tbody tr th:only-of-type {\n",
       "        vertical-align: middle;\n",
       "    }\n",
       "\n",
       "    .dataframe tbody tr th {\n",
       "        vertical-align: top;\n",
       "    }\n",
       "\n",
       "    .dataframe thead th {\n",
       "        text-align: right;\n",
       "    }\n",
       "</style>\n",
       "<table border=\"1\" class=\"dataframe\">\n",
       "  <thead>\n",
       "    <tr style=\"text-align: right;\">\n",
       "      <th></th>\n",
       "      <th>AppointmentID</th>\n",
       "      <th>PatientID</th>\n",
       "      <th>AppointmentDate</th>\n",
       "      <th>DoctorName</th>\n",
       "      <th>Department</th>\n",
       "      <th>VisitReason</th>\n",
       "      <th>BillingAmount</th>\n",
       "      <th>FullName</th>\n",
       "      <th>BirthDate</th>\n",
       "      <th>Gender</th>\n",
       "      <th>PhoneNumber</th>\n",
       "      <th>AgeAtAppointment</th>\n",
       "    </tr>\n",
       "  </thead>\n",
       "  <tbody>\n",
       "    <tr>\n",
       "      <th>0</th>\n",
       "      <td>1</td>\n",
       "      <td>3636</td>\n",
       "      <td>2023-01-01</td>\n",
       "      <td>Doctor_45</td>\n",
       "      <td>Dermatology</td>\n",
       "      <td>Reason_22</td>\n",
       "      <td>77.28</td>\n",
       "      <td>Patient_3636</td>\n",
       "      <td>1990-05-09</td>\n",
       "      <td>Female</td>\n",
       "      <td>13433044646</td>\n",
       "      <td>33</td>\n",
       "    </tr>\n",
       "    <tr>\n",
       "      <th>1</th>\n",
       "      <td>2</td>\n",
       "      <td>4824</td>\n",
       "      <td>2023-01-01</td>\n",
       "      <td>Doctor_32</td>\n",
       "      <td>Pediatrics</td>\n",
       "      <td>Reason_35</td>\n",
       "      <td>374.60</td>\n",
       "      <td>Patient_4824</td>\n",
       "      <td>2010-01-28</td>\n",
       "      <td>Female</td>\n",
       "      <td>16669907375</td>\n",
       "      <td>13</td>\n",
       "    </tr>\n",
       "    <tr>\n",
       "      <th>2</th>\n",
       "      <td>3</td>\n",
       "      <td>4150</td>\n",
       "      <td>2023-01-01</td>\n",
       "      <td>Doctor_13</td>\n",
       "      <td>Cardiology</td>\n",
       "      <td>Reason_86</td>\n",
       "      <td>230.44</td>\n",
       "      <td>Patient_4150</td>\n",
       "      <td>1998-11-20</td>\n",
       "      <td>Female</td>\n",
       "      <td>15184513221</td>\n",
       "      <td>25</td>\n",
       "    </tr>\n",
       "    <tr>\n",
       "      <th>3</th>\n",
       "      <td>4</td>\n",
       "      <td>4623</td>\n",
       "      <td>2023-01-01</td>\n",
       "      <td>Doctor_22</td>\n",
       "      <td>Pediatrics</td>\n",
       "      <td>Reason_16</td>\n",
       "      <td>216.59</td>\n",
       "      <td>Patient_4623</td>\n",
       "      <td>2006-09-27</td>\n",
       "      <td>Male</td>\n",
       "      <td>19618064621</td>\n",
       "      <td>17</td>\n",
       "    </tr>\n",
       "    <tr>\n",
       "      <th>4</th>\n",
       "      <td>5</td>\n",
       "      <td>509</td>\n",
       "      <td>2023-01-01</td>\n",
       "      <td>Doctor_22</td>\n",
       "      <td>General Practice</td>\n",
       "      <td>Reason_100</td>\n",
       "      <td>209.41</td>\n",
       "      <td>Patient_509</td>\n",
       "      <td>1938-06-08</td>\n",
       "      <td>Female</td>\n",
       "      <td>11745051692</td>\n",
       "      <td>85</td>\n",
       "    </tr>\n",
       "  </tbody>\n",
       "</table>\n",
       "</div>"
      ],
      "text/plain": [
       "   AppointmentID  PatientID AppointmentDate DoctorName        Department  \\\n",
       "0              1       3636      2023-01-01  Doctor_45       Dermatology   \n",
       "1              2       4824      2023-01-01  Doctor_32        Pediatrics   \n",
       "2              3       4150      2023-01-01  Doctor_13        Cardiology   \n",
       "3              4       4623      2023-01-01  Doctor_22        Pediatrics   \n",
       "4              5        509      2023-01-01  Doctor_22  General Practice   \n",
       "\n",
       "  VisitReason  BillingAmount      FullName  BirthDate  Gender  PhoneNumber  \\\n",
       "0   Reason_22          77.28  Patient_3636 1990-05-09  Female  13433044646   \n",
       "1   Reason_35         374.60  Patient_4824 2010-01-28  Female  16669907375   \n",
       "2   Reason_86         230.44  Patient_4150 1998-11-20  Female  15184513221   \n",
       "3   Reason_16         216.59  Patient_4623 2006-09-27    Male  19618064621   \n",
       "4  Reason_100         209.41   Patient_509 1938-06-08  Female  11745051692   \n",
       "\n",
       "   AgeAtAppointment  \n",
       "0                33  \n",
       "1                13  \n",
       "2                25  \n",
       "3                17  \n",
       "4                85  "
      ]
     },
     "execution_count": 105,
     "metadata": {},
     "output_type": "execute_result"
    }
   ],
   "source": [
    "merged_df.head(5)"
   ]
  },
  {
   "cell_type": "code",
   "execution_count": null,
   "id": "4a7c5c91",
   "metadata": {},
   "outputs": [],
   "source": []
  },
  {
   "cell_type": "code",
   "execution_count": 106,
   "id": "8aa17b98",
   "metadata": {
    "scrolled": true
   },
   "outputs": [],
   "source": [
    "cardiology_appointments = merged_df[(merged_df['Department'] == 'Cardiology') & (merged_df['BillingAmount'] > 200)]"
   ]
  },
  {
   "cell_type": "code",
   "execution_count": 108,
   "id": "ac3e0937",
   "metadata": {},
   "outputs": [],
   "source": [
    "sorted_appointments = cardiology_appointments.sort_values(by='AgeAtAppointment', ascending=False)"
   ]
  },
  {
   "cell_type": "code",
   "execution_count": null,
   "id": "f78d64ce",
   "metadata": {},
   "outputs": [],
   "source": []
  },
  {
   "cell_type": "code",
   "execution_count": 109,
   "id": "0b0edf40",
   "metadata": {},
   "outputs": [],
   "source": [
    "departments_per_patient = merged_df.groupby('PatientID')['Department'].nunique()\n",
    "patients_multidepartments = departments_per_patient[departments_per_patient >= 3].index\n",
    "multidepartments_records = merged_df[merged_df['PatientID'].isin(patients_multidepartments)]"
   ]
  },
  {
   "cell_type": "code",
   "execution_count": 87,
   "id": "07dd84c8",
   "metadata": {},
   "outputs": [],
   "source": [
    "appointments_count_per_patient = merged_df.groupby('PatientID').size()\n",
    "frequent_patients = appointments_count_per_patient[appointments_count_per_patient > 5].index\n",
    "frequent_patients_records = merged_df[merged_df['PatientID'].isin(frequent_patients)]\n"
   ]
  },
  {
   "cell_type": "code",
   "execution_count": 88,
   "id": "01b6639d",
   "metadata": {},
   "outputs": [
    {
     "name": "stdout",
     "output_type": "stream",
     "text": [
      "17851\n"
     ]
    }
   ],
   "source": [
    "average_billing_task8 = high_billing_new_patients['BillingAmount'].mean()\n",
    "sum_billing_task10 = 0  # Assuming sum_billing_task10 is calculated from the hypothetical frequent visits records\n",
    "unique_patients_task9 = multidept_records['PatientID'].nunique()\n",
    "\n",
    "new_checksum = int((average_billing_task8 + sum_billing_task10) * unique_patients_task9) % 100000\n",
    "print(new_checksum)\n"
   ]
  },
  {
   "cell_type": "code",
   "execution_count": 95,
   "id": "8e4a60bf",
   "metadata": {},
   "outputs": [
    {
     "ename": "SyntaxError",
     "evalue": "invalid syntax (3872556958.py, line 1)",
     "output_type": "error",
     "traceback": [
      "\u001b[0;36m  Cell \u001b[0;32mIn[95], line 1\u001b[0;36m\u001b[0m\n\u001b[0;31m    Для финального числа возьмем количество уникальных пациентов из шага 6,\u001b[0m\n\u001b[0m        ^\u001b[0m\n\u001b[0;31mSyntaxError\u001b[0m\u001b[0;31m:\u001b[0m invalid syntax\n"
     ]
    }
   ],
   "source": [
    "Для финального числа возьмем количество уникальных пациентов из шага 6, \n",
    "умножим на общее количество визитов из шага 7, \n",
    "и добавим медианный возраст пациентов из отсортированного датафрейма шага 5.\n",
    "В качестве финального числа возьмем последние четыре цифры этой суммы."
   ]
  },
  {
   "cell_type": "code",
   "execution_count": 120,
   "id": "ef3ab10f",
   "metadata": {},
   "outputs": [],
   "source": [
    "final_number = (multidepartments_records['PatientID'].nunique() *\n",
    "                frequent_patients_records.shape[0] +\n",
    "                sorted_appointments['AgeAtAppointment'].median())"
   ]
  },
  {
   "cell_type": "code",
   "execution_count": 121,
   "id": "35f293f3",
   "metadata": {},
   "outputs": [
    {
     "data": {
      "text/plain": [
       "460175.0"
      ]
     },
     "execution_count": 121,
     "metadata": {},
     "output_type": "execute_result"
    }
   ],
   "source": [
    "final_number"
   ]
  },
  {
   "cell_type": "code",
   "execution_count": 119,
   "id": "d64f99aa",
   "metadata": {},
   "outputs": [
    {
     "data": {
      "text/plain": [
       "175.0"
      ]
     },
     "execution_count": 119,
     "metadata": {},
     "output_type": "execute_result"
    }
   ],
   "source": [
    "final_number"
   ]
  },
  {
   "cell_type": "code",
   "execution_count": null,
   "id": "0c7a6df0",
   "metadata": {},
   "outputs": [],
   "source": []
  }
 ],
 "metadata": {
  "kernelspec": {
   "display_name": "Python 3 (ipykernel)",
   "language": "python",
   "name": "python3"
  },
  "language_info": {
   "codemirror_mode": {
    "name": "ipython",
    "version": 3
   },
   "file_extension": ".py",
   "mimetype": "text/x-python",
   "name": "python",
   "nbconvert_exporter": "python",
   "pygments_lexer": "ipython3",
   "version": "3.10.12"
  }
 },
 "nbformat": 4,
 "nbformat_minor": 5
}
