{
 "cells": [
  {
   "cell_type": "code",
   "execution_count": 89,
   "id": "cc1fe84a",
   "metadata": {},
   "outputs": [],
   "source": [
    "import time\n",
    "import requests"
   ]
  },
  {
   "cell_type": "code",
   "execution_count": 96,
   "id": "ac5933a7",
   "metadata": {},
   "outputs": [],
   "source": [
    "response = requests.get('https://reddit.com')"
   ]
  },
  {
   "cell_type": "code",
   "execution_count": null,
   "id": "ccfeab55",
   "metadata": {},
   "outputs": [],
   "source": []
  },
  {
   "cell_type": "code",
   "execution_count": 90,
   "id": "bb1b7668",
   "metadata": {},
   "outputs": [
    {
     "name": "stdout",
     "output_type": "stream",
     "text": [
      "Title: sunt aut facere repellat provident occaecati excepturi optio reprehenderit\n",
      "Body: quia et suscipit\n",
      "suscipit recusandae consequuntur expedita et cum\n",
      "reprehenderit molestiae ut ut quas totam\n",
      "nostrum rerum est autem sunt rem eveniet architecto\n",
      "\n",
      "Title: qui est esse\n",
      "Body: est rerum tempore vitae\n",
      "sequi sint nihil reprehenderit dolor beatae ea dolores neque\n",
      "fugiat blanditiis voluptate porro vel nihil molestiae ut reiciendis\n",
      "qui aperiam non debitis possimus qui neque nisi nulla\n",
      "\n",
      "Title: ea molestias quasi exercitationem repellat qui ipsa sit aut\n",
      "Body: et iusto sed quo iure\n",
      "voluptatem occaecati omnis eligendi aut ad\n",
      "voluptatem doloribus vel accusantium quis pariatur\n",
      "molestiae porro eius odio et labore et velit aut\n",
      "\n",
      "Title: eum et est occaecati\n",
      "Body: ullam et saepe reiciendis voluptatem adipisci\n",
      "sit amet autem assumenda provident rerum culpa\n",
      "quis hic commodi nesciunt rem tenetur doloremque ipsam iure\n",
      "quis sunt voluptatem rerum illo velit\n",
      "\n",
      "Title: nesciunt quas odio\n",
      "Body: repudiandae veniam quaerat sunt sed\n",
      "alias aut fugiat sit autem sed est\n",
      "voluptatem omnis possimus esse voluptatibus quis\n",
      "est aut tenetur dolor neque\n",
      "\n"
     ]
    }
   ],
   "source": [
    "url = 'https://jsonplaceholder.typicode.com/posts'\n",
    "\n",
    "response = requests.get(url)\n",
    "\n",
    "if response.status_code == 200:\n",
    "    posts = response.json()\n",
    "    for post in posts[:5]:\n",
    "        print(f\"Title: {post['title']}\\nBody: {post['body']}\\n\")\n",
    "else:\n",
    "    print(\"Failed to fetch posts\")"
   ]
  },
  {
   "cell_type": "code",
   "execution_count": 101,
   "id": "6fed37d6",
   "metadata": {},
   "outputs": [
    {
     "data": {
      "text/html": [
       "<div>\n",
       "<style scoped>\n",
       "    .dataframe tbody tr th:only-of-type {\n",
       "        vertical-align: middle;\n",
       "    }\n",
       "\n",
       "    .dataframe tbody tr th {\n",
       "        vertical-align: top;\n",
       "    }\n",
       "\n",
       "    .dataframe thead th {\n",
       "        text-align: right;\n",
       "    }\n",
       "</style>\n",
       "<table border=\"1\" class=\"dataframe\">\n",
       "  <thead>\n",
       "    <tr style=\"text-align: right;\">\n",
       "      <th></th>\n",
       "      <th>userId</th>\n",
       "      <th>id</th>\n",
       "      <th>title</th>\n",
       "      <th>body</th>\n",
       "    </tr>\n",
       "  </thead>\n",
       "  <tbody>\n",
       "    <tr>\n",
       "      <th>0</th>\n",
       "      <td>1</td>\n",
       "      <td>1</td>\n",
       "      <td>sunt aut facere repellat provident occaecati e...</td>\n",
       "      <td>quia et suscipit\\nsuscipit recusandae consequu...</td>\n",
       "    </tr>\n",
       "    <tr>\n",
       "      <th>1</th>\n",
       "      <td>1</td>\n",
       "      <td>2</td>\n",
       "      <td>qui est esse</td>\n",
       "      <td>est rerum tempore vitae\\nsequi sint nihil repr...</td>\n",
       "    </tr>\n",
       "    <tr>\n",
       "      <th>2</th>\n",
       "      <td>1</td>\n",
       "      <td>3</td>\n",
       "      <td>ea molestias quasi exercitationem repellat qui...</td>\n",
       "      <td>et iusto sed quo iure\\nvoluptatem occaecati om...</td>\n",
       "    </tr>\n",
       "    <tr>\n",
       "      <th>3</th>\n",
       "      <td>1</td>\n",
       "      <td>4</td>\n",
       "      <td>eum et est occaecati</td>\n",
       "      <td>ullam et saepe reiciendis voluptatem adipisci\\...</td>\n",
       "    </tr>\n",
       "    <tr>\n",
       "      <th>4</th>\n",
       "      <td>1</td>\n",
       "      <td>5</td>\n",
       "      <td>nesciunt quas odio</td>\n",
       "      <td>repudiandae veniam quaerat sunt sed\\nalias aut...</td>\n",
       "    </tr>\n",
       "    <tr>\n",
       "      <th>...</th>\n",
       "      <td>...</td>\n",
       "      <td>...</td>\n",
       "      <td>...</td>\n",
       "      <td>...</td>\n",
       "    </tr>\n",
       "    <tr>\n",
       "      <th>95</th>\n",
       "      <td>10</td>\n",
       "      <td>96</td>\n",
       "      <td>quaerat velit veniam amet cupiditate aut numqu...</td>\n",
       "      <td>in non odio excepturi sint eum\\nlabore volupta...</td>\n",
       "    </tr>\n",
       "    <tr>\n",
       "      <th>96</th>\n",
       "      <td>10</td>\n",
       "      <td>97</td>\n",
       "      <td>quas fugiat ut perspiciatis vero provident</td>\n",
       "      <td>eum non blanditiis soluta porro quibusdam volu...</td>\n",
       "    </tr>\n",
       "    <tr>\n",
       "      <th>97</th>\n",
       "      <td>10</td>\n",
       "      <td>98</td>\n",
       "      <td>laboriosam dolor voluptates</td>\n",
       "      <td>doloremque ex facilis sit sint culpa\\nsoluta a...</td>\n",
       "    </tr>\n",
       "    <tr>\n",
       "      <th>98</th>\n",
       "      <td>10</td>\n",
       "      <td>99</td>\n",
       "      <td>temporibus sit alias delectus eligendi possimu...</td>\n",
       "      <td>quo deleniti praesentium dicta non quod\\naut e...</td>\n",
       "    </tr>\n",
       "    <tr>\n",
       "      <th>99</th>\n",
       "      <td>10</td>\n",
       "      <td>100</td>\n",
       "      <td>at nam consequatur ea labore ea harum</td>\n",
       "      <td>cupiditate quo est a modi nesciunt soluta\\nips...</td>\n",
       "    </tr>\n",
       "  </tbody>\n",
       "</table>\n",
       "<p>100 rows × 4 columns</p>\n",
       "</div>"
      ],
      "text/plain": [
       "    userId   id                                              title  \\\n",
       "0        1    1  sunt aut facere repellat provident occaecati e...   \n",
       "1        1    2                                       qui est esse   \n",
       "2        1    3  ea molestias quasi exercitationem repellat qui...   \n",
       "3        1    4                               eum et est occaecati   \n",
       "4        1    5                                 nesciunt quas odio   \n",
       "..     ...  ...                                                ...   \n",
       "95      10   96  quaerat velit veniam amet cupiditate aut numqu...   \n",
       "96      10   97         quas fugiat ut perspiciatis vero provident   \n",
       "97      10   98                        laboriosam dolor voluptates   \n",
       "98      10   99  temporibus sit alias delectus eligendi possimu...   \n",
       "99      10  100              at nam consequatur ea labore ea harum   \n",
       "\n",
       "                                                 body  \n",
       "0   quia et suscipit\\nsuscipit recusandae consequu...  \n",
       "1   est rerum tempore vitae\\nsequi sint nihil repr...  \n",
       "2   et iusto sed quo iure\\nvoluptatem occaecati om...  \n",
       "3   ullam et saepe reiciendis voluptatem adipisci\\...  \n",
       "4   repudiandae veniam quaerat sunt sed\\nalias aut...  \n",
       "..                                                ...  \n",
       "95  in non odio excepturi sint eum\\nlabore volupta...  \n",
       "96  eum non blanditiis soluta porro quibusdam volu...  \n",
       "97  doloremque ex facilis sit sint culpa\\nsoluta a...  \n",
       "98  quo deleniti praesentium dicta non quod\\naut e...  \n",
       "99  cupiditate quo est a modi nesciunt soluta\\nips...  \n",
       "\n",
       "[100 rows x 4 columns]"
      ]
     },
     "execution_count": 101,
     "metadata": {},
     "output_type": "execute_result"
    }
   ],
   "source": [
    "import pandas as pd\n",
    "pd.DataFrame(posts)"
   ]
  },
  {
   "cell_type": "code",
   "execution_count": 103,
   "id": "c807bb82",
   "metadata": {},
   "outputs": [
    {
     "name": "stdout",
     "output_type": "stream",
     "text": [
      "Post created successfully: {'title': 'Educational Post', 'body': 'This is a test post for educational purposes using JSONPlaceholder API.', 'userId': 1, 'id': 101}\n"
     ]
    }
   ],
   "source": [
    "# Adding a post\n",
    "post_data = {\n",
    "    'title': 'Educational Post',\n",
    "    'body': 'This is a test post for educational purposes using JSONPlaceholder API.',\n",
    "    'userId': 1,\n",
    "}\n",
    "\n",
    "response = requests.post(url, json=post_data)\n",
    "\n",
    "if response.status_code == 201:\n",
    "    new_post = response.json()\n",
    "    print(f\"Post created successfully: {new_post}\")\n",
    "else:\n",
    "    print(\"Failed to create post\")\n"
   ]
  },
  {
   "cell_type": "code",
   "execution_count": 104,
   "id": "ea0dca5b",
   "metadata": {},
   "outputs": [
    {
     "name": "stdout",
     "output_type": "stream",
     "text": [
      "Updated Post: {'title': 'Updated Title', 'body': 'Updated body content.', 'userId': 1, 'id': 1}\n"
     ]
    }
   ],
   "source": [
    "# Updating a post\n",
    "put_url = 'https://jsonplaceholder.typicode.com/posts/1' # Update post with id 1\n",
    "update_data = {\n",
    "    'title': 'Updated Title',\n",
    "    'body': 'Updated body content.',\n",
    "    'userId': 1,\n",
    "}\n",
    "response = requests.put(put_url, json=update_data)\n",
    "print(\"Updated Post:\", response.json())"
   ]
  },
  {
   "cell_type": "code",
   "execution_count": 105,
   "id": "e2971059",
   "metadata": {},
   "outputs": [
    {
     "name": "stdout",
     "output_type": "stream",
     "text": [
      "Post deleted successfully\n"
     ]
    }
   ],
   "source": [
    "# Deleting a post\n",
    "delete_url = 'https://jsonplaceholder.typicode.com/posts/1' # Delete post with id 1\n",
    "response = requests.delete(delete_url)\n",
    "if response.status_code == 200:\n",
    "    print(\"Post deleted successfully\")\n",
    "else:\n",
    "    print(\"Failed to delete post\")"
   ]
  },
  {
   "cell_type": "code",
   "execution_count": 107,
   "id": "2a6960bd",
   "metadata": {},
   "outputs": [
    {
     "data": {
      "text/plain": [
       "True"
      ]
     },
     "execution_count": 107,
     "metadata": {},
     "output_type": "execute_result"
    }
   ],
   "source": [
    "from dotenv import load_dotenv\n",
    "import os\n",
    "\n",
    "# Load the environment variables from the .env file\n",
    "load_dotenv()"
   ]
  },
  {
   "cell_type": "code",
   "execution_count": 109,
   "id": "48a25753",
   "metadata": {},
   "outputs": [],
   "source": [
    "api_key = os.getenv('API_KEY')"
   ]
  },
  {
   "cell_type": "code",
   "execution_count": 111,
   "id": "3d4eb133",
   "metadata": {},
   "outputs": [
    {
     "name": "stdout",
     "output_type": "stream",
     "text": [
      "https://jsonplaceholder.typicode.com/posts\n"
     ]
    }
   ],
   "source": [
    "print(url)"
   ]
  },
  {
   "cell_type": "code",
   "execution_count": 112,
   "id": "5760a03b",
   "metadata": {},
   "outputs": [],
   "source": [
    "headers = {\n",
    "    \"Accept-Encoding\": \"gzip, deflate, br\",\n",
    "    'User-Agent': 'Mozilla/5.0 (X11; Linux x86_64; rv:123.0) Gecko/20100101 Firefox/123.0',\n",
    "    'Authorization': f'Bearer {api_key}',  # Simulate an API key (Note: JSONPlaceholder does not actually require authentication)\n",
    "    'Content-Type': 'application/json',\n",
    "}\n"
   ]
  },
  {
   "cell_type": "code",
   "execution_count": 114,
   "id": "47c8fb7f",
   "metadata": {},
   "outputs": [
    {
     "name": "stdout",
     "output_type": "stream",
     "text": [
      "Response with headers: [{'userId': 1, 'id': 1, 'title': 'sunt aut facere repellat provident occaecati excepturi optio reprehenderit', 'body': 'quia et suscipit\\nsuscipit recusandae consequuntur expedita et cum\\nreprehenderit molestiae ut ut quas totam\\nnostrum rerum est autem sunt rem eveniet architecto'}, {'userId': 1, 'id': 2, 'title': 'qui est esse', 'body': 'est rerum tempore vitae\\nsequi sint nihil reprehenderit dolor beatae ea dolores neque\\nfugiat blanditiis voluptate porro vel nihil molestiae ut reiciendis\\nqui aperiam non debitis possimus qui neque nisi nulla'}]\n"
     ]
    }
   ],
   "source": [
    "\n",
    "# Making a GET request with headers\n",
    "response = requests.get(url, headers=headers)\n",
    "print(\"Response with headers:\", response.json()[0:2])  # Show the first 2 posts\n"
   ]
  },
  {
   "cell_type": "code",
   "execution_count": null,
   "id": "26536000",
   "metadata": {},
   "outputs": [],
   "source": [
    "# limit сколько значений мы хотим получить на одной странице\n",
    "# page какую страницу хотим посмотреть"
   ]
  },
  {
   "cell_type": "code",
   "execution_count": null,
   "id": "827f8ce0",
   "metadata": {},
   "outputs": [],
   "source": [
    "# 'https://jsonplaceholder.typicode.com/posts?_page=10&_limit=100&_id=10'"
   ]
  },
  {
   "cell_type": "code",
   "execution_count": 116,
   "id": "0be4a164",
   "metadata": {},
   "outputs": [
    {
     "name": "stdout",
     "output_type": "stream",
     "text": [
      "Page 1 post: [{'userId': 1, 'id': 1, 'title': 'sunt aut facere repellat provident occaecati excepturi optio reprehenderit', 'body': 'quia et suscipit\\nsuscipit recusandae consequuntur expedita et cum\\nreprehenderit molestiae ut ut quas totam\\nnostrum rerum est autem sunt rem eveniet architecto'}]\n",
      "Page 2 post: [{'userId': 1, 'id': 2, 'title': 'qui est esse', 'body': 'est rerum tempore vitae\\nsequi sint nihil reprehenderit dolor beatae ea dolores neque\\nfugiat blanditiis voluptate porro vel nihil molestiae ut reiciendis\\nqui aperiam non debitis possimus qui neque nisi nulla'}]\n",
      "Page 3 post: [{'userId': 1, 'id': 3, 'title': 'ea molestias quasi exercitationem repellat qui ipsa sit aut', 'body': 'et iusto sed quo iure\\nvoluptatem occaecati omnis eligendi aut ad\\nvoluptatem doloribus vel accusantium quis pariatur\\nmolestiae porro eius odio et labore et velit aut'}]\n"
     ]
    }
   ],
   "source": [
    "pagination_url = 'https://jsonplaceholder.typicode.com/posts'\n",
    "\n",
    "# Simulating basic rate limiting handling (Note: JSONPlaceholder does not rate limit)\n",
    "import time\n",
    "for i in range(3):  # Assume you can only make 1 request per second\n",
    "    response = requests.get(pagination_url, params={'_limit': 1, '_page': i+1})\n",
    "    print(f\"Page {i+1} post:\", response.json())\n",
    "    time.sleep(1)  # Wait for 20 seconds before the next request\n"
   ]
  },
  {
   "cell_type": "markdown",
   "id": "d9e566bf",
   "metadata": {},
   "source": [
    "## Working with mongodb"
   ]
  },
  {
   "cell_type": "code",
   "execution_count": 117,
   "id": "3db567ad",
   "metadata": {},
   "outputs": [
    {
     "name": "stdout",
     "output_type": "stream",
     "text": [
      "Defaulting to user installation because normal site-packages is not writeable\n",
      "Requirement already satisfied: pymongo in /home/zhango/.local/lib/python3.10/site-packages (4.6.2)\n",
      "Requirement already satisfied: dnspython<3.0.0,>=1.16.0 in /home/zhango/.local/lib/python3.10/site-packages (from pymongo) (2.6.1)\n"
     ]
    }
   ],
   "source": [
    "!pip install pymongo"
   ]
  },
  {
   "cell_type": "code",
   "execution_count": null,
   "id": "9123b0fe",
   "metadata": {},
   "outputs": [],
   "source": [
    "from pymongo import MongoClient\n",
    "import csv\n",
    "import pandas as pd"
   ]
  },
  {
   "cell_type": "code",
   "execution_count": 118,
   "id": "211ad77b",
   "metadata": {},
   "outputs": [],
   "source": [
    "# Your connection string\n",
    "connection_string = \"mongodb://common-thistle-mg1.alaps.kz.prod.bash.kz:27017,common-thistle-mg2.alaps.kz.prod.bash.kz,common-thistle-mg3.alaps.kz.prod.bash.kz:27017/?replicaSet=thistle&readPreference=secondaryPreferred\""
   ]
  },
  {
   "cell_type": "code",
   "execution_count": 119,
   "id": "d68818bf",
   "metadata": {},
   "outputs": [],
   "source": [
    "client = MongoClient(connection_string)"
   ]
  },
  {
   "cell_type": "code",
   "execution_count": 120,
   "id": "cca2a24c",
   "metadata": {},
   "outputs": [
    {
     "data": {
      "text/plain": [
       "MongoClient(host=['common-thistle-mg3.alaps.kz.prod.bash.kz:27017', 'common-thistle-mg2.alaps.kz.prod.bash.kz:27017', 'common-thistle-mg1.alaps.kz.prod.bash.kz:27017'], document_class=dict, tz_aware=False, connect=True, replicaset='thistle', readpreference='secondaryPreferred')"
      ]
     },
     "execution_count": 120,
     "metadata": {},
     "output_type": "execute_result"
    }
   ],
   "source": [
    "client"
   ]
  },
  {
   "cell_type": "code",
   "execution_count": 121,
   "id": "22d52c5b",
   "metadata": {},
   "outputs": [],
   "source": [
    "db = client['thistle']\n",
    "collection = db['ip_fraud_check']"
   ]
  },
  {
   "cell_type": "code",
   "execution_count": 122,
   "id": "5fbb4e9a",
   "metadata": {},
   "outputs": [
    {
     "data": {
      "text/plain": [
       "Database(MongoClient(host=['common-thistle-mg3.alaps.kz.prod.bash.kz:27017', 'common-thistle-mg2.alaps.kz.prod.bash.kz:27017', 'common-thistle-mg1.alaps.kz.prod.bash.kz:27017'], document_class=dict, tz_aware=False, connect=True, replicaset='thistle', readpreference='secondaryPreferred'), 'thistle')"
      ]
     },
     "execution_count": 122,
     "metadata": {},
     "output_type": "execute_result"
    }
   ],
   "source": [
    "db"
   ]
  },
  {
   "cell_type": "code",
   "execution_count": 123,
   "id": "255c77fe",
   "metadata": {},
   "outputs": [
    {
     "data": {
      "text/plain": [
       "Collection(Database(MongoClient(host=['common-thistle-mg3.alaps.kz.prod.bash.kz:27017', 'common-thistle-mg2.alaps.kz.prod.bash.kz:27017', 'common-thistle-mg1.alaps.kz.prod.bash.kz:27017'], document_class=dict, tz_aware=False, connect=True, replicaset='thistle', readpreference='secondaryPreferred'), 'thistle'), 'ip_fraud_check')"
      ]
     },
     "execution_count": 123,
     "metadata": {},
     "output_type": "execute_result"
    }
   ],
   "source": [
    "collection"
   ]
  },
  {
   "cell_type": "code",
   "execution_count": 124,
   "id": "afb7604a",
   "metadata": {},
   "outputs": [
    {
     "data": {
      "text/plain": [
       "368998"
      ]
     },
     "execution_count": 124,
     "metadata": {},
     "output_type": "execute_result"
    }
   ],
   "source": [
    "collection.count_documents({})"
   ]
  },
  {
   "cell_type": "code",
   "execution_count": 125,
   "id": "245e1564",
   "metadata": {},
   "outputs": [],
   "source": [
    "documents = collection.find({}).batch_size(1000) # Adjust batch size as needed"
   ]
  },
  {
   "cell_type": "code",
   "execution_count": 128,
   "id": "feffe486",
   "metadata": {},
   "outputs": [
    {
     "data": {
      "text/plain": [
       "pymongo.cursor.Cursor"
      ]
     },
     "execution_count": 128,
     "metadata": {},
     "output_type": "execute_result"
    }
   ],
   "source": [
    "type(documents)"
   ]
  },
  {
   "cell_type": "code",
   "execution_count": null,
   "id": "1bf6c191",
   "metadata": {},
   "outputs": [],
   "source": [
    "from IPython.display import clear_output"
   ]
  },
  {
   "cell_type": "code",
   "execution_count": 129,
   "id": "f331302e",
   "metadata": {},
   "outputs": [
    {
     "name": "stdout",
     "output_type": "stream",
     "text": [
      "doing 0\n",
      "doing 10\n",
      "doing 20\n",
      "doing 30\n",
      "doing 40\n",
      "doing 50\n",
      "doing 60\n",
      "doing 70\n",
      "doing 80\n",
      "doing 90\n"
     ]
    }
   ],
   "source": [
    "with open('ip_fraud_check.csv', 'w', newline='', encoding='utf-8') as csvfile:\n",
    "    writer = csv.writer(csvfile)\n",
    "\n",
    "    # Write the header\n",
    "    header = ['_id', 'ip', 'checks']\n",
    "    writer.writerow(header)\n",
    "    i = 0\n",
    "    \n",
    "    # Write the documents to the CSV\n",
    "    for i_doc, document in enumerate(documents):\n",
    "        try:\n",
    "            if i_doc % 10 == 0:\n",
    "                print(f'doing {i_doc}')\n",
    "\n",
    "            writer.writerow([document['_id'], document['ip'], document['checks']])\n",
    "            if i_doc >= 99:\n",
    "                break\n",
    "                \n",
    "        except Exception as e:\n",
    "            print(f\"Exception occured: {e}\")\n",
    "            continue\n",
    "        time.sleep(0.15)"
   ]
  },
  {
   "cell_type": "code",
   "execution_count": 130,
   "id": "139dbc87",
   "metadata": {},
   "outputs": [],
   "source": [
    "scamalytics_result = pd.read_csv('ip_fraud_check.csv')"
   ]
  },
  {
   "cell_type": "code",
   "execution_count": 131,
   "id": "20271112",
   "metadata": {
    "scrolled": true
   },
   "outputs": [
    {
     "data": {
      "text/html": [
       "<div>\n",
       "<style scoped>\n",
       "    .dataframe tbody tr th:only-of-type {\n",
       "        vertical-align: middle;\n",
       "    }\n",
       "\n",
       "    .dataframe tbody tr th {\n",
       "        vertical-align: top;\n",
       "    }\n",
       "\n",
       "    .dataframe thead th {\n",
       "        text-align: right;\n",
       "    }\n",
       "</style>\n",
       "<table border=\"1\" class=\"dataframe\">\n",
       "  <thead>\n",
       "    <tr style=\"text-align: right;\">\n",
       "      <th></th>\n",
       "      <th>_id</th>\n",
       "      <th>ip</th>\n",
       "      <th>checks</th>\n",
       "    </tr>\n",
       "  </thead>\n",
       "  <tbody>\n",
       "    <tr>\n",
       "      <th>0</th>\n",
       "      <td>64bf4b2cda44b800ad51c6cc</td>\n",
       "      <td>206.62.53.79</td>\n",
       "      <td>[{'risk': 'low', 'score': 0, 'proxytype': 'DCH...</td>\n",
       "    </tr>\n",
       "    <tr>\n",
       "      <th>1</th>\n",
       "      <td>64bf4b2cda44b800ad51c6d4</td>\n",
       "      <td>5.188.65.90</td>\n",
       "      <td>[{'risk': 'medium', 'score': 25, 'proxytype': ...</td>\n",
       "    </tr>\n",
       "    <tr>\n",
       "      <th>2</th>\n",
       "      <td>64bf4b3cda44b800ad51c7c4</td>\n",
       "      <td>185.250.31.148</td>\n",
       "      <td>[{'risk': 'medium', 'score': 25, 'proxytype': ...</td>\n",
       "    </tr>\n",
       "    <tr>\n",
       "      <th>3</th>\n",
       "      <td>64bf4b3cda44b800ad51c7d2</td>\n",
       "      <td>89.219.21.57</td>\n",
       "      <td>[{'risk': 'low', 'score': 0, 'proxytype': 'DCH...</td>\n",
       "    </tr>\n",
       "    <tr>\n",
       "      <th>4</th>\n",
       "      <td>64bf4b45da44b800ad51c867</td>\n",
       "      <td>5.76.88.5</td>\n",
       "      <td>[{'risk': 'low', 'score': 16, 'proxytype': '0'...</td>\n",
       "    </tr>\n",
       "    <tr>\n",
       "      <th>...</th>\n",
       "      <td>...</td>\n",
       "      <td>...</td>\n",
       "      <td>...</td>\n",
       "    </tr>\n",
       "    <tr>\n",
       "      <th>95</th>\n",
       "      <td>64bf4bf0da44b800ad51d6fc</td>\n",
       "      <td>89.43.166.15</td>\n",
       "      <td>[{'risk': 'low', 'score': 14, 'proxytype': '0'...</td>\n",
       "    </tr>\n",
       "    <tr>\n",
       "      <th>96</th>\n",
       "      <td>64bf4bf3da44b800ad51d73f</td>\n",
       "      <td>82.200.155.138</td>\n",
       "      <td>[{'risk': 'low', 'score': 17, 'proxytype': '0'...</td>\n",
       "    </tr>\n",
       "    <tr>\n",
       "      <th>97</th>\n",
       "      <td>64bf4bf6da44b800ad51d768</td>\n",
       "      <td>85.193.104.13</td>\n",
       "      <td>[{'risk': 'medium', 'score': 25, 'proxytype': ...</td>\n",
       "    </tr>\n",
       "    <tr>\n",
       "      <th>98</th>\n",
       "      <td>64bf4bf8da44b800ad51d7af</td>\n",
       "      <td>79.133.189.69</td>\n",
       "      <td>[{'risk': 'medium', 'score': 25, 'proxytype': ...</td>\n",
       "    </tr>\n",
       "    <tr>\n",
       "      <th>99</th>\n",
       "      <td>64bf4bf8da44b800ad51d7b8</td>\n",
       "      <td>149.27.67.174</td>\n",
       "      <td>[{'risk': 'medium', 'score': 20, 'proxytype': ...</td>\n",
       "    </tr>\n",
       "  </tbody>\n",
       "</table>\n",
       "<p>100 rows × 3 columns</p>\n",
       "</div>"
      ],
      "text/plain": [
       "                         _id              ip  \\\n",
       "0   64bf4b2cda44b800ad51c6cc    206.62.53.79   \n",
       "1   64bf4b2cda44b800ad51c6d4     5.188.65.90   \n",
       "2   64bf4b3cda44b800ad51c7c4  185.250.31.148   \n",
       "3   64bf4b3cda44b800ad51c7d2    89.219.21.57   \n",
       "4   64bf4b45da44b800ad51c867       5.76.88.5   \n",
       "..                       ...             ...   \n",
       "95  64bf4bf0da44b800ad51d6fc    89.43.166.15   \n",
       "96  64bf4bf3da44b800ad51d73f  82.200.155.138   \n",
       "97  64bf4bf6da44b800ad51d768   85.193.104.13   \n",
       "98  64bf4bf8da44b800ad51d7af   79.133.189.69   \n",
       "99  64bf4bf8da44b800ad51d7b8   149.27.67.174   \n",
       "\n",
       "                                               checks  \n",
       "0   [{'risk': 'low', 'score': 0, 'proxytype': 'DCH...  \n",
       "1   [{'risk': 'medium', 'score': 25, 'proxytype': ...  \n",
       "2   [{'risk': 'medium', 'score': 25, 'proxytype': ...  \n",
       "3   [{'risk': 'low', 'score': 0, 'proxytype': 'DCH...  \n",
       "4   [{'risk': 'low', 'score': 16, 'proxytype': '0'...  \n",
       "..                                                ...  \n",
       "95  [{'risk': 'low', 'score': 14, 'proxytype': '0'...  \n",
       "96  [{'risk': 'low', 'score': 17, 'proxytype': '0'...  \n",
       "97  [{'risk': 'medium', 'score': 25, 'proxytype': ...  \n",
       "98  [{'risk': 'medium', 'score': 25, 'proxytype': ...  \n",
       "99  [{'risk': 'medium', 'score': 20, 'proxytype': ...  \n",
       "\n",
       "[100 rows x 3 columns]"
      ]
     },
     "execution_count": 131,
     "metadata": {},
     "output_type": "execute_result"
    }
   ],
   "source": [
    "scamalytics_result"
   ]
  },
  {
   "cell_type": "markdown",
   "id": "e2bfa61d",
   "metadata": {},
   "source": [
    "## Working with mysql"
   ]
  },
  {
   "cell_type": "code",
   "execution_count": null,
   "id": "2652b3d6",
   "metadata": {},
   "outputs": [],
   "source": [
    "!pip install mysql-connector-python"
   ]
  },
  {
   "cell_type": "code",
   "execution_count": null,
   "id": "8c97a075",
   "metadata": {},
   "outputs": [],
   "source": [
    "!pip install python-dotenv"
   ]
  },
  {
   "cell_type": "code",
   "execution_count": 132,
   "id": "28f560c6",
   "metadata": {},
   "outputs": [],
   "source": [
    "import mysql.connector"
   ]
  },
  {
   "cell_type": "code",
   "execution_count": 133,
   "id": "cd4e0a9a",
   "metadata": {},
   "outputs": [],
   "source": [
    "database_password = os.getenv('MYSQL_PASSWORD')"
   ]
  },
  {
   "cell_type": "code",
   "execution_count": 134,
   "id": "a1595c02",
   "metadata": {},
   "outputs": [],
   "source": [
    "conn = mysql.connector.connect(\n",
    "    host='kolesa-aps-dbmy1.alahd.kz.test.bash.kz',\n",
    "    user='analytics_airflow',\n",
    "    password=database_password,\n",
    "    database='kolesa'\n",
    ")"
   ]
  },
  {
   "cell_type": "code",
   "execution_count": 136,
   "id": "9beaf7c0",
   "metadata": {},
   "outputs": [
    {
     "name": "stdout",
     "output_type": "stream",
     "text": [
      "<class 'mysql.connector.connection_cext.CMySQLConnection'>\n"
     ]
    }
   ],
   "source": [
    "print(type(conn))"
   ]
  },
  {
   "cell_type": "code",
   "execution_count": 137,
   "id": "e76db531",
   "metadata": {},
   "outputs": [],
   "source": [
    "cursor = conn.cursor()"
   ]
  },
  {
   "cell_type": "code",
   "execution_count": 138,
   "id": "be2fa2f9",
   "metadata": {},
   "outputs": [],
   "source": [
    "cursor.execute(\"SHOW TABLES\")"
   ]
  },
  {
   "cell_type": "code",
   "execution_count": 139,
   "id": "625641f2",
   "metadata": {},
   "outputs": [
    {
     "name": "stdout",
     "output_type": "stream",
     "text": [
      "Tables in the database:\n",
      "bucket_filters\n",
      "bucket_filters_test\n",
      "bucket_rules\n",
      "bucket_rules_history\n",
      "bucket_rules_test\n",
      "package_services_with_price\n",
      "packages_in_advert\n",
      "packages_services_schedule\n",
      "phinxlog\n",
      "price_filter_rules\n",
      "price_filter_rules_kl_24357\n",
      "price_filters\n",
      "price_filters_kl_24357\n",
      "price_rules\n",
      "price_rules_aleinikov\n",
      "price_rules_history\n",
      "price_rules_pelivan\n",
      "protection_phones\n",
      "user_segments\n",
      "user_segments_archive_messages\n",
      "user_segments_imports\n",
      "user_segments_limits\n",
      "user_segments_margin\n",
      "user_segments_packages\n",
      "user_segments_packages_eduard\n",
      "user_segments_services\n",
      "user_segments_services_eduard\n"
     ]
    }
   ],
   "source": [
    "print(\"Tables in the database:\")\n",
    "for (table_name,) in cursor:\n",
    "    print(table_name)"
   ]
  },
  {
   "cell_type": "code",
   "execution_count": 140,
   "id": "ccccbc5c",
   "metadata": {},
   "outputs": [],
   "source": [
    "cursor.execute('select * from user_segments_packages limit 10')"
   ]
  },
  {
   "cell_type": "code",
   "execution_count": 141,
   "id": "3641a157",
   "metadata": {},
   "outputs": [],
   "source": [
    "result = []\n",
    "for row in cursor.fetchall():\n",
    "    result.append(row)"
   ]
  },
  {
   "cell_type": "code",
   "execution_count": 143,
   "id": "619dbfc2",
   "metadata": {},
   "outputs": [
    {
     "data": {
      "text/plain": [
       "[('id', 3, None, None, None, None, 0, 49667, 63),\n",
       " ('user_id', 3, None, None, None, None, 0, 53257, 63),\n",
       " ('package_name', 253, None, None, None, None, 0, 4097, 255),\n",
       " ('cat_id', 3, None, None, None, None, 0, 49161, 63),\n",
       " ('coeff', 3, None, None, None, None, 0, 32769, 63),\n",
       " ('fixed_price', 3, None, None, None, None, 1, 32768, 63),\n",
       " ('created_at', 7, None, None, None, None, 0, 1153, 63),\n",
       " ('import_id', 8, None, None, None, None, 1, 32768, 63),\n",
       " ('import_name', 253, None, None, None, None, 1, 0, 255)]"
      ]
     },
     "execution_count": 143,
     "metadata": {},
     "output_type": "execute_result"
    }
   ],
   "source": [
    "cursor.description"
   ]
  },
  {
   "cell_type": "code",
   "execution_count": 144,
   "id": "fbd240a0",
   "metadata": {},
   "outputs": [],
   "source": [
    "column_names = [column[0] for column in cursor.description]"
   ]
  },
  {
   "cell_type": "code",
   "execution_count": 145,
   "id": "bf3f4734",
   "metadata": {},
   "outputs": [
    {
     "data": {
      "text/html": [
       "<div>\n",
       "<style scoped>\n",
       "    .dataframe tbody tr th:only-of-type {\n",
       "        vertical-align: middle;\n",
       "    }\n",
       "\n",
       "    .dataframe tbody tr th {\n",
       "        vertical-align: top;\n",
       "    }\n",
       "\n",
       "    .dataframe thead th {\n",
       "        text-align: right;\n",
       "    }\n",
       "</style>\n",
       "<table border=\"1\" class=\"dataframe\">\n",
       "  <thead>\n",
       "    <tr style=\"text-align: right;\">\n",
       "      <th></th>\n",
       "      <th>id</th>\n",
       "      <th>user_id</th>\n",
       "      <th>package_name</th>\n",
       "      <th>cat_id</th>\n",
       "      <th>coeff</th>\n",
       "      <th>fixed_price</th>\n",
       "      <th>created_at</th>\n",
       "      <th>import_id</th>\n",
       "      <th>import_name</th>\n",
       "    </tr>\n",
       "  </thead>\n",
       "  <tbody>\n",
       "    <tr>\n",
       "      <th>0</th>\n",
       "      <td>2465004</td>\n",
       "      <td>88899701</td>\n",
       "      <td>threeday-sale</td>\n",
       "      <td>2</td>\n",
       "      <td>60</td>\n",
       "      <td>None</td>\n",
       "      <td>2023-12-01 17:30:24</td>\n",
       "      <td>None</td>\n",
       "      <td>None</td>\n",
       "    </tr>\n",
       "    <tr>\n",
       "      <th>1</th>\n",
       "      <td>2465005</td>\n",
       "      <td>103545909</td>\n",
       "      <td>threeday-sale</td>\n",
       "      <td>3</td>\n",
       "      <td>77</td>\n",
       "      <td>None</td>\n",
       "      <td>2023-12-20 11:44:30</td>\n",
       "      <td>None</td>\n",
       "      <td>None</td>\n",
       "    </tr>\n",
       "    <tr>\n",
       "      <th>2</th>\n",
       "      <td>2465006</td>\n",
       "      <td>164158889</td>\n",
       "      <td>threeday-sale</td>\n",
       "      <td>3</td>\n",
       "      <td>77</td>\n",
       "      <td>None</td>\n",
       "      <td>2023-12-21 13:20:17</td>\n",
       "      <td>None</td>\n",
       "      <td>None</td>\n",
       "    </tr>\n",
       "    <tr>\n",
       "      <th>3</th>\n",
       "      <td>2465007</td>\n",
       "      <td>164159216</td>\n",
       "      <td>threeday-sale</td>\n",
       "      <td>3</td>\n",
       "      <td>77</td>\n",
       "      <td>None</td>\n",
       "      <td>2023-12-21 13:20:29</td>\n",
       "      <td>None</td>\n",
       "      <td>None</td>\n",
       "    </tr>\n",
       "    <tr>\n",
       "      <th>4</th>\n",
       "      <td>2465008</td>\n",
       "      <td>101591041</td>\n",
       "      <td>threeday-sale</td>\n",
       "      <td>2</td>\n",
       "      <td>60</td>\n",
       "      <td>None</td>\n",
       "      <td>2023-12-27 10:14:10</td>\n",
       "      <td>None</td>\n",
       "      <td>None</td>\n",
       "    </tr>\n",
       "    <tr>\n",
       "      <th>5</th>\n",
       "      <td>2465009</td>\n",
       "      <td>83350595</td>\n",
       "      <td>threeday-sale</td>\n",
       "      <td>2</td>\n",
       "      <td>60</td>\n",
       "      <td>None</td>\n",
       "      <td>2024-01-04 13:58:49</td>\n",
       "      <td>None</td>\n",
       "      <td>None</td>\n",
       "    </tr>\n",
       "    <tr>\n",
       "      <th>6</th>\n",
       "      <td>2465010</td>\n",
       "      <td>162514789</td>\n",
       "      <td>threeday-sale</td>\n",
       "      <td>2</td>\n",
       "      <td>60</td>\n",
       "      <td>None</td>\n",
       "      <td>2024-01-04 13:58:49</td>\n",
       "      <td>None</td>\n",
       "      <td>None</td>\n",
       "    </tr>\n",
       "    <tr>\n",
       "      <th>7</th>\n",
       "      <td>2465011</td>\n",
       "      <td>100888167</td>\n",
       "      <td>threeday-sale</td>\n",
       "      <td>2</td>\n",
       "      <td>65</td>\n",
       "      <td>None</td>\n",
       "      <td>2024-01-08 16:20:27</td>\n",
       "      <td>None</td>\n",
       "      <td>None</td>\n",
       "    </tr>\n",
       "    <tr>\n",
       "      <th>8</th>\n",
       "      <td>2465012</td>\n",
       "      <td>103545909</td>\n",
       "      <td>threeday-sale</td>\n",
       "      <td>3</td>\n",
       "      <td>77</td>\n",
       "      <td>None</td>\n",
       "      <td>2024-01-10 16:55:43</td>\n",
       "      <td>None</td>\n",
       "      <td>None</td>\n",
       "    </tr>\n",
       "    <tr>\n",
       "      <th>9</th>\n",
       "      <td>2465013</td>\n",
       "      <td>90213455</td>\n",
       "      <td>threeday-sale</td>\n",
       "      <td>2</td>\n",
       "      <td>77</td>\n",
       "      <td>None</td>\n",
       "      <td>2024-01-10 16:59:22</td>\n",
       "      <td>None</td>\n",
       "      <td>None</td>\n",
       "    </tr>\n",
       "  </tbody>\n",
       "</table>\n",
       "</div>"
      ],
      "text/plain": [
       "        id    user_id   package_name  cat_id  coeff fixed_price  \\\n",
       "0  2465004   88899701  threeday-sale       2     60        None   \n",
       "1  2465005  103545909  threeday-sale       3     77        None   \n",
       "2  2465006  164158889  threeday-sale       3     77        None   \n",
       "3  2465007  164159216  threeday-sale       3     77        None   \n",
       "4  2465008  101591041  threeday-sale       2     60        None   \n",
       "5  2465009   83350595  threeday-sale       2     60        None   \n",
       "6  2465010  162514789  threeday-sale       2     60        None   \n",
       "7  2465011  100888167  threeday-sale       2     65        None   \n",
       "8  2465012  103545909  threeday-sale       3     77        None   \n",
       "9  2465013   90213455  threeday-sale       2     77        None   \n",
       "\n",
       "           created_at import_id import_name  \n",
       "0 2023-12-01 17:30:24      None        None  \n",
       "1 2023-12-20 11:44:30      None        None  \n",
       "2 2023-12-21 13:20:17      None        None  \n",
       "3 2023-12-21 13:20:29      None        None  \n",
       "4 2023-12-27 10:14:10      None        None  \n",
       "5 2024-01-04 13:58:49      None        None  \n",
       "6 2024-01-04 13:58:49      None        None  \n",
       "7 2024-01-08 16:20:27      None        None  \n",
       "8 2024-01-10 16:55:43      None        None  \n",
       "9 2024-01-10 16:59:22      None        None  "
      ]
     },
     "execution_count": 145,
     "metadata": {},
     "output_type": "execute_result"
    }
   ],
   "source": [
    "pd.DataFrame(result, columns = column_names)"
   ]
  },
  {
   "cell_type": "code",
   "execution_count": null,
   "id": "379e18e3",
   "metadata": {},
   "outputs": [],
   "source": []
  }
 ],
 "metadata": {
  "kernelspec": {
   "display_name": "Python 3 (ipykernel)",
   "language": "python",
   "name": "python3"
  },
  "language_info": {
   "codemirror_mode": {
    "name": "ipython",
    "version": 3
   },
   "file_extension": ".py",
   "mimetype": "text/x-python",
   "name": "python",
   "nbconvert_exporter": "python",
   "pygments_lexer": "ipython3",
   "version": "3.10.12"
  }
 },
 "nbformat": 4,
 "nbformat_minor": 5
}
