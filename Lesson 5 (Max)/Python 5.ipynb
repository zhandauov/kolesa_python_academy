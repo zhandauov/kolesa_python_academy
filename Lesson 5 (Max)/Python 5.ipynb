{
 "cells": [
  {
   "cell_type": "code",
   "execution_count": 72,
   "id": "af715d05",
   "metadata": {},
   "outputs": [
    {
     "name": "stdout",
     "output_type": "stream",
     "text": [
      "Леша Кондратьев\n"
     ]
    }
   ],
   "source": [
    "import random\n",
    "\n",
    "people = [\n",
    "    \"Салтанат Санатова\",\n",
    "    \"Рустам Билалов\",\n",
    "    \"Раймбек Жузжасар\",\n",
    "    \"Олжас Ромазанов\",\n",
    "    \"Леша Котов\",\n",
    "    \"Леша Кондратьев\",\n",
    "    \"Камила Нурсаитова\",\n",
    "    \"Гайни Альмуханова\",\n",
    "    \"Аяжан Найманбаева\",\n",
    "    \"Арсен Шегебаев\",\n",
    "    \"Ангелина Кардашова\",\n",
    "    \"Адиль Абылкакимов\",\n",
    "    \"Аделя Кунсеитова\",\n",
    "    \"Аделя Акбердина\",\n",
    "    \"Абдумажид Турдиев\"\n",
    "]\n",
    "\n",
    "selected_person = random.choice(people)\n",
    "print(selected_person)\n"
   ]
  },
  {
   "cell_type": "code",
   "execution_count": 30,
   "id": "74dd04cc",
   "metadata": {},
   "outputs": [],
   "source": [
    "import pandas as pd\n",
    "from google.oauth2 import service_account\n",
    "\n",
    "project_id = 'kolesa-group'\n",
    "credentials = 'D:/Kolesa/kolesa_work/credentials/BQ.json'\n",
    "credentials = service_account.Credentials.from_service_account_file(credentials)"
   ]
  },
  {
   "cell_type": "code",
   "execution_count": 34,
   "id": "a4458c3a",
   "metadata": {},
   "outputs": [],
   "source": [
    "q = \"\"\"SELECT execution_date, count(*) as y FROM `krisha-83abb.dwh.live_adverts` WHERE execution_date >= \"2021-01-01\"\n",
    "group by 1\n",
    "order by 1\"\"\""
   ]
  },
  {
   "cell_type": "code",
   "execution_count": 35,
   "id": "43e13dbb",
   "metadata": {},
   "outputs": [
    {
     "name": "stdout",
     "output_type": "stream",
     "text": [
      "Downloading: 100%|\u001b[32m████████████████████████████████████████████████████████████████████████████████████████████████████\u001b[0m|\u001b[0m\n"
     ]
    }
   ],
   "source": [
    "df = pd.read_gbq(q, project_id=project_id, credentials=credentials, dialect='standard', progress_bar_type = 'tqdm')"
   ]
  },
  {
   "cell_type": "code",
   "execution_count": 39,
   "id": "d0bf5525",
   "metadata": {},
   "outputs": [
    {
     "name": "stdout",
     "output_type": "stream",
     "text": [
      "<class 'pandas.core.frame.DataFrame'>\n",
      "RangeIndex: 1169 entries, 0 to 1168\n",
      "Data columns (total 2 columns):\n",
      " #   Column          Non-Null Count  Dtype \n",
      "---  ------          --------------  ----- \n",
      " 0   execution_date  1169 non-null   dbdate\n",
      " 1   y               1169 non-null   Int64 \n",
      "dtypes: Int64(1), dbdate(1)\n",
      "memory usage: 19.5 KB\n"
     ]
    }
   ],
   "source": [
    "df.info()"
   ]
  },
  {
   "cell_type": "code",
   "execution_count": 40,
   "id": "4d8f1fe4",
   "metadata": {},
   "outputs": [
    {
     "name": "stdout",
     "output_type": "stream",
     "text": [
      "<class 'pandas.core.frame.DataFrame'>\n",
      "RangeIndex: 1169 entries, 0 to 1168\n",
      "Data columns (total 2 columns):\n",
      " #   Column          Non-Null Count  Dtype \n",
      "---  ------          --------------  ----- \n",
      " 0   execution_date  1169 non-null   dbdate\n",
      " 1   y               1169 non-null   Int64 \n",
      "dtypes: Int64(1), dbdate(1)\n",
      "memory usage: 19.5 KB\n"
     ]
    }
   ],
   "source": [
    "df.info()"
   ]
  },
  {
   "cell_type": "code",
   "execution_count": 47,
   "id": "8891e445",
   "metadata": {},
   "outputs": [
    {
     "data": {
      "text/html": [
       "<div>\n",
       "<style scoped>\n",
       "    .dataframe tbody tr th:only-of-type {\n",
       "        vertical-align: middle;\n",
       "    }\n",
       "\n",
       "    .dataframe tbody tr th {\n",
       "        vertical-align: top;\n",
       "    }\n",
       "\n",
       "    .dataframe thead th {\n",
       "        text-align: right;\n",
       "    }\n",
       "</style>\n",
       "<table border=\"1\" class=\"dataframe\">\n",
       "  <thead>\n",
       "    <tr style=\"text-align: right;\">\n",
       "      <th></th>\n",
       "      <th>execution_date</th>\n",
       "      <th>y</th>\n",
       "    </tr>\n",
       "  </thead>\n",
       "  <tbody>\n",
       "    <tr>\n",
       "      <th>129</th>\n",
       "      <td>2021-05-10</td>\n",
       "      <td>615283</td>\n",
       "    </tr>\n",
       "  </tbody>\n",
       "</table>\n",
       "</div>"
      ],
      "text/plain": [
       "    execution_date       y\n",
       "129     2021-05-10  615283"
      ]
     },
     "execution_count": 47,
     "metadata": {},
     "output_type": "execute_result"
    }
   ],
   "source": [
    "df[df['y'] == df['y'].max()]"
   ]
  },
  {
   "cell_type": "code",
   "execution_count": 54,
   "id": "50f0813d",
   "metadata": {},
   "outputs": [
    {
     "data": {
      "text/plain": [
       "307641.5"
      ]
     },
     "execution_count": 54,
     "metadata": {},
     "output_type": "execute_result"
    }
   ],
   "source": [
    "615283/2"
   ]
  },
  {
   "cell_type": "code",
   "execution_count": 58,
   "id": "34aed443",
   "metadata": {},
   "outputs": [
    {
     "data": {
      "text/plain": [
       "342515.5"
      ]
     },
     "execution_count": 58,
     "metadata": {},
     "output_type": "execute_result"
    }
   ],
   "source": [
    "(df.iloc[130]['y'] + df.iloc[128]['y'])/2"
   ]
  },
  {
   "cell_type": "code",
   "execution_count": 65,
   "id": "4e23957a",
   "metadata": {},
   "outputs": [
    {
     "data": {
      "text/plain": [
       "615283"
      ]
     },
     "execution_count": 65,
     "metadata": {},
     "output_type": "execute_result"
    }
   ],
   "source": [
    "df.iloc[129]['y']"
   ]
  },
  {
   "cell_type": "code",
   "execution_count": null,
   "id": "022d6037",
   "metadata": {},
   "outputs": [],
   "source": []
  },
  {
   "cell_type": "code",
   "execution_count": 67,
   "id": "38ec87a9",
   "metadata": {},
   "outputs": [],
   "source": [
    "df['y'] = df['y'].replace(615283,342515)"
   ]
  },
  {
   "cell_type": "code",
   "execution_count": 80,
   "id": "e513988a",
   "metadata": {},
   "outputs": [
    {
     "data": {
      "text/plain": [
       "<AxesSubplot:>"
      ]
     },
     "execution_count": 80,
     "metadata": {},
     "output_type": "execute_result"
    },
    {
     "data": {
      "image/png": "[encoded data removed]",
      "text/plain": [
       "<Figure size 432x288 with 1 Axes>"
      ]
     },
     "metadata": {
      "needs_background": "light"
     },
     "output_type": "display_data"
    }
   ],
   "source": [
    "df['y'].plot()"
   ]
  },
  {
   "cell_type": "code",
   "execution_count": 152,
   "id": "c7c8b558",
   "metadata": {},
   "outputs": [],
   "source": [
    "df['execution_date'] = pd.to_datetime(df['execution_date'], format='%Y-%m-%d')"
   ]
  },
  {
   "cell_type": "code",
   "execution_count": 153,
   "id": "cab4b584",
   "metadata": {},
   "outputs": [],
   "source": [
    "train = df[df['execution_date'] < '2023-01-01']"
   ]
  },
  {
   "cell_type": "code",
   "execution_count": 154,
   "id": "69862710",
   "metadata": {},
   "outputs": [],
   "source": [
    "test = df[df['execution_date'] >= '2023-01-01']"
   ]
  },
  {
   "cell_type": "code",
   "execution_count": 155,
   "id": "4bb01ca8",
   "metadata": {},
   "outputs": [],
   "source": [
    "output_errors = np.average(np.abs(y_pred - y_true))"
   ]
  },
  {
   "cell_type": "code",
   "execution_count": 156,
   "id": "45f1af5b",
   "metadata": {},
   "outputs": [],
   "source": [
    "y_true = test['y']"
   ]
  },
  {
   "cell_type": "code",
   "execution_count": 159,
   "id": "48c11f75",
   "metadata": {},
   "outputs": [],
   "source": [
    "y_pred = y_true.copy()"
   ]
  },
  {
   "cell_type": "code",
   "execution_count": 160,
   "id": "0c32dc40",
   "metadata": {},
   "outputs": [],
   "source": [
    "test_a = test.copy()"
   ]
  },
  {
   "cell_type": "code",
   "execution_count": 161,
   "id": "d5b3297c",
   "metadata": {},
   "outputs": [],
   "source": [
    "test_a['y'] = 344948"
   ]
  },
  {
   "cell_type": "code",
   "execution_count": 168,
   "id": "5cd21f06",
   "metadata": {},
   "outputs": [],
   "source": [
    "y_pred = test_a['y']"
   ]
  },
  {
   "cell_type": "code",
   "execution_count": 171,
   "id": "fefb83f3",
   "metadata": {},
   "outputs": [],
   "source": [
    "output_errors = np.average(np.abs(y_pred - y_true))"
   ]
  },
  {
   "cell_type": "code",
   "execution_count": 172,
   "id": "bd1428ef",
   "metadata": {},
   "outputs": [
    {
     "data": {
      "text/plain": [
       "112066.96355353075"
      ]
     },
     "execution_count": 172,
     "metadata": {},
     "output_type": "execute_result"
    }
   ],
   "source": [
    "output_errors"
   ]
  },
  {
   "cell_type": "code",
   "execution_count": 173,
   "id": "8ec5500d",
   "metadata": {},
   "outputs": [
    {
     "name": "stderr",
     "output_type": "stream",
     "text": [
      "Importing plotly failed. Interactive plots will not work.\n"
     ]
    }
   ],
   "source": [
    "import prophet"
   ]
  },
  {
   "cell_type": "code",
   "execution_count": null,
   "id": "1daf234a",
   "metadata": {},
   "outputs": [],
   "source": [
    "prophet.Prophet()"
   ]
  },
  {
   "cell_type": "code",
   "execution_count": 125,
   "id": "0ffde4f0",
   "metadata": {},
   "outputs": [
    {
     "data": {
      "text/plain": [
       "344948"
      ]
     },
     "execution_count": 125,
     "metadata": {},
     "output_type": "execute_result"
    }
   ],
   "source": [
    "344948"
   ]
  },
  {
   "cell_type": "code",
   "execution_count": 124,
   "id": "9b9bf195",
   "metadata": {},
   "outputs": [
    {
     "data": {
      "text/plain": [
       "344948"
      ]
     },
     "execution_count": 124,
     "metadata": {},
     "output_type": "execute_result"
    }
   ],
   "source": [
    "y_pred"
   ]
  },
  {
   "cell_type": "markdown",
   "id": "42fe568b",
   "metadata": {},
   "source": [
    "Прогноз периода - 31.12.2024\n"
   ]
  },
  {
   "cell_type": "code",
   "execution_count": null,
   "id": "25c3751a",
   "metadata": {},
   "outputs": [],
   "source": [
    "Как то оценить , через метрики"
   ]
  },
  {
   "cell_type": "code",
   "execution_count": null,
   "id": "7108cf91",
   "metadata": {},
   "outputs": [],
   "source": [
    "какие метрики mae"
   ]
  },
  {
   "cell_type": "code",
   "execution_count": null,
   "id": "d118e680",
   "metadata": {},
   "outputs": [],
   "source": [
    "кросс валидацию"
   ]
  },
  {
   "cell_type": "code",
   "execution_count": null,
   "id": "45f7ff2e",
   "metadata": {},
   "outputs": [],
   "source": [
    "MAE"
   ]
  },
  {
   "cell_type": "code",
   "execution_count": null,
   "id": "ff6a0881",
   "metadata": {},
   "outputs": [],
   "source": []
  },
  {
   "cell_type": "code",
   "execution_count": null,
   "id": "b7425afa",
   "metadata": {},
   "outputs": [],
   "source": []
  },
  {
   "cell_type": "markdown",
   "id": "52b97707",
   "metadata": {},
   "source": [
    "ML System Design Doc - [RU]\n",
    "Дизайн ML системы - <Продукт> <MVP or Production System> <Номер>\n",
    "Шаблон ML System Design Doc от телеграм-канала Reliable ML\n",
    "\n",
    "Рекомендации по процессу заполнения документа (workflow) - здесь.\n",
    "Детальный доклад о том, что такое ML System Design Doc и о том, как, когда и зачем его составлять - тут.\n",
    "Термины и пояснения\n",
    "Итерация - это все работы, которые совершаются до старта очередного пилота\n",
    "БТ - бизнес-требования\n",
    "EDA - Exploratory Data Analysis - исследовательский анализ данных\n",
    "Product Owner, Data Scientist - роли, которые заполняют соответствующие разделы\n",
    "В этом шаблоне роль Data Scientist совмещает в себе компетенции классического Data Scientist с упором на исследования и ML Engineer & ML Ops роли с акцентом на продуктивизацию моделей\n",
    "Для вашей организации распределение ролей может быть уточнено в зависимости от операционной модели\n",
    "1. Цели и предпосылки\n",
    "1.1. Зачем идем в разработку продукта?\n",
    "Бизнес-цель Product Owner\n",
    "Почему станет лучше, чем сейчас, от использования ML Product Owner & Data Scientist\n",
    "Что будем считать успехом итерации с точки зрения бизнеса Product Owner\n",
    "1.2. Бизнес-требования и ограничения\n",
    "Краткое описание БТ и ссылки на детальные документы с бизнес-требованиями Product Owner\n",
    "Бизнес-ограничения Product Owner\n",
    "Что мы ожидаем от конкретной итерации Product Owner.\n",
    "Описание бизнес-процесса пилота, насколько это возможно - как именно мы будем использовать модель в существующем бизнес-процессе? Product Owner\n",
    "Что считаем успешным пилотом? Критерии успеха и возможные пути развития проекта Product Owner\n",
    "1.3. Что входит в скоуп проекта/итерации, что не входит\n",
    "На закрытие каких БТ подписываемся в данной итерации Data Scientist\n",
    "Что не будет закрыто Data Scientist\n",
    "Описание результата с точки зрения качества кода и воспроизводимости решения Data Scientist\n",
    "Описание планируемого технического долга (что оставляем для дальнейшей продуктивизации) Data Scientist\n",
    "1.4. Предпосылки решения\n",
    "Описание всех общих предпосылок решения, используемых в системе – с обоснованием от запроса бизнеса: какие блоки данных используем, горизонт прогноза, гранулярность модели, и др. Data Scientist\n",
    "2. Методология Data Scientist\n",
    "2.1. Постановка задачи\n",
    "Что делаем с технической точки зрения: рекомендательная система, поиск аномалий, прогноз, оптимизация, и др. Data Scientist\n",
    "2.2. Блок-схема решения\n",
    "Блок-схема для бейзлайна и основного MVP с ключевыми этапами решения задачи: подготовка данных, построение прогнозных моделей, оптимизация, тестирование, закрытие технического долга, подготовка пилота, другое. Data Scientist\n",
    "Пример возможной блок схемы\n",
    "Схема обязательно включает в себя архитектуру бейзлайна. Если бейзлайн и основной MVP отличаются несущественно, то это может быть одна блок-схема. Если значительно, то рисуем две: отдельно для бейзлайна, отдельно для основного MVP.\n",
    "Если блок-схема шаблонна - т.е. её можно скопировать и применить к разным продуктам, то она некорректна. Блок-схема должна показывать схему решения для конкретной задачи, поставленной в части 1.\n",
    "\n",
    "2.3. Этапы решения задачи Data Scientist\n",
    "Для каждого этапа по результатам EDA описываем - отдельно для бейзлайна и отдельно для основного MVP - все про данные и технику решения максимально конкретно. Обозначаем необходимые вводные, технику предполагаемого решения и что ожидаем получить на выходе, чтобы перейти к следующему этапу.\n",
    "Как правило, детальное и структурированное заполнение раздела 2.3 возможно только по результатам EDA.\n",
    "Если описание в дизайн доке шаблонно - т.е. его можно скопировать и применить к разным продуктам, то оно некорректно. Дизайн док должен показывать схему решения для конкретной задачи, поставленной в части 1.\n",
    "Примеры этапов:\n",
    "\n",
    "Этап 2 - Подготовка прогнозных моделей\n",
    "Этап 3 - Интерпретация моделей (согл. с заказчиком)\n",
    "Этап 4 - Интеграция бизнес правил для расчета бизнес-метрик качества мрдели\n",
    "Этап 5 - Подготовка инференса модели по итерациям\n",
    "Этап 6 - Интеграция бизнес правил\n",
    "Этап 7 - Разработка оптимизатора (выбор оптимальной итерации)\n",
    "Этап 8 - Подготовка финального отчета для бизнеса\n",
    "Этап 1 - это обычно, подготовка данных.\n",
    "\n",
    "В этом этапе должно быть следующее:\n",
    "\n",
    "Данные и сущности, на которых будет обучаться ваша модель машинного обучения. Отдельная таблица для целевой переменной (либо целевых переменных разных этапов), отдельная таблица – для признаков.\n",
    "Название данных\tЕсть ли данные в компании (если да, название источника/витрин)\tТребуемый ресурс для получения данных (какие роли нужны)\tПроверено ли качество данных (да, нет)\n",
    "Продажи\tDATAMARTS_SALES_PER_DAY\tDE/DS\t+\n",
    "...\t...\t...\t...\n",
    "Краткое описание результата этапа - что должно быть на выходе: витрины данных, потоки данных, др.\n",
    "Чаще всего заполнение раздела невозможно без EDA.\n",
    "\n",
    "Этапы 2 и далее, помимо подготовки данных.\n",
    "\n",
    "Описание техники для каждого этапа должно включать описание отдельно для MVP и отдельно для бейзлайна:\n",
    "\n",
    "Описание формирования выборки для обучения, тестирования и валидации. Выбор репрезентативных данных для экспериментов, обучения и подготовки пилота (от бизнес-цели и репрезентативности данных с технической точки зрения) Data Scientist\n",
    "Горизонт, гранулярность, частоту необходимого пересчета прогнозных моделей Data Scientist\n",
    "Определение целевой переменной, согласованное с бизнесом Data Scientist\n",
    "Какие метрики качества используем и почему они связаны с бизнес-результатом, обозначенным Product Owner в разделах 1 и 3. Пример - WAPE <= 50% для > 80% категорий, bias ~ 0. Возможна формулировка в терминах относительно бейзлайна, количественно. Для бейзлайна могут быть свои целевые метрики, а может их вообще не быть (если это обосновано) Data Scientist\n",
    "Необходимый результат этапа. Например, необходимым результатом может быть не просто достижение каких-либо метрик качества, а включение в модели определенных факторов (флаг промо для прогноза выручки, др.) Data Scientist\n",
    "Какие могут быть риски и что планируем с этим делать. Например, необходимый для модели фактор (флаг промо) окажется незначимым для большинства моделей. Или для 50% моделей будет недостаточно данных для оценки Data Scientist\n",
    "Верхнеуровневые принципы и обоснования для: feature engineering, подбора алгоритма решения, техники кросс-валидации, интерпретации результата (если применимо).\n",
    "Предусмотрена ли бизнес-проверка результата этапа и как будет проводиться Data Scientist & Product Owner\n",
    "3. Подготовка пилота\n",
    "3.1. Способ оценки пилота\n",
    "Краткое описание предполагаемого дизайна и способа оценки пилота Product Owner, Data Scientist with AB Group\n",
    "3.2. Что считаем успешным пилотом\n",
    "Формализованные в пилоте метрики оценки успешности Product Owner\n",
    "\n",
    "3.3. Подготовка пилота\n",
    "Что можем позволить себе, исходя из ожидаемых затрат на вычисления. Если исходно просчитать сложно, то описываем этап расчетов ожидаемой вычислительной сложности на эксперименте с бейзлайном. И предусматриваем уточнение параметров пилота и установку ограничений по вычислительной сложности моделей. Data Scientist\n",
    "4. Внедрение для production систем, если требуется\n",
    "Заполнение раздела 4 требуется не для всех дизайн документов. В некоторых случаях результатом итерации может быть расчет каких-то значений, далее используемых в бизнес-процессе для пилота.\n",
    "\n",
    "4.1. Архитектура решения\n",
    "Блок схема и пояснения: сервисы, назначения, методы API Data Scientist\n",
    "4.2. Описание инфраструктуры и масштабируемости\n",
    "Какая инфраструктура выбрана и почему Data Scientist\n",
    "Плюсы и минусы выбора Data Scientist\n",
    "Почему финальный выбор лучше других альтернатив Data Scientist\n",
    "4.3. Требования к работе системы\n",
    "SLA, пропускная способность и задержка Data Scientist\n",
    "4.4. Безопасность системы\n",
    "Потенциальная уязвимость системы Data Scientist\n",
    "4.5. Безопасность данных\n",
    "Нет ли нарушений GDPR и других законов Data Scientist\n",
    "4.6. Издержки\n",
    "Расчетные издержки на работу системы в месяц Data Scientist\n",
    "4.5. Integration points\n",
    "Описание взаимодействия между сервисами (методы API и др.) Data Scientist\n",
    "4.6. Риски\n",
    "Описание рисков и неопределенностей, которые стоит предусмотреть Data Scientist\n",
    "Материалы для дополнительного погружения в тему\n",
    "Шаблон ML System Design Doc [EN] от AWS и статья с объяснением каждого раздела\n",
    "Верхнеуровневый шаблон ML System Design Doc от Google и описание общих принципов его заполнения.\n",
    "ML Design Template от ML Engineering Interviews\n",
    "Статья Design Documents for ML Models на Medium. Верхнеуровневые рекомендации по содержанию дизайн-документа и объяснение, зачем он вообще нужен\n",
    "Краткий Canvas для ML-проекта от Made with ML. Подходит для верхнеуровневого описания идеи, чтобы понять, имеет ли смысл идти дальше."
   ]
  }
 ],
 "metadata": {
  "kernelspec": {
   "display_name": "Python 3 (ipykernel)",
   "language": "python",
   "name": "python3"
  },
  "language_info": {
   "codemirror_mode": {
    "name": "ipython",
    "version": 3
   },
   "file_extension": ".py",
   "mimetype": "text/x-python",
   "name": "python",
   "nbconvert_exporter": "python",
   "pygments_lexer": "ipython3",
   "version": "3.8.10"
  }
 },
 "nbformat": 4,
 "nbformat_minor": 5
}
