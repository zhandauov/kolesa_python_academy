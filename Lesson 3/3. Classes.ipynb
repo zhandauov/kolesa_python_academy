{
 "cells": [
  {
   "cell_type": "code",
   "execution_count": 20,
   "id": "0fad9bc0",
   "metadata": {},
   "outputs": [],
   "source": [
    "!jt -t grade3 -f roboto -fs 12 -tfs 12 -nfs 12 -ofs 10 -cellw 88% -N"
   ]
  },
  {
   "cell_type": "code",
   "execution_count": null,
   "id": "e73e2558",
   "metadata": {},
   "outputs": [],
   "source": [
    "\n",
    "!jt -t onedork -f roboto -fs 11 -tfs 12 -nfs 12 -ofs 10 -cellw 88% -N"
   ]
  },
  {
   "cell_type": "markdown",
   "id": "0f1b3f4d",
   "metadata": {},
   "source": [
    "### Классы в Python"
   ]
  },
  {
   "cell_type": "markdown",
   "id": "85154bec",
   "metadata": {},
   "source": [
    "Классы в Python представляют собой механизм для объединения данных и функциональности. Используя классы, можно создавать новые типы объектов, которые инкапсулируют как данные, так и функции, работающие с этими данными. Это ключевая особенность объектно-ориентированного программирования (ООП) в Python."
   ]
  },
  {
   "cell_type": "code",
   "execution_count": 21,
   "id": "0c81ff69",
   "metadata": {},
   "outputs": [],
   "source": [
    "# Чтобы определить класс в Python, используется ключевое слово class. Внутри класса могут быть определены методы (функции) и атрибуты (переменные).\n",
    "\n",
    "class MyClass:\n",
    "    \"\"\"A simple example class\"\"\"\n",
    "    class_variable = 'Hello, World!'\n",
    "    \n",
    "    def __init__(self, instance_variable):\n",
    "        \"\"\"Constructor method\"\"\"\n",
    "        self.instance_variable = instance_variable\n",
    "\n",
    "    def my_method(self):\n",
    "        \"\"\"Example of a method\"\"\"\n",
    "        return f'{self.class_variable} - {self.instance_variable}'"
   ]
  },
  {
   "cell_type": "code",
   "execution_count": 26,
   "id": "d5c04fe2",
   "metadata": {},
   "outputs": [],
   "source": [
    "# Чтобы создать объект (экземпляр класса), просто вызовите класс как функцию, передавая любые необходимые аргументы конструктору __init__.\n",
    "my_object = MyClass(\"Goodbye, World!\")\n",
    "my_object_2 = MyClass(\"ЫЫЫ, World!\")"
   ]
  },
  {
   "cell_type": "code",
   "execution_count": null,
   "id": "09b72a4e",
   "metadata": {},
   "outputs": [],
   "source": []
  },
  {
   "cell_type": "code",
   "execution_count": 27,
   "id": "96fb63bf",
   "metadata": {
    "scrolled": true
   },
   "outputs": [
    {
     "name": "stdout",
     "output_type": "stream",
     "text": [
      "Hello, World!\n",
      "Goodbye, World!\n",
      "Hello, World! - Goodbye, World!\n"
     ]
    }
   ],
   "source": [
    "# Доступ к атрибутам и методам объекта осуществляется через оператор точки `.`\n",
    "\n",
    "# Доступ к переменной класса\n",
    "print(MyClass.class_variable)\n",
    "\n",
    "# Доступ к переменной экземпляра\n",
    "print(my_object.instance_variable)\n",
    "\n",
    "# Вызов метода экземпляра\n",
    "print(my_object.my_method())"
   ]
  },
  {
   "cell_type": "code",
   "execution_count": null,
   "id": "c6d2f36d",
   "metadata": {},
   "outputs": [],
   "source": []
  },
  {
   "cell_type": "markdown",
   "id": "1188c61c",
   "metadata": {},
   "source": [
    "Часть 1.\n",
    "\n",
    "Создайте класс Book, который будет хранить информацию о книгах. В классе должны быть следующие атрибуты:\n",
    "\n",
    "- title (название книги),\n",
    "- author (автор книги),\n",
    "- pages (количество страниц).\n",
    "\n",
    "Добавьте метод info, который будет выводить всю доступную информацию о книге в формате: \"Title: [title], Author: [author], Pages: [pages]\".\n",
    "    "
   ]
  },
  {
   "cell_type": "markdown",
   "id": "52c3d575",
   "metadata": {},
   "source": [
    "Часть 2.\n",
    "\n",
    "Добавьте метод is_long, который возвращает True, если книга содержит более 500 страниц, и False в противном случае.\n",
    "Создайте статический метод get_book_genre, который возвращает жанр книги в зависимости от некоторых условий \n",
    "(например, количество страниц: до 300 - \"Short Story\", от 301 до 600 - \"Novel\", более 600 - \"Epic\").\n"
   ]
  },
  {
   "cell_type": "markdown",
   "id": "5e9ca220",
   "metadata": {},
   "source": [
    "Часть 3.\n",
    "\n",
    "Создайте класс Library, который будет управлять коллекцией книг. В классе должен быть атрибут books, который хранит список экземпляров Book.\n",
    "Реализуйте метод add_book, который добавляет книгу в коллекцию.\n",
    "Добавьте метод get_all_books_info, который возвращает информацию обо всех книгах в библиотеке.\n",
    "Реализуйте метод get_books_by_author, который принимает имя автора и возвращает список всех книг этого автора из коллекции."
   ]
  },
  {
   "cell_type": "code",
   "execution_count": 35,
   "id": "845ac46a",
   "metadata": {},
   "outputs": [],
   "source": [
    "# Код\n",
    "\n",
    "class Book:\n",
    "    def __init__(self, title_, author_, pages_):\n",
    "        self.title = title_\n",
    "        self.author = author_\n",
    "        self.pages = pages_\n",
    "\n",
    "    def info(self):\n",
    "        return f\"Title: {self.title}, Author: {self.author}, Pages: {self.pages}\"\n",
    "\n",
    "    def is_long(self):\n",
    "        return self.pages > 500\n",
    "\n",
    "    @staticmethod\n",
    "    def get_book_genre(pages):\n",
    "        if pages <= 300:\n",
    "            return \"Short Story\"\n",
    "        elif 301 <= pages <= 600:\n",
    "            return \"Novel\"\n",
    "        else:\n",
    "            return \"Epic\"\n",
    "\n",
    "    def __str__(self):\n",
    "        return self.info()"
   ]
  },
  {
   "cell_type": "code",
   "execution_count": null,
   "id": "09498568",
   "metadata": {},
   "outputs": [],
   "source": []
  },
  {
   "cell_type": "code",
   "execution_count": 31,
   "id": "202ac63f",
   "metadata": {},
   "outputs": [],
   "source": [
    "# Создание экземпляров класса Book\n",
    "book1 = Book(\"The Great Gatsby\", \"F. Scott Fitzgerald\", 218)\n",
    "book2 = Book(\"War and Peace\", \"Leo Tolstoy\", 1225)\n",
    "book3 = Book(\"The Catcher in the Rye\", \"J.D. Salinger\", 277)\n"
   ]
  },
  {
   "cell_type": "code",
   "execution_count": 39,
   "id": "107a9607",
   "metadata": {},
   "outputs": [
    {
     "data": {
      "text/plain": [
       "'Title: The Great Gatsby, Author: F. Scott Fitzgerald, Pages: 218'"
      ]
     },
     "execution_count": 39,
     "metadata": {},
     "output_type": "execute_result"
    }
   ],
   "source": [
    "str(book1)"
   ]
  },
  {
   "cell_type": "code",
   "execution_count": 34,
   "id": "17e49ea3",
   "metadata": {},
   "outputs": [
    {
     "data": {
      "text/plain": [
       "'Short Story'"
      ]
     },
     "execution_count": 34,
     "metadata": {},
     "output_type": "execute_result"
    }
   ],
   "source": [
    "Book.get_book_genre(300)"
   ]
  },
  {
   "cell_type": "code",
   "execution_count": 45,
   "id": "e3cc7625",
   "metadata": {},
   "outputs": [],
   "source": [
    "class Library:\n",
    "    def __init__(self):\n",
    "        self.books = []\n",
    "\n",
    "    def add_book(self, book):\n",
    "        self.books.append(book)\n",
    "\n",
    "    def get_all_books_info(self):\n",
    "        return '\\n'.join(book.info() for book in self.books)\n",
    "\n",
    "    def get_books_by_author(self, author):\n",
    "        return [book for book in self.books if book.author == author]\n",
    "\n",
    "    def get_most_populous_genre(self):\n",
    "        genre_count = {}\n",
    "        for book in self.books:\n",
    "            genre = Book.get_book_genre(book.pages)\n",
    "            if genre in genre_count:\n",
    "                genre_count[genre] += 1\n",
    "            else:\n",
    "                genre_count[genre] = 1\n",
    "        return max(genre_count, key=genre_count.get)"
   ]
  },
  {
   "cell_type": "code",
   "execution_count": 42,
   "id": "b7f1d79c",
   "metadata": {},
   "outputs": [],
   "source": [
    "lib = Library()\n",
    "lib.add_book(book1)\n",
    "lib.add_book(book2)"
   ]
  },
  {
   "cell_type": "code",
   "execution_count": 44,
   "id": "c6f1297f",
   "metadata": {},
   "outputs": [
    {
     "data": {
      "text/plain": [
       "['Title: The Great Gatsby, Author: F. Scott Fitzgerald, Pages: 218',\n",
       " 'Title: War and Peace, Author: Leo Tolstoy, Pages: 1225']"
      ]
     },
     "execution_count": 44,
     "metadata": {},
     "output_type": "execute_result"
    }
   ],
   "source": [
    "[str(book) for book in lib.books]"
   ]
  },
  {
   "cell_type": "code",
   "execution_count": 50,
   "id": "4cc0bbff",
   "metadata": {},
   "outputs": [
    {
     "name": "stdout",
     "output_type": "stream",
     "text": [
      "Title: War and Peace, Author: Leo Tolstoy, Pages: 1225\n"
     ]
    }
   ],
   "source": [
    "print(lib.get_books_by_author(\"Leo Tolstoy\")[0])"
   ]
  },
  {
   "cell_type": "code",
   "execution_count": null,
   "id": "1b8d8d65",
   "metadata": {},
   "outputs": [],
   "source": [
    "# Создание экземпляров класса Book\n",
    "book1 = Book(\"The Great Gatsby\", \"F. Scott Fitzgerald\", 218)\n",
    "book2 = Book(\"War and Peace\", \"Leo Tolstoy\", 1225)\n",
    "book3 = Book(\"The Catcher in the Rye\", \"J.D. Salinger\", 277)\n",
    "\n",
    "# Создание экземпляра класса Library и добавление книг в коллекцию\n",
    "library = Library()\n",
    "library.add_book(book1)\n",
    "library.add_book(book2)\n",
    "library.add_book(book3)\n",
    "\n",
    "# Вывод информации о всех книгах в библиотеке\n",
    "print(library.get_all_books_info())\n",
    "\n",
    "# Получение книг по автору\n",
    "books_by_tolstoy = library.get_books_by_author(\"Leo Tolstoy\")\n",
    "for book in books_by_tolstoy:\n",
    "    print(book)\n",
    "\n",
    "# Определение самого распространенного жанра\n",
    "most_populous_genre = library.get_most_populous_genre()\n",
    "print(f\"The most populous genre is: {most_populous_genre}\")\n"
   ]
  },
  {
   "cell_type": "code",
   "execution_count": null,
   "id": "fc9dc213",
   "metadata": {},
   "outputs": [],
   "source": [
    "# Задача: Форматирование даты\n",
    "\n",
    "# Описание задачи: Напишите функцию, которая принимает строку с датой в формате ДДММГГГГ и возвращает её в формате ДД-ММ-ГГГГ. \n",
    "# Если строка содержит символы, отличные от цифр, или её длина не соответствует ожидаемой для даты (не равна 8 символам), функция должна возвращать None."
   ]
  },
  {
   "cell_type": "code",
   "execution_count": null,
   "id": "8e6ded7d",
   "metadata": {},
   "outputs": [],
   "source": [
    "# Задача: Поиск уникальных элементов\n",
    "\n",
    "# Описание задачи: Напишите функцию, которая принимает список и возвращает новый список, \n",
    "# содержащий только уникальные элементы из исходного списка, сохраняя порядок первого появления.\n",
    "\n",
    "def unique_elements(lst):\n",
    "    pass\n",
    "    \n",
    "# assert unique_elements(['a', 'b', 'a', 'c', 'b']) == ['a', 'b', 'c']"
   ]
  },
  {
   "cell_type": "code",
   "execution_count": null,
   "id": "7ad1f8a5",
   "metadata": {},
   "outputs": [],
   "source": [
    "# Задача: Транспонирование матрицы\n",
    "\n",
    "# Описание задачи: Напишите функцию, которая принимает двумерный список (матрицу)\n",
    "# и возвращает новую матрицу, являющуюся транспонированной исходной матрицы. Транспонированная матрица получается путем замены строк исходной матрицы на столбцы."
   ]
  },
  {
   "cell_type": "code",
   "execution_count": 53,
   "id": "c07a5a3c",
   "metadata": {},
   "outputs": [],
   "source": [
    "matrix = [\n",
    "    #j #j\n",
    "    [1, 2, 3, 4 ,5 , 6], #i \n",
    "    [1, 2, 3, 4 ,5 , 6], \n",
    "    [1, 2, 3, 4 ,5 , 6],\n",
    "    [1, 2, 3, 4 ,5 , 6],\n",
    "    [1, 2, 3, 4 ,5 , 6],\n",
    "    [1, 2, 3, 4 ,5 , 6]\n",
    "]\n",
    "\n"
   ]
  },
  {
   "cell_type": "code",
   "execution_count": 96,
   "id": "c549c6d6",
   "metadata": {},
   "outputs": [],
   "source": [
    "from copy import deepcopy\n",
    "new_matrix = [\n",
    "    [1,4,7],\n",
    "    [2,5,8],\n",
    "    [3,6,9]\n",
    "]\n",
    "\n",
    "def transpose(matrix):\n",
    "    transposed_matrix = deepcopy(matrix)\n",
    "\n",
    "    for i in range(len(matrix)):\n",
    "        for j in range(len(matrix[i])):\n",
    "            transposed_matrix[j][i] = matrix[i][j]\n",
    "\n",
    "    return transposed_matrix"
   ]
  },
  {
   "cell_type": "code",
   "execution_count": 103,
   "id": "a4695330",
   "metadata": {},
   "outputs": [
    {
     "name": "stdout",
     "output_type": "stream",
     "text": [
      "[5]\n"
     ]
    }
   ],
   "source": [
    "a = [0]\n",
    "b = a\n",
    "b[0] = 5\n",
    "print(a)\n"
   ]
  },
  {
   "cell_type": "code",
   "execution_count": 102,
   "id": "88c8cfb0",
   "metadata": {},
   "outputs": [
    {
     "name": "stdout",
     "output_type": "stream",
     "text": [
      "[0]\n"
     ]
    }
   ],
   "source": [
    "a = [0]\n",
    "b = a.copy()\n",
    "b[0] = 5\n",
    "print(a)\n"
   ]
  },
  {
   "cell_type": "code",
   "execution_count": null,
   "id": "c4f360ef",
   "metadata": {},
   "outputs": [],
   "source": []
  }
 ],
 "metadata": {
  "kernelspec": {
   "display_name": "Python 3 (ipykernel)",
   "language": "python",
   "name": "python3"
  },
  "language_info": {
   "codemirror_mode": {
    "name": "ipython",
    "version": 3
   },
   "file_extension": ".py",
   "mimetype": "text/x-python",
   "name": "python",
   "nbconvert_exporter": "python",
   "pygments_lexer": "ipython3",
   "version": "3.10.12"
  }
 },
 "nbformat": 4,
 "nbformat_minor": 5
}
