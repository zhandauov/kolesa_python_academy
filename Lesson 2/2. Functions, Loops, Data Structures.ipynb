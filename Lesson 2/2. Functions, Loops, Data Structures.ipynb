{
 "cells": [
  {
   "cell_type": "markdown",
   "id": "d0f5cda7",
   "metadata": {},
   "source": [
    "### Функции в Python"
   ]
  },
  {
   "cell_type": "code",
   "execution_count": 101,
   "id": "aeb82d1c",
   "metadata": {},
   "outputs": [
    {
     "name": "stdout",
     "output_type": "stream",
     "text": [
      "asd\n"
     ]
    }
   ],
   "source": [
    "print('asd')"
   ]
  },
  {
   "cell_type": "markdown",
   "id": "5f8ffcd3",
   "metadata": {},
   "source": [
    "Функция в Python - это блок кода, который выполняется только тогда, когда его вызывают. Это позволяет повторно использовать код и делает программу более модульной.\n",
    "Создание функции\n",
    "Чтобы создать функцию, используйте ключевое слово def, за которым следует имя функции и круглые скобки ():\n"
   ]
  },
  {
   "cell_type": "code",
   "execution_count": 104,
   "id": "7e419191",
   "metadata": {},
   "outputs": [],
   "source": [
    "def my_function():\n",
    "    print(\"Hello from a function\")"
   ]
  },
  {
   "cell_type": "code",
   "execution_count": 105,
   "id": "b76e0bc5",
   "metadata": {},
   "outputs": [
    {
     "name": "stdout",
     "output_type": "stream",
     "text": [
      "Hello from a function\n"
     ]
    }
   ],
   "source": [
    "# Чтобы вызвать функцию, используйте имя функции за которым следуют круглые скобки:\n",
    "my_function()"
   ]
  },
  {
   "cell_type": "code",
   "execution_count": 130,
   "id": "1827a7a8",
   "metadata": {},
   "outputs": [],
   "source": [
    "# Функции могут принимать аргументы, которые указываются в скобках при определении функции:\n",
    "def my_function(name, surname):\n",
    "    print(\"Hello \" + name + ' ' +  surname)\n",
    "    return None"
   ]
  },
  {
   "cell_type": "code",
   "execution_count": 131,
   "id": "7aebab78",
   "metadata": {},
   "outputs": [
    {
     "name": "stdout",
     "output_type": "stream",
     "text": [
      "Hello John  Snow\n"
     ]
    }
   ],
   "source": [
    "my_function('John', 'Snow')"
   ]
  },
  {
   "cell_type": "code",
   "execution_count": 110,
   "id": "29177a7d",
   "metadata": {},
   "outputs": [
    {
     "name": "stdout",
     "output_type": "stream",
     "text": [
      "Hello sss\n"
     ]
    }
   ],
   "source": [
    "some_variable = my_function('sss')"
   ]
  },
  {
   "cell_type": "code",
   "execution_count": 112,
   "id": "03fb3615",
   "metadata": {},
   "outputs": [
    {
     "name": "stdout",
     "output_type": "stream",
     "text": [
      "None\n"
     ]
    }
   ],
   "source": [
    "print(some_variable)"
   ]
  },
  {
   "cell_type": "code",
   "execution_count": 108,
   "id": "17ec94b6",
   "metadata": {},
   "outputs": [
    {
     "name": "stdout",
     "output_type": "stream",
     "text": [
      "Hello Anastasiya\n"
     ]
    }
   ],
   "source": [
    "# Вызов функции с аргументом:\n",
    "my_function(\"Anastasiya\")"
   ]
  },
  {
   "cell_type": "code",
   "execution_count": null,
   "id": "9a6f98ae",
   "metadata": {},
   "outputs": [],
   "source": []
  },
  {
   "cell_type": "code",
   "execution_count": 120,
   "id": "33e0c940",
   "metadata": {},
   "outputs": [],
   "source": [
    "# Функции могут возвращать значения с помощью ключевого слова return:\n",
    "def my_function(x):\n",
    "    return 5 * x, x ** 3"
   ]
  },
  {
   "cell_type": "code",
   "execution_count": 121,
   "id": "06184100",
   "metadata": {},
   "outputs": [
    {
     "name": "stdout",
     "output_type": "stream",
     "text": [
      "(15, 27)\n"
     ]
    }
   ],
   "source": [
    "# Вызов функции и вывод возвращаемого значения:\n",
    "print(my_function(3))"
   ]
  },
  {
   "cell_type": "code",
   "execution_count": 122,
   "id": "5b621964",
   "metadata": {},
   "outputs": [],
   "source": [
    "var_1, var_2 = ('Hi', True)"
   ]
  },
  {
   "cell_type": "code",
   "execution_count": 125,
   "id": "fcf8d6f9",
   "metadata": {},
   "outputs": [],
   "source": [
    "var_1, var_2 = my_function(88)"
   ]
  },
  {
   "cell_type": "code",
   "execution_count": 115,
   "id": "dc062661",
   "metadata": {},
   "outputs": [],
   "source": [
    "b = my_function(100)"
   ]
  },
  {
   "cell_type": "code",
   "execution_count": 119,
   "id": "2974bcd4",
   "metadata": {},
   "outputs": [
    {
     "name": "stdout",
     "output_type": "stream",
     "text": [
      "result is not None\n"
     ]
    }
   ],
   "source": [
    "if my_function(10) == 50:\n",
    "    print('result is not None')"
   ]
  },
  {
   "cell_type": "code",
   "execution_count": null,
   "id": "c6ec21a9",
   "metadata": {},
   "outputs": [],
   "source": [
    "# если нет return, возвращает None по дефолту"
   ]
  },
  {
   "cell_type": "code",
   "execution_count": null,
   "id": "a240988d",
   "metadata": {},
   "outputs": [],
   "source": []
  },
  {
   "cell_type": "code",
   "execution_count": null,
   "id": "ab791ccc",
   "metadata": {},
   "outputs": [],
   "source": []
  },
  {
   "cell_type": "code",
   "execution_count": 132,
   "id": "a604fd1c",
   "metadata": {},
   "outputs": [],
   "source": [
    "l = [1, 22, 99, 14, 100]"
   ]
  },
  {
   "cell_type": "code",
   "execution_count": 135,
   "id": "c167d181",
   "metadata": {},
   "outputs": [],
   "source": [
    "# Создайте функцию, которая принимает список чисел и возвращает их сумму.\n",
    "\n",
    "\n",
    "def find_sum_of_list(l_of_numbers):\n",
    "    #res = sum(l_of_numbers)\n",
    "    #return res\n",
    "    \n",
    "    return sum(l_of_numbers)\n",
    "    "
   ]
  },
  {
   "cell_type": "code",
   "execution_count": 136,
   "id": "80a0d964",
   "metadata": {},
   "outputs": [
    {
     "name": "stdout",
     "output_type": "stream",
     "text": [
      "236\n"
     ]
    }
   ],
   "source": [
    "print(find_sum_of_list(l))"
   ]
  },
  {
   "cell_type": "code",
   "execution_count": 137,
   "id": "2d30a458",
   "metadata": {},
   "outputs": [],
   "source": [
    "# Создайте функцию, которая принимает любое количество аргументов и возвращает их среднее значение.\n",
    "\n",
    "def find_average(*args):\n",
    "    return sum(args) / len(args)\n",
    "    "
   ]
  },
  {
   "cell_type": "code",
   "execution_count": 138,
   "id": "053823f9",
   "metadata": {},
   "outputs": [
    {
     "data": {
      "text/plain": [
       "93.25"
      ]
     },
     "execution_count": 138,
     "metadata": {},
     "output_type": "execute_result"
    }
   ],
   "source": [
    "find_average(1,50,100,222)"
   ]
  },
  {
   "cell_type": "code",
   "execution_count": 139,
   "id": "360eed56",
   "metadata": {},
   "outputs": [],
   "source": [
    "# Напишите функцию, которая принимает целое число и возвращает True, если число чётное, и False, если число нечётное.\n",
    "def is_even(n):\n",
    "    return (n%2 == 0)\n",
    "# код"
   ]
  },
  {
   "cell_type": "code",
   "execution_count": null,
   "id": "2e45ffb8",
   "metadata": {},
   "outputs": [],
   "source": [
    "# Аргументы в функциях по умолчанию"
   ]
  },
  {
   "cell_type": "code",
   "execution_count": 148,
   "id": "e469cd6d",
   "metadata": {},
   "outputs": [],
   "source": [
    "def is_even(n2, n = 0):\n",
    "    return (n%2 == 0)"
   ]
  },
  {
   "cell_type": "code",
   "execution_count": 150,
   "id": "1b7583c6",
   "metadata": {},
   "outputs": [
    {
     "data": {
      "text/plain": [
       "True"
      ]
     },
     "execution_count": 150,
     "metadata": {},
     "output_type": "execute_result"
    }
   ],
   "source": [
    "is_even(n2=10)"
   ]
  },
  {
   "cell_type": "code",
   "execution_count": 100,
   "id": "15431900",
   "metadata": {},
   "outputs": [],
   "source": [
    "# Область видимости переменных\n",
    "\n",
    "# L (Local) — Локальная: переменные, определенные внутри функции.\n",
    "# E (Enclosing) — Окружающая: переменные в области видимости всех обрамляющих функций, от внутренней к внешней.\n",
    "# G (Global) — Глобальная: переменные, определенные на уровне модуля или верхнего уровня скрипта.\n",
    "# B (Built-in) — Встроенная: имена, предварительно определенные в Python (например, open, range)."
   ]
  },
  {
   "cell_type": "code",
   "execution_count": 164,
   "id": "c8e7d838",
   "metadata": {},
   "outputs": [],
   "source": [
    "SOME_GLOBAL_TOKEN = 'sdas;lfjasfhsf'\n",
    "\n",
    "def function_1():\n",
    "    c = 10\n",
    "    def function_2():\n",
    "        global SOME_GLOBAL_TOKEN\n",
    "        \n",
    "        print(c)\n",
    "        print(SOME_GLOBAL_TOKEN)\n",
    "    function_2()\n",
    "\n",
    "def func_2_outside():\n",
    "    print(SOME_GLOBAL_TOKEN)\n"
   ]
  },
  {
   "cell_type": "code",
   "execution_count": 165,
   "id": "15b1827f",
   "metadata": {},
   "outputs": [
    {
     "name": "stdout",
     "output_type": "stream",
     "text": [
      "10\n",
      "sdas;lfjasfhsf\n",
      "sdas;lfjasfhsf\n"
     ]
    }
   ],
   "source": [
    "function_1()\n",
    "func_2_outside()"
   ]
  },
  {
   "cell_type": "code",
   "execution_count": null,
   "id": "2a84da4f",
   "metadata": {},
   "outputs": [],
   "source": [
    "map\n",
    "open\n",
    "range"
   ]
  },
  {
   "cell_type": "code",
   "execution_count": 153,
   "id": "027bd050",
   "metadata": {},
   "outputs": [],
   "source": [
    "range = 10"
   ]
  },
  {
   "cell_type": "code",
   "execution_count": 154,
   "id": "afe91297",
   "metadata": {},
   "outputs": [
    {
     "data": {
      "text/plain": [
       "10"
      ]
     },
     "execution_count": 154,
     "metadata": {},
     "output_type": "execute_result"
    }
   ],
   "source": [
    "range"
   ]
  },
  {
   "cell_type": "code",
   "execution_count": 155,
   "id": "bc2ea522",
   "metadata": {},
   "outputs": [],
   "source": [
    "del range"
   ]
  },
  {
   "cell_type": "code",
   "execution_count": 157,
   "id": "3156209b",
   "metadata": {},
   "outputs": [
    {
     "data": {
      "text/plain": [
       "range(0, 10)"
      ]
     },
     "execution_count": 157,
     "metadata": {},
     "output_type": "execute_result"
    }
   ],
   "source": [
    "range(10)"
   ]
  },
  {
   "cell_type": "code",
   "execution_count": 152,
   "id": "3bef3136",
   "metadata": {},
   "outputs": [
    {
     "name": "stdout",
     "output_type": "stream",
     "text": [
      "10\n"
     ]
    }
   ],
   "source": [
    "x = 0\n",
    "SOME_GLOBAL_TOKEN = 'sdas;lfjasfhsf'\n",
    "def change_value_of_x():\n",
    "    #global x\n",
    "    x = 10\n",
    "    return x\n",
    "    \n",
    "change_value_of_x()\n",
    "print(x)"
   ]
  },
  {
   "cell_type": "code",
   "execution_count": 167,
   "id": "0efc0e9f",
   "metadata": {},
   "outputs": [
    {
     "name": "stdout",
     "output_type": "stream",
     "text": [
      "10\n"
     ]
    }
   ],
   "source": [
    "val = 0\n",
    "def change_val(val):\n",
    "    val = 10\n",
    "    return val\n",
    "\n",
    "val = change_val(val)\n",
    "print(val)"
   ]
  },
  {
   "cell_type": "code",
   "execution_count": 4,
   "id": "c8c15edc",
   "metadata": {},
   "outputs": [],
   "source": []
  },
  {
   "cell_type": "code",
   "execution_count": 168,
   "id": "5cf4cfb1",
   "metadata": {},
   "outputs": [],
   "source": [
    "is_even_2 = lambda x: x%2 == 0"
   ]
  },
  {
   "cell_type": "code",
   "execution_count": 181,
   "id": "0a8e935a",
   "metadata": {},
   "outputs": [],
   "source": [
    "pow_2 = lambda n: n**2"
   ]
  },
  {
   "cell_type": "code",
   "execution_count": 170,
   "id": "f43771a4",
   "metadata": {},
   "outputs": [
    {
     "data": {
      "text/plain": [
       "False"
      ]
     },
     "execution_count": 170,
     "metadata": {},
     "output_type": "execute_result"
    }
   ],
   "source": [
    "is_even_2(21)"
   ]
  },
  {
   "cell_type": "code",
   "execution_count": 174,
   "id": "64acba0b",
   "metadata": {},
   "outputs": [],
   "source": [
    "# lambda функции\n",
    "\n",
    "numbers = [1, 2, 3, 4, 5, 6]"
   ]
  },
  {
   "cell_type": "code",
   "execution_count": 180,
   "id": "0b06a544",
   "metadata": {},
   "outputs": [
    {
     "data": {
      "text/plain": [
       "[2, 4, 6]"
      ]
     },
     "execution_count": 180,
     "metadata": {},
     "output_type": "execute_result"
    }
   ],
   "source": [
    "list(filter(is_even_2, numbers))"
   ]
  },
  {
   "cell_type": "code",
   "execution_count": 182,
   "id": "11bd9d95",
   "metadata": {},
   "outputs": [
    {
     "data": {
      "text/plain": [
       "[1, 4, 9, 16, 25, 36]"
      ]
     },
     "execution_count": 182,
     "metadata": {},
     "output_type": "execute_result"
    }
   ],
   "source": [
    "list(map(pow_2, numbers))"
   ]
  },
  {
   "cell_type": "markdown",
   "id": "73cc336e",
   "metadata": {},
   "source": [
    "Рекурсия\n",
    "Рекурсия в функциях - инструмент программирования, при котором функция вызывает сама себя. \n",
    "Это часто используется для решения задач, которые можно разбить на подзадачи одного и того же типа"
   ]
  },
  {
   "cell_type": "code",
   "execution_count": 189,
   "id": "32647933",
   "metadata": {},
   "outputs": [],
   "source": [
    "# Функция подсчёта факториала\n",
    "def calc_factorial(n):\n",
    "    print(n)\n",
    "    if n <= 1:\n",
    "        return 1\n",
    "    \n",
    "    return n * calc_factorial(n-1)"
   ]
  },
  {
   "cell_type": "code",
   "execution_count": 201,
   "id": "70703c37",
   "metadata": {},
   "outputs": [],
   "source": [
    "# Вычисление n-го числа Фибоначчи\n",
    "\n",
    "# 0, 1, 1, 2, 3, 5, 8\n",
    "\n",
    "def fib(n):\n",
    "    if n <= 1:\n",
    "        return n\n",
    "    return fib(n-1) + fib(n-2)"
   ]
  },
  {
   "cell_type": "code",
   "execution_count": 204,
   "id": "71c60ad1",
   "metadata": {},
   "outputs": [
    {
     "data": {
      "text/plain": [
       "1"
      ]
     },
     "execution_count": 204,
     "metadata": {},
     "output_type": "execute_result"
    }
   ],
   "source": [
    "fib(2)"
   ]
  },
  {
   "cell_type": "code",
   "execution_count": 198,
   "id": "a5adbad6",
   "metadata": {},
   "outputs": [],
   "source": [
    "# Нахождение общего наибольшего делителя (НОД)\n",
    "def gcd(a, b):\n",
    "    if b % a == 0:\n",
    "        return a\n",
    "    return gcd(b, a%b)"
   ]
  },
  {
   "cell_type": "code",
   "execution_count": 200,
   "id": "6e9b079a",
   "metadata": {},
   "outputs": [
    {
     "data": {
      "text/plain": [
       "5"
      ]
     },
     "execution_count": 200,
     "metadata": {},
     "output_type": "execute_result"
    }
   ],
   "source": [
    "gcd(105, 20)"
   ]
  },
  {
   "cell_type": "markdown",
   "id": "5719ef00",
   "metadata": {},
   "source": [
    "### Циклы в Python\n"
   ]
  },
  {
   "cell_type": "markdown",
   "id": "70bcef3e",
   "metadata": {},
   "source": [
    "Циклы в Python используются для повторения блока кода несколько раз. Python предоставляет два основных типа циклов: for и while."
   ]
  },
  {
   "cell_type": "markdown",
   "id": "06965b71",
   "metadata": {},
   "source": [
    "#### Цикл 'for'"
   ]
  },
  {
   "cell_type": "code",
   "execution_count": 206,
   "id": "c8620d9d",
   "metadata": {},
   "outputs": [
    {
     "data": {
      "text/plain": [
       "range(0, 5)"
      ]
     },
     "execution_count": 206,
     "metadata": {},
     "output_type": "execute_result"
    }
   ],
   "source": [
    "range(0, 5, 1)"
   ]
  },
  {
   "cell_type": "code",
   "execution_count": 209,
   "id": "c4ada45b",
   "metadata": {},
   "outputs": [
    {
     "name": "stdout",
     "output_type": "stream",
     "text": [
      "1\n",
      "3\n",
      "5\n",
      "7\n",
      "9\n",
      "11\n"
     ]
    }
   ],
   "source": [
    "# for переменная in последовательность:\n",
    "#     блок кода\n",
    "\n",
    "for number in range(1, 12, 2):\n",
    "    print(number)"
   ]
  },
  {
   "cell_type": "code",
   "execution_count": 213,
   "id": "2ff961f3",
   "metadata": {},
   "outputs": [
    {
     "data": {
      "text/plain": [
       "[1, 22, 99, 14, 100]"
      ]
     },
     "execution_count": 213,
     "metadata": {},
     "output_type": "execute_result"
    }
   ],
   "source": [
    "l"
   ]
  },
  {
   "cell_type": "code",
   "execution_count": 216,
   "id": "60f605ea",
   "metadata": {},
   "outputs": [
    {
     "name": "stdout",
     "output_type": "stream",
     "text": [
      "1\n",
      "484\n",
      "9801\n",
      "196\n",
      "10000\n"
     ]
    }
   ],
   "source": [
    "for item in l:\n",
    "    print(item**2)"
   ]
  },
  {
   "cell_type": "markdown",
   "id": "e25d4073",
   "metadata": {},
   "source": [
    "#### Цикл while"
   ]
  },
  {
   "cell_type": "markdown",
   "id": "819d0902",
   "metadata": {},
   "source": [
    "Цикл while выполняет блок кода до тех пор, пока условие истинно."
   ]
  },
  {
   "cell_type": "code",
   "execution_count": 217,
   "id": "48bf61d3",
   "metadata": {},
   "outputs": [
    {
     "data": {
      "text/plain": [
       "[1, 22, 99, 14, 100]"
      ]
     },
     "execution_count": 217,
     "metadata": {},
     "output_type": "execute_result"
    }
   ],
   "source": [
    "l"
   ]
  },
  {
   "cell_type": "code",
   "execution_count": 218,
   "id": "d750862e",
   "metadata": {},
   "outputs": [
    {
     "name": "stdout",
     "output_type": "stream",
     "text": [
      "yes\n"
     ]
    }
   ],
   "source": [
    "if l[0] == 1:\n",
    "    print('yes')"
   ]
  },
  {
   "cell_type": "code",
   "execution_count": 220,
   "id": "1d515d3d",
   "metadata": {},
   "outputs": [
    {
     "name": "stdout",
     "output_type": "stream",
     "text": [
      "0\n",
      "1\n",
      "2\n",
      "3\n",
      "4\n",
      "5\n",
      "6\n",
      "7\n",
      "8\n",
      "9\n"
     ]
    }
   ],
   "source": [
    "for i in range(10):\n",
    "    print(i)\n",
    "    i -= 1"
   ]
  },
  {
   "cell_type": "code",
   "execution_count": 219,
   "id": "e33a94e2",
   "metadata": {},
   "outputs": [
    {
     "name": "stdout",
     "output_type": "stream",
     "text": [
      "0\n",
      "1\n",
      "2\n",
      "3\n",
      "4\n"
     ]
    }
   ],
   "source": [
    "# while условие:\n",
    "#     блок кода\n",
    "\n",
    "counter = 0\n",
    "while counter < 5:\n",
    "    print(counter)\n",
    "    counter += 1 #counter = counter + 1\n",
    "    \n"
   ]
  },
  {
   "cell_type": "code",
   "execution_count": 221,
   "id": "c95aef07",
   "metadata": {},
   "outputs": [
    {
     "name": "stdout",
     "output_type": "stream",
     "text": [
      "2\n",
      "3\n",
      "4\n",
      "5\n",
      "6\n"
     ]
    }
   ],
   "source": [
    "counter = 0\n",
    "while counter < 5:\n",
    "    counter += 2\n",
    "    print(counter)\n",
    "    counter -= 1\n",
    "     #counter = counter + 1"
   ]
  },
  {
   "cell_type": "code",
   "execution_count": null,
   "id": "f35faa94",
   "metadata": {},
   "outputs": [],
   "source": [
    "# break прерывает внешний цикл\n",
    "# continue продолжает итерацию"
   ]
  },
  {
   "cell_type": "code",
   "execution_count": null,
   "id": "ac22b7e6",
   "metadata": {},
   "outputs": [],
   "source": []
  },
  {
   "cell_type": "code",
   "execution_count": 222,
   "id": "b80bc98e",
   "metadata": {},
   "outputs": [
    {
     "name": "stdout",
     "output_type": "stream",
     "text": [
      "1\n",
      "2\n",
      "3\n",
      "4\n",
      "5\n",
      "6\n",
      "7\n",
      "8\n",
      "9\n",
      "10\n"
     ]
    }
   ],
   "source": [
    "# Задача: Напишите программу, которая использует цикл for для печати чисел от 1 до 10 включительно.\n",
    "for i in range(1, 11, 1):\n",
    "    print(i)"
   ]
  },
  {
   "cell_type": "code",
   "execution_count": 223,
   "id": "6cd03b2c",
   "metadata": {},
   "outputs": [
    {
     "name": "stdout",
     "output_type": "stream",
     "text": [
      "10\n",
      "9\n",
      "8\n",
      "7\n",
      "6\n",
      "5\n",
      "4\n",
      "3\n",
      "2\n",
      "1\n"
     ]
    }
   ],
   "source": [
    "# Задача: Напишите программу, которая использует цикл while для печати чисел от 10 до 1 в обратном порядке.\n",
    "n = 10\n",
    "while n >= 1:\n",
    "    print(n)\n",
    "    n -= 1"
   ]
  },
  {
   "cell_type": "code",
   "execution_count": 226,
   "id": "d26905b5",
   "metadata": {},
   "outputs": [
    {
     "name": "stdout",
     "output_type": "stream",
     "text": [
      "2 * 2 = 4\n",
      "2 * 3 = 6\n",
      "2 * 4 = 8\n",
      "2 * 5 = 10\n",
      "2 * 6 = 12\n",
      "2 * 7 = 14\n",
      "2 * 8 = 16\n",
      "2 * 9 = 18\n",
      "3 * 2 = 6\n",
      "3 * 3 = 9\n",
      "3 * 4 = 12\n",
      "3 * 5 = 15\n",
      "3 * 6 = 18\n",
      "3 * 7 = 21\n",
      "3 * 8 = 24\n",
      "3 * 9 = 27\n",
      "4 * 2 = 8\n",
      "4 * 3 = 12\n",
      "4 * 4 = 16\n",
      "4 * 5 = 20\n",
      "4 * 6 = 24\n",
      "4 * 7 = 28\n",
      "4 * 8 = 32\n",
      "4 * 9 = 36\n",
      "5 * 2 = 10\n",
      "5 * 3 = 15\n",
      "5 * 4 = 20\n",
      "5 * 5 = 25\n",
      "5 * 6 = 30\n",
      "5 * 7 = 35\n",
      "5 * 8 = 40\n",
      "5 * 9 = 45\n",
      "6 * 2 = 12\n",
      "6 * 3 = 18\n",
      "6 * 4 = 24\n",
      "6 * 5 = 30\n",
      "6 * 6 = 36\n",
      "6 * 7 = 42\n",
      "6 * 8 = 48\n",
      "6 * 9 = 54\n",
      "7 * 2 = 14\n",
      "7 * 3 = 21\n",
      "7 * 4 = 28\n",
      "7 * 5 = 35\n",
      "7 * 6 = 42\n",
      "7 * 7 = 49\n",
      "7 * 8 = 56\n",
      "7 * 9 = 63\n",
      "8 * 2 = 16\n",
      "8 * 3 = 24\n",
      "8 * 4 = 32\n",
      "8 * 5 = 40\n",
      "8 * 6 = 48\n",
      "8 * 7 = 56\n",
      "8 * 8 = 64\n",
      "8 * 9 = 72\n",
      "9 * 2 = 18\n",
      "9 * 3 = 27\n",
      "9 * 4 = 36\n",
      "9 * 5 = 45\n",
      "9 * 6 = 54\n",
      "9 * 7 = 63\n",
      "9 * 8 = 72\n",
      "9 * 9 = 81\n"
     ]
    }
   ],
   "source": [
    "# Задача: Используйте вложенные циклы для печати таблицы умножения от 1 до 10.\n",
    "for i in range(2, 10):\n",
    "    for j in range(2, 10):\n",
    "        print(str(i) + ' * ' + str(j) + ' = ' + str(i*j))"
   ]
  },
  {
   "cell_type": "code",
   "execution_count": 229,
   "id": "2b658e95",
   "metadata": {},
   "outputs": [
    {
     "name": "stdout",
     "output_type": "stream",
     "text": [
      "Введите что нибудь или 0 чтобы закончитьfd\n",
      "Введите что нибудь или 0 чтобы закончитьh\n",
      "Введите что нибудь или 0 чтобы закончитьsd\n",
      "Введите что нибудь или 0 чтобы закончитьj\n",
      "Введите что нибудь или 0 чтобы закончить7\n",
      "Введите что нибудь или 0 чтобы закончить3\n",
      "Введите что нибудь или 0 чтобы закончить1\n",
      "Введите что нибудь или 0 чтобы закончить0\n"
     ]
    }
   ],
   "source": [
    "# Задача: Напишите программу, которая просит пользователя вводить числа до тех пор, пока не будет введено число 0, после чего программа завершается.\n",
    "# num = -1\n",
    "# while num != '0':\n",
    "#     num = (input('Введите что нибудь или 0 чтобы закончить'))\n",
    "\n",
    "    \n",
    "while True:\n",
    "    num = (input('Введите что нибудь или 0 чтобы закончить'))\n",
    "    if num == '0':\n",
    "        break"
   ]
  },
  {
   "cell_type": "code",
   "execution_count": 232,
   "id": "241dbe19",
   "metadata": {},
   "outputs": [
    {
     "name": "stdout",
     "output_type": "stream",
     "text": [
      "Введите что нибудь или 0 чтобы закончитьk\n",
      "Введите что нибудь или 0 чтобы закончитьd\n",
      "Введите что нибудь или 0 чтобы закончитьg\n",
      "Введите что нибудь или 0 чтобы закончить\n",
      "Введите что нибудь или 0 чтобы закончить0\n"
     ]
    }
   ],
   "source": [
    "while input('Введите что нибудь или 0 чтобы закончить') != '0':\n",
    "    continue"
   ]
  },
  {
   "cell_type": "code",
   "execution_count": 233,
   "id": "ab19dba7",
   "metadata": {},
   "outputs": [
    {
     "name": "stdout",
     "output_type": "stream",
     "text": [
      "0\n",
      "1\n",
      "2\n",
      "3\n",
      "4\n",
      "6\n",
      "7\n",
      "8\n",
      "9\n"
     ]
    }
   ],
   "source": [
    "# Задача: Напишите программу, которая использует цикл для печати всех чисел от 1 до 10, кроме числа 5.\n",
    "for i in range(10):\n",
    "    if i == 5:\n",
    "        continue\n",
    "    print(i)"
   ]
  },
  {
   "cell_type": "code",
   "execution_count": null,
   "id": "84d58ebb",
   "metadata": {},
   "outputs": [],
   "source": []
  },
  {
   "cell_type": "code",
   "execution_count": null,
   "id": "9e420b9b",
   "metadata": {},
   "outputs": [],
   "source": [
    "# Задание: Напишите программу, которая генерирует безопасный пароль. Пароль должен содержать минимум 12 символов, \n",
    "# включая как минимум одну заглавную букву, одну строчную букву, одну цифру и один специальный символ. \n",
    "# Программа должна гарантировать включение всех требуемых типов символов и выводить разные пароли при каждом запуске.\n",
    "\n"
   ]
  },
  {
   "cell_type": "code",
   "execution_count": 263,
   "id": "6aee8441",
   "metadata": {},
   "outputs": [],
   "source": [
    "import string\n",
    "import random\n",
    "\n",
    "def generate_secure_password(pass_len=12):\n",
    "    if pass_len < 12:\n",
    "        print('Длинна пароля должна быть больше 12!!')\n",
    "        return\n",
    "    \n",
    "    lowercase = string.ascii_lowercase\n",
    "    uppercase = string.ascii_uppercase\n",
    "    special = string.punctuation\n",
    "    digits = string.digits\n",
    "    \n",
    "    must_contain = [\n",
    "        random.choice(lowercase),\n",
    "        random.choice(uppercase),\n",
    "        random.choice(special),\n",
    "        random.choice(digits)\n",
    "    ]\n",
    "    \n",
    "    password = []\n",
    "    all_chars = lowercase + uppercase + special + digits\n",
    "    for i in range(pass_len-4):\n",
    "        password.append(random.choice(all_chars))\n",
    "    password += must_contain\n",
    "    return ''.join(password)"
   ]
  },
  {
   "cell_type": "code",
   "execution_count": 259,
   "id": "cc7ce1e1",
   "metadata": {},
   "outputs": [
    {
     "name": "stdout",
     "output_type": "stream",
     "text": [
      "Сгенерированный безопасный пароль: piTzQ'VdoI%8\n"
     ]
    }
   ],
   "source": [
    "secure_password = generate_secure_password(12)\n",
    "print(\"Сгенерированный безопасный пароль:\", secure_password)\n"
   ]
  },
  {
   "cell_type": "code",
   "execution_count": 248,
   "id": "6ea2b76c",
   "metadata": {},
   "outputs": [
    {
     "data": {
      "text/plain": [
       "'p'"
      ]
     },
     "execution_count": 248,
     "metadata": {},
     "output_type": "execute_result"
    }
   ],
   "source": [
    "lowercase = string.ascii_lowercase\n",
    "\n",
    "random.choice(lowercase)"
   ]
  },
  {
   "cell_type": "code",
   "execution_count": null,
   "id": "dd4d6d8a",
   "metadata": {},
   "outputs": [],
   "source": []
  },
  {
   "cell_type": "code",
   "execution_count": null,
   "id": "471b8d70",
   "metadata": {},
   "outputs": [],
   "source": [
    "# Задание: Создайте функцию, которая принимает число N и возвращает список всех простых чисел до N включительно. \n",
    "# Используйте циклы для перебора чисел и проверки их на простоту. Рассмотрите возможность оптимизации алгоритма для уменьшения времени выполнения."
   ]
  },
  {
   "cell_type": "code",
   "execution_count": null,
   "id": "947f0b24",
   "metadata": {},
   "outputs": [],
   "source": []
  },
  {
   "cell_type": "code",
   "execution_count": null,
   "id": "f315c752",
   "metadata": {},
   "outputs": [],
   "source": [
    "# Итерация по нескольким коллекциям одновременно с помощью zip()"
   ]
  },
  {
   "cell_type": "code",
   "execution_count": 264,
   "id": "2af32ac5",
   "metadata": {},
   "outputs": [],
   "source": [
    "l = [1,2,3,4]\n",
    "l2 = ['a', 'b', 'c']"
   ]
  },
  {
   "cell_type": "code",
   "execution_count": 266,
   "id": "fdb49fc9",
   "metadata": {},
   "outputs": [
    {
     "name": "stdout",
     "output_type": "stream",
     "text": [
      "1 a\n",
      "2 b\n",
      "3 c\n"
     ]
    }
   ],
   "source": [
    "for item_l, item_l2 in zip(l, l2):\n",
    "    print(item_l, item_l2)"
   ]
  },
  {
   "cell_type": "code",
   "execution_count": 268,
   "id": "3f8e0345",
   "metadata": {},
   "outputs": [
    {
     "data": {
      "text/plain": [
       "(3, 4)"
      ]
     },
     "execution_count": 268,
     "metadata": {},
     "output_type": "execute_result"
    }
   ],
   "source": [
    "len(l2), len(l)"
   ]
  },
  {
   "cell_type": "code",
   "execution_count": null,
   "id": "23f0e359",
   "metadata": {},
   "outputs": [],
   "source": []
  },
  {
   "cell_type": "markdown",
   "id": "04bd50ab",
   "metadata": {},
   "source": [
    "### Списки"
   ]
  },
  {
   "cell_type": "markdown",
   "id": "555f44bf",
   "metadata": {},
   "source": [
    "Списки в Python — это упорядоченные коллекции объектов, которые могут содержать элементы разных типов. Списки являются изменяемыми, что означает, что их содержимое можно изменять после создания.Напишите функцию, которая принимает список чисел и возвращает новый список, содержащий только четные элементы из исходного списка."
   ]
  },
  {
   "cell_type": "code",
   "execution_count": 277,
   "id": "b8debdc6",
   "metadata": {},
   "outputs": [],
   "source": [
    "# Список можно создать, заключив его элементы в квадратные скобки [], разделив их запятыми.\n",
    "empty_list = []\n",
    "numbers_list = [1, 2, 3, 4, 5]\n",
    "mixed_list = [1, \"два\", 3.0, [4, 5], \"шесть\"]"
   ]
  },
  {
   "cell_type": "code",
   "execution_count": 279,
   "id": "b72a2eaf",
   "metadata": {},
   "outputs": [],
   "source": [
    "# Доступ к элементам списка осуществляется по индексу, начинающемуся с 0.\n",
    "\n",
    "first_element = numbers_list[0]  # 1\n",
    "last_element = numbers_list[-1]  # 5\n",
    "#last_element = numbers_list[len(numbers_list)]"
   ]
  },
  {
   "cell_type": "code",
   "execution_count": 271,
   "id": "9c684252",
   "metadata": {},
   "outputs": [
    {
     "name": "stdout",
     "output_type": "stream",
     "text": [
      "1 5\n"
     ]
    }
   ],
   "source": [
    "print(first_element, last_element)"
   ]
  },
  {
   "cell_type": "code",
   "execution_count": 272,
   "id": "4857f4a5",
   "metadata": {},
   "outputs": [],
   "source": [
    "# Для добавления элементов в список можно использовать методы .append() (добавление в конец) и .insert() (вставка по индексу).\n",
    "numbers_list.append(6)  # [1, 2, 3, 4, 5, 6]\n",
    "numbers_list.insert(0, 0)  # [0, 1, 2, 3, 4, 5, 6]"
   ]
  },
  {
   "cell_type": "code",
   "execution_count": 273,
   "id": "1a92ce1c",
   "metadata": {},
   "outputs": [
    {
     "name": "stdout",
     "output_type": "stream",
     "text": [
      "[0, 1, 2, 3, 4, 5, 6]\n"
     ]
    }
   ],
   "source": [
    "print(numbers_list)"
   ]
  },
  {
   "cell_type": "code",
   "execution_count": 274,
   "id": "9fa84043",
   "metadata": {},
   "outputs": [],
   "source": [
    "# Для удаления элементов можно использовать команды \n",
    "# del\n",
    "# .remove() (удаляет первый совпавший элемент) \n",
    "# .pop() (удаляет и возвращает элемент по индексу).\n",
    "\n",
    "del numbers_list[0]  # Удаляет первый элемент\n",
    "numbers_list.remove(2)  # Удаляет первый найденный элемент со значением 2\n",
    "last = numbers_list.pop()  # Удаляет и возвращает последний элемент"
   ]
  },
  {
   "cell_type": "code",
   "execution_count": 281,
   "id": "a9ca1070",
   "metadata": {},
   "outputs": [
    {
     "data": {
      "text/plain": [
       "[2, 3, 4]"
      ]
     },
     "execution_count": 281,
     "metadata": {},
     "output_type": "execute_result"
    }
   ],
   "source": [
    "#[beg:end:step]\n",
    "numbers_list[1:4:1]"
   ]
  },
  {
   "cell_type": "code",
   "execution_count": null,
   "id": "27af4a1f",
   "metadata": {},
   "outputs": [],
   "source": [
    "# Срезы\n",
    "\n",
    "# С помощью срезов можно получить подсписок, указав начальный и конечный индексы.\n",
    "sublist = numbers_list[1:3]  # Получает элементы с индексами 1 и 2\n",
    "# Срезы работают по принципу list[begining_id:last_id:step]. last_id не включается"
   ]
  },
  {
   "cell_type": "code",
   "execution_count": 282,
   "id": "69893a0e",
   "metadata": {},
   "outputs": [
    {
     "name": "stdout",
     "output_type": "stream",
     "text": [
      "1\n",
      "2\n",
      "3\n",
      "4\n",
      "5\n",
      "6\n",
      "7\n",
      "8\n",
      "9\n",
      "10\n",
      "[1, 2, 3, 4, 5, 6, 7, 8, 9, 10]\n"
     ]
    }
   ],
   "source": [
    "# Создайте список с элементами от 1 до 10, используйте цикл for для вывода каждого элемента на экран.\n",
    "res = []\n",
    "for i in range(1, 11):\n",
    "    print(i)\n",
    "    res.append(i)\n",
    "print(res)"
   ]
  },
  {
   "cell_type": "code",
   "execution_count": 283,
   "id": "b7d57dcc",
   "metadata": {},
   "outputs": [
    {
     "name": "stdout",
     "output_type": "stream",
     "text": [
      "[10, 20, 30, 40, 50, 60, 70, 80, 90, 100]\n"
     ]
    }
   ],
   "source": [
    "# Измените список, добавив к каждому элементу 10, а затем удалите первый и последний элементы.\n",
    "for i in range(len(res)):\n",
    "    res[i] *= 10\n",
    "print(res)"
   ]
  },
  {
   "cell_type": "code",
   "execution_count": 284,
   "id": "1520d3c9",
   "metadata": {},
   "outputs": [],
   "source": [
    "res.pop()\n",
    "del res[0]"
   ]
  },
  {
   "cell_type": "code",
   "execution_count": 285,
   "id": "8fd05f08",
   "metadata": {},
   "outputs": [
    {
     "data": {
      "text/plain": [
       "[20, 30, 40, 50, 60, 70, 80, 90]"
      ]
     },
     "execution_count": 285,
     "metadata": {},
     "output_type": "execute_result"
    }
   ],
   "source": [
    "res"
   ]
  },
  {
   "cell_type": "code",
   "execution_count": 286,
   "id": "cb7d05c9",
   "metadata": {},
   "outputs": [],
   "source": [
    "# Напишите функцию, которая принимает список чисел и возвращает новый список, содержащий только четные элементы из исходного списка.\n",
    "def leave_only_even(l):\n",
    "    res = []\n",
    "    for item in l:\n",
    "        if item%2 == 0:\n",
    "            res.append(item)\n",
    "    return res"
   ]
  },
  {
   "cell_type": "code",
   "execution_count": 287,
   "id": "853652d3",
   "metadata": {},
   "outputs": [
    {
     "data": {
      "text/plain": [
       "[2, 4]"
      ]
     },
     "execution_count": 287,
     "metadata": {},
     "output_type": "execute_result"
    }
   ],
   "source": [
    "leave_only_even([1,2,3,4,5])"
   ]
  },
  {
   "cell_type": "code",
   "execution_count": 290,
   "id": "8d44d616",
   "metadata": {},
   "outputs": [],
   "source": [
    "# Отсортируйте список строк по длине строк в обратном порядке (от самой длинной к самой короткой).\n",
    "#res.sort(reverse=True)\n",
    "res = sorted(res)"
   ]
  },
  {
   "cell_type": "code",
   "execution_count": null,
   "id": "086b0186",
   "metadata": {},
   "outputs": [],
   "source": [
    "# Задание: Напишите функцию на Python, которая принимает два отсортированных списка \n",
    "# и объединяет их в один отсортированный список без использования встроенных функций сортировки \n",
    "# или методов списков (sort(), sorted() и т.д.). Реализуйте алгоритм слияния, оптимизированный по времени и памяти.\n"
   ]
  },
  {
   "cell_type": "code",
   "execution_count": null,
   "id": "9c0b2bc0",
   "metadata": {},
   "outputs": [],
   "source": [
    "# Использование функции enumerate() для получения индекса во время итерации\n",
    "# Генераторы списков (list comprehensions) вместо циклов\n",
    "# Создание словаря через list comprehension"
   ]
  },
  {
   "cell_type": "markdown",
   "id": "54272284",
   "metadata": {},
   "source": [
    "### Словари (Dictionaries)"
   ]
  },
  {
   "cell_type": "markdown",
   "id": "804d46fd",
   "metadata": {},
   "source": [
    "Словарь в Python — это неупорядоченная коллекция элементов. Каждый элемент словаря хранится как пара ключ:значение. Словари изменяемы, что позволяет добавлять, удалять или изменять их элементы."
   ]
  },
  {
   "cell_type": "code",
   "execution_count": 292,
   "id": "d209424d",
   "metadata": {},
   "outputs": [],
   "source": [
    "# Создание словаря\n",
    "my_dict = {'name': 'Kairat', 'age': 35}"
   ]
  },
  {
   "cell_type": "code",
   "execution_count": 293,
   "id": "9bf07ead",
   "metadata": {},
   "outputs": [
    {
     "name": "stdout",
     "output_type": "stream",
     "text": [
      "Kairat\n"
     ]
    }
   ],
   "source": [
    "# Доступ к элементам\n",
    "print(my_dict['name'])  # Выведет 'Kairat'"
   ]
  },
  {
   "cell_type": "code",
   "execution_count": 294,
   "id": "5de710d8",
   "metadata": {},
   "outputs": [],
   "source": [
    "my_dict['email'] = 'kairosh@kolesa.kz'  # Добавление нового элемента\n",
    "my_dict['age'] = 31  # Изменение значения существующего элемента"
   ]
  },
  {
   "cell_type": "code",
   "execution_count": 295,
   "id": "f2add6b5",
   "metadata": {},
   "outputs": [
    {
     "name": "stdout",
     "output_type": "stream",
     "text": [
      "{'name': 'Kairat', 'age': 31, 'email': 'kairosh@kolesa.kz'}\n"
     ]
    }
   ],
   "source": [
    "print(my_dict)"
   ]
  },
  {
   "cell_type": "code",
   "execution_count": 296,
   "id": "6138c4f6",
   "metadata": {},
   "outputs": [],
   "source": [
    "del my_dict['age'],  # Удаление элемента"
   ]
  },
  {
   "cell_type": "code",
   "execution_count": 298,
   "id": "9831cd6c",
   "metadata": {},
   "outputs": [
    {
     "data": {
      "text/plain": [
       "{'name': 'Kairat', 'email': 'kairosh@kolesa.kz'}"
      ]
     },
     "execution_count": 298,
     "metadata": {},
     "output_type": "execute_result"
    }
   ],
   "source": [
    "my_dict"
   ]
  },
  {
   "cell_type": "code",
   "execution_count": 297,
   "id": "921a54af",
   "metadata": {},
   "outputs": [
    {
     "data": {
      "text/plain": [
       "dict_items([('name', 'Kairat'), ('email', 'kairosh@kolesa.kz')])"
      ]
     },
     "execution_count": 297,
     "metadata": {},
     "output_type": "execute_result"
    }
   ],
   "source": [
    "my_dict.items()"
   ]
  },
  {
   "cell_type": "code",
   "execution_count": null,
   "id": "5d242904",
   "metadata": {},
   "outputs": [],
   "source": [
    "# Задача: Напишите функцию, которая инвертирует словарь, превращая значения в ключи и наоборот. Предполагается, что значения уникальны.\n"
   ]
  },
  {
   "cell_type": "code",
   "execution_count": null,
   "id": "bf5e7c77",
   "metadata": {},
   "outputs": [],
   "source": [
    "# Задача: Даны два словаря. Напишите функцию, которая объединяет их, приоритет отдаётся второму словарю в случае одинаковых ключей.\n"
   ]
  },
  {
   "cell_type": "markdown",
   "id": "2de3b685",
   "metadata": {},
   "source": [
    "### Кортежи (Tuples)"
   ]
  },
  {
   "cell_type": "markdown",
   "id": "f8d66b7d",
   "metadata": {},
   "source": [
    "Кортеж — это упорядоченная и неизменяемая коллекция элементов. Кортежи могут содержать элементы разных типов."
   ]
  },
  {
   "cell_type": "code",
   "execution_count": 65,
   "id": "9f1024d0",
   "metadata": {},
   "outputs": [],
   "source": [
    "# Создание кортежа\n",
    "my_tuple = (1, 2, 3, 'Python')"
   ]
  },
  {
   "cell_type": "code",
   "execution_count": null,
   "id": "2b4d53b1",
   "metadata": {},
   "outputs": [],
   "source": [
    "menu = ('coffee', 'latte', 'capucino')"
   ]
  },
  {
   "cell_type": "code",
   "execution_count": 66,
   "id": "1c8d8640",
   "metadata": {},
   "outputs": [],
   "source": [
    "a, b, c, p = my_tuple"
   ]
  },
  {
   "cell_type": "code",
   "execution_count": null,
   "id": "db19ab9e",
   "metadata": {},
   "outputs": [],
   "source": [
    "# Доступ к элементам\n",
    "print(my_tuple[2])  # Выведет 3"
   ]
  },
  {
   "cell_type": "code",
   "execution_count": null,
   "id": "e123f91f",
   "metadata": {},
   "outputs": [],
   "source": []
  },
  {
   "cell_type": "markdown",
   "id": "d01c88d5",
   "metadata": {},
   "source": [
    "### Множества (Sets)"
   ]
  },
  {
   "cell_type": "markdown",
   "id": "9c3f9ce8",
   "metadata": {},
   "source": [
    "В Python set является изменяемой коллекцией, предназначенной для хранения уникальных элементов. Основное назначение множества — выполнение различных математических операций над множествами, таких как объединение, пересечение, разность и симметричная разность."
   ]
  },
  {
   "cell_type": "code",
   "execution_count": 40,
   "id": "d2c149fc",
   "metadata": {},
   "outputs": [],
   "source": [
    "# Создание множества с помощью фигурных скобок\n",
    "fruits = {\"apple\", \"banana\", \"cherry\"}\n",
    "\n",
    "# Создание множества с помощью функции set()\n",
    "colors = set([\"red\", \"green\", \"blue\"])\n",
    "\n",
    "# Создание пустого множества\n",
    "empty_set = set()"
   ]
  },
  {
   "cell_type": "code",
   "execution_count": null,
   "id": "f0317c23",
   "metadata": {},
   "outputs": [],
   "source": [
    "# Удаление элемента (приведет к KeyError, если элемент отсутствует)\n",
    "fruits.remove(\"banana\")\n",
    "\n",
    "# Удаление элемента (не приведет к KeyError, если элемент отсутствует)\n",
    "colors.discard(\"green\")\n",
    "\n",
    "# Удаление и возврат произвольного элемента\n",
    "random_element = colors.pop()"
   ]
  },
  {
   "cell_type": "code",
   "execution_count": 72,
   "id": "12b76686",
   "metadata": {},
   "outputs": [],
   "source": [
    "set_a = {1, 2, 3}\n",
    "set_b = {3, 4, 5}\n",
    "\n",
    "# Объединение множеств\n",
    "union_set = set_a | set_b  # Или set_a.union(set_b)\n",
    "\n",
    "# Пересечение множеств\n",
    "intersection_set = set_a & set_b  # Или set_a.intersection(set_b)\n",
    "\n",
    "# Разность множеств\n",
    "difference_set = set_a - set_b  # Или set_a.difference(set_b)\n",
    "\n",
    "# Симметричная разность\n",
    "symmetric_difference_set = set_a ^ set_b  # Или set_a.symmetric_difference(set_b)\n"
   ]
  },
  {
   "cell_type": "code",
   "execution_count": 73,
   "id": "13dadac0",
   "metadata": {},
   "outputs": [
    {
     "data": {
      "text/plain": [
       "{1, 2, 4, 5}"
      ]
     },
     "execution_count": 73,
     "metadata": {},
     "output_type": "execute_result"
    }
   ],
   "source": [
    "# Задача Имеется список numbers = [1, 2, 2, 3, 4, 4, 4, 5]. Преобразуйте этот список в множество, чтобы удалить дубликаты\n",
    "# а затем добавьте в него число 6. Выведите итоговое множество.\n",
    "\n",
    "numbers = [1, 2, 2, 3, 4, 4, 4, 5]"
   ]
  },
  {
   "cell_type": "markdown",
   "id": "deae3b4f",
   "metadata": {},
   "source": [
    "### Неизменяемые множества (Frozensets)"
   ]
  },
  {
   "cell_type": "markdown",
   "id": "b9ef4b19",
   "metadata": {},
   "source": [
    "Неизменяемое множество ведет себя как обычное множество, но его элементы не могут быть изменены после создания."
   ]
  },
  {
   "cell_type": "code",
   "execution_count": null,
   "id": "fc713c3b",
   "metadata": {},
   "outputs": [],
   "source": [
    "# Создание frozenset\n",
    "my_frozenset = frozenset([1, 2, 3, 4, 5])"
   ]
  },
  {
   "cell_type": "markdown",
   "id": "6119b15b",
   "metadata": {},
   "source": [
    "### Строки (Strings)"
   ]
  },
  {
   "cell_type": "code",
   "execution_count": 61,
   "id": "67b22fdb",
   "metadata": {},
   "outputs": [],
   "source": [
    "# Строки можно создавать, заключая текст в одинарные ('), двойные (\") или тройные (''' или \"\"\") кавычки. \n",
    "# Тройные кавычки используются для создания многострочных строк.\n",
    "\n",
    "single_quote_string = 'Good, morning!'\n",
    "double_quote_string = \"Good, morning!\"\n",
    "multiline_string = \"\"\"Это\n",
    "многострочная\n",
    "строка\"\"\""
   ]
  },
  {
   "cell_type": "code",
   "execution_count": 62,
   "id": "7305a5f6",
   "metadata": {},
   "outputs": [
    {
     "name": "stdout",
     "output_type": "stream",
     "text": [
      "Good, morning!\n"
     ]
    }
   ],
   "source": [
    "greeting = \"Good, \" + \"morning!\"\n",
    "print(greeting)  # Вывод: Good, morning!"
   ]
  },
  {
   "cell_type": "code",
   "execution_count": 63,
   "id": "05950f9d",
   "metadata": {},
   "outputs": [
    {
     "name": "stdout",
     "output_type": "stream",
     "text": [
      "12\n"
     ]
    }
   ],
   "source": [
    "# Для определения длины строки используется функция len().\n",
    "length = len(\"Привет, мир!\")\n",
    "print(length)  # Вывод: 12"
   ]
  },
  {
   "cell_type": "code",
   "execution_count": null,
   "id": "b4bd73be",
   "metadata": {},
   "outputs": [],
   "source": [
    "#Доступ к отдельным символам строки можно получить, используя индексацию. Также можно использовать срезы для получения подстрок.\n",
    "text = \"Привет, мир!\"\n",
    "first_char = text[0]  # 'П'\n",
    "slice = text[0:6]  # 'Привет'\n",
    "print(first_char, slice)"
   ]
  },
  {
   "cell_type": "code",
   "execution_count": 64,
   "id": "3b9ee49a",
   "metadata": {},
   "outputs": [
    {
     "name": "stdout",
     "output_type": "stream",
     "text": [
      "привет, мир!\n",
      "ПРИВЕТ, МИР!\n",
      "8\n",
      "Привет, Мир?\n"
     ]
    }
   ],
   "source": [
    "# Строки имеют множество полезных методов, например lower(), upper(), strip(), find(), replace() и многие другие.\n",
    "text = \"Привет, Мир!\"\n",
    "print(text.lower())  # 'привет, мир!'\n",
    "print(text.upper())  # 'ПРИВЕТ, МИР!'\n",
    "print(text.find(\"Мир\"))  # 8\n",
    "print(text.replace(\"!\", \"?\"))  # 'Привет, Мир?'"
   ]
  },
  {
   "cell_type": "markdown",
   "id": "da4b9c4b",
   "metadata": {},
   "source": [
    "https://www.w3schools.com/python/python_ref_string.asp все методы по string"
   ]
  },
  {
   "cell_type": "code",
   "execution_count": null,
   "id": "87fcbc63",
   "metadata": {},
   "outputs": [],
   "source": [
    "# Задача: Напишите программу, которая удаляет все цифры из заданной строки.\n"
   ]
  },
  {
   "cell_type": "code",
   "execution_count": null,
   "id": "163a12e7",
   "metadata": {},
   "outputs": [],
   "source": [
    "# Задача: Дан текст, нужно составить частотный словарь слов в этом тексте (сколько раз каждое слово встречается). Слова в тексте разделены пробелами.\n"
   ]
  },
  {
   "cell_type": "markdown",
   "id": "ab68211d",
   "metadata": {},
   "source": [
    "| Data Structure | Mutable/Immutable | Ordered/Unordered |\n",
    "|----------------|-------------------|-------------------|\n",
    "| List           | Mutable           | Ordered           |\n",
    "| Tuple          | Immutable         | Ordered           |\n",
    "| Dictionary     | Mutable           | Unordered*        |\n",
    "| Set            | Mutable           | Unordered         |\n",
    "| Frozenset      | Immutable         | Unordered         |\n"
   ]
  },
  {
   "cell_type": "code",
   "execution_count": null,
   "id": "68428666",
   "metadata": {},
   "outputs": [],
   "source": []
  }
 ],
 "metadata": {
  "kernelspec": {
   "display_name": "Python 3 (ipykernel)",
   "language": "python",
   "name": "python3"
  },
  "language_info": {
   "codemirror_mode": {
    "name": "ipython",
    "version": 3
   },
   "file_extension": ".py",
   "mimetype": "text/x-python",
   "name": "python",
   "nbconvert_exporter": "python",
   "pygments_lexer": "ipython3",
   "version": "3.10.12"
  }
 },
 "nbformat": 4,
 "nbformat_minor": 5
}
